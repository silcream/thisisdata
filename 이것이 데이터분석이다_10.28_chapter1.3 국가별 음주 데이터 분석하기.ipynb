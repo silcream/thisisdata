{
 "cells": [
  {
   "cell_type": "code",
   "execution_count": 1,
   "id": "eb2dc526",
   "metadata": {},
   "outputs": [],
   "source": [
    "%matplotlib inline"
   ]
  },
  {
   "cell_type": "markdown",
   "id": "08d873b5",
   "metadata": {},
   "source": [
    "# 데이터의 기초 정보 "
   ]
  },
  {
   "cell_type": "code",
   "execution_count": 2,
   "id": "f13d5e9c",
   "metadata": {},
   "outputs": [],
   "source": [
    "# -*- coding: utf-8 -*-\n",
    "\n",
    "import pandas as pd\n",
    "import numpy as np\n",
    "import matplotlib.pyplot as plt\n",
    "\n",
    "file_path = 'C:/Users/Flora/datapython/data/drinks.csv'\n",
    "drinks = pd.read_csv(file_path) #Dataframe 형태"
   ]
  },
  {
   "cell_type": "code",
   "execution_count": 3,
   "id": "5c8d4eea",
   "metadata": {},
   "outputs": [
    {
     "name": "stdout",
     "output_type": "stream",
     "text": [
      "<class 'pandas.core.frame.DataFrame'>\n",
      "RangeIndex: 193 entries, 0 to 192\n",
      "Data columns (total 6 columns):\n",
      " #   Column                        Non-Null Count  Dtype  \n",
      "---  ------                        --------------  -----  \n",
      " 0   country                       193 non-null    object \n",
      " 1   beer_servings                 193 non-null    int64  \n",
      " 2   spirit_servings               193 non-null    int64  \n",
      " 3   wine_servings                 193 non-null    int64  \n",
      " 4   total_litres_of_pure_alcohol  193 non-null    float64\n",
      " 5   continent                     170 non-null    object \n",
      "dtypes: float64(1), int64(3), object(2)\n",
      "memory usage: 9.2+ KB\n",
      "None\n"
     ]
    }
   ],
   "source": [
    "print(drinks.info()) #비어 있는 파일이 보임\n",
    "\n",
    "# 국가정보\n",
    "# beer 소비량\n",
    "# spirit 소비량\n",
    "# wind 소비량\n",
    "# 총 알코올 소비량\n",
    "# 국가의 대륙 정보 - null값 있음(23개)"
   ]
  },
  {
   "cell_type": "code",
   "execution_count": 4,
   "id": "6074d6aa",
   "metadata": {},
   "outputs": [
    {
     "data": {
      "text/html": [
       "<div>\n",
       "<style scoped>\n",
       "    .dataframe tbody tr th:only-of-type {\n",
       "        vertical-align: middle;\n",
       "    }\n",
       "\n",
       "    .dataframe tbody tr th {\n",
       "        vertical-align: top;\n",
       "    }\n",
       "\n",
       "    .dataframe thead th {\n",
       "        text-align: right;\n",
       "    }\n",
       "</style>\n",
       "<table border=\"1\" class=\"dataframe\">\n",
       "  <thead>\n",
       "    <tr style=\"text-align: right;\">\n",
       "      <th></th>\n",
       "      <th>country</th>\n",
       "      <th>beer_servings</th>\n",
       "      <th>spirit_servings</th>\n",
       "      <th>wine_servings</th>\n",
       "      <th>total_litres_of_pure_alcohol</th>\n",
       "      <th>continent</th>\n",
       "    </tr>\n",
       "  </thead>\n",
       "  <tbody>\n",
       "    <tr>\n",
       "      <th>0</th>\n",
       "      <td>Afghanistan</td>\n",
       "      <td>0</td>\n",
       "      <td>0</td>\n",
       "      <td>0</td>\n",
       "      <td>0.0</td>\n",
       "      <td>AS</td>\n",
       "    </tr>\n",
       "    <tr>\n",
       "      <th>1</th>\n",
       "      <td>Albania</td>\n",
       "      <td>89</td>\n",
       "      <td>132</td>\n",
       "      <td>54</td>\n",
       "      <td>4.9</td>\n",
       "      <td>EU</td>\n",
       "    </tr>\n",
       "    <tr>\n",
       "      <th>2</th>\n",
       "      <td>Algeria</td>\n",
       "      <td>25</td>\n",
       "      <td>0</td>\n",
       "      <td>14</td>\n",
       "      <td>0.7</td>\n",
       "      <td>AF</td>\n",
       "    </tr>\n",
       "    <tr>\n",
       "      <th>3</th>\n",
       "      <td>Andorra</td>\n",
       "      <td>245</td>\n",
       "      <td>138</td>\n",
       "      <td>312</td>\n",
       "      <td>12.4</td>\n",
       "      <td>EU</td>\n",
       "    </tr>\n",
       "    <tr>\n",
       "      <th>4</th>\n",
       "      <td>Angola</td>\n",
       "      <td>217</td>\n",
       "      <td>57</td>\n",
       "      <td>45</td>\n",
       "      <td>5.9</td>\n",
       "      <td>AF</td>\n",
       "    </tr>\n",
       "    <tr>\n",
       "      <th>5</th>\n",
       "      <td>Antigua &amp; Barbuda</td>\n",
       "      <td>102</td>\n",
       "      <td>128</td>\n",
       "      <td>45</td>\n",
       "      <td>4.9</td>\n",
       "      <td>NaN</td>\n",
       "    </tr>\n",
       "    <tr>\n",
       "      <th>6</th>\n",
       "      <td>Argentina</td>\n",
       "      <td>193</td>\n",
       "      <td>25</td>\n",
       "      <td>221</td>\n",
       "      <td>8.3</td>\n",
       "      <td>SA</td>\n",
       "    </tr>\n",
       "    <tr>\n",
       "      <th>7</th>\n",
       "      <td>Armenia</td>\n",
       "      <td>21</td>\n",
       "      <td>179</td>\n",
       "      <td>11</td>\n",
       "      <td>3.8</td>\n",
       "      <td>EU</td>\n",
       "    </tr>\n",
       "    <tr>\n",
       "      <th>8</th>\n",
       "      <td>Australia</td>\n",
       "      <td>261</td>\n",
       "      <td>72</td>\n",
       "      <td>212</td>\n",
       "      <td>10.4</td>\n",
       "      <td>OC</td>\n",
       "    </tr>\n",
       "    <tr>\n",
       "      <th>9</th>\n",
       "      <td>Austria</td>\n",
       "      <td>279</td>\n",
       "      <td>75</td>\n",
       "      <td>191</td>\n",
       "      <td>9.7</td>\n",
       "      <td>EU</td>\n",
       "    </tr>\n",
       "  </tbody>\n",
       "</table>\n",
       "</div>"
      ],
      "text/plain": [
       "             country  beer_servings  spirit_servings  wine_servings  \\\n",
       "0        Afghanistan              0                0              0   \n",
       "1            Albania             89              132             54   \n",
       "2            Algeria             25                0             14   \n",
       "3            Andorra            245              138            312   \n",
       "4             Angola            217               57             45   \n",
       "5  Antigua & Barbuda            102              128             45   \n",
       "6          Argentina            193               25            221   \n",
       "7            Armenia             21              179             11   \n",
       "8          Australia            261               72            212   \n",
       "9            Austria            279               75            191   \n",
       "\n",
       "   total_litres_of_pure_alcohol continent  \n",
       "0                           0.0        AS  \n",
       "1                           4.9        EU  \n",
       "2                           0.7        AF  \n",
       "3                          12.4        EU  \n",
       "4                           5.9        AF  \n",
       "5                           4.9       NaN  \n",
       "6                           8.3        SA  \n",
       "7                           3.8        EU  \n",
       "8                          10.4        OC  \n",
       "9                           9.7        EU  "
      ]
     },
     "execution_count": 4,
     "metadata": {},
     "output_type": "execute_result"
    }
   ],
   "source": [
    "drinks.head(10)"
   ]
  },
  {
   "cell_type": "code",
   "execution_count": 5,
   "id": "588620ff",
   "metadata": {},
   "outputs": [
    {
     "data": {
      "text/html": [
       "<div>\n",
       "<style scoped>\n",
       "    .dataframe tbody tr th:only-of-type {\n",
       "        vertical-align: middle;\n",
       "    }\n",
       "\n",
       "    .dataframe tbody tr th {\n",
       "        vertical-align: top;\n",
       "    }\n",
       "\n",
       "    .dataframe thead th {\n",
       "        text-align: right;\n",
       "    }\n",
       "</style>\n",
       "<table border=\"1\" class=\"dataframe\">\n",
       "  <thead>\n",
       "    <tr style=\"text-align: right;\">\n",
       "      <th></th>\n",
       "      <th>beer_servings</th>\n",
       "      <th>spirit_servings</th>\n",
       "      <th>wine_servings</th>\n",
       "      <th>total_litres_of_pure_alcohol</th>\n",
       "    </tr>\n",
       "  </thead>\n",
       "  <tbody>\n",
       "    <tr>\n",
       "      <th>count</th>\n",
       "      <td>193.000000</td>\n",
       "      <td>193.000000</td>\n",
       "      <td>193.000000</td>\n",
       "      <td>193.000000</td>\n",
       "    </tr>\n",
       "    <tr>\n",
       "      <th>mean</th>\n",
       "      <td>106.160622</td>\n",
       "      <td>80.994819</td>\n",
       "      <td>49.450777</td>\n",
       "      <td>4.717098</td>\n",
       "    </tr>\n",
       "    <tr>\n",
       "      <th>std</th>\n",
       "      <td>101.143103</td>\n",
       "      <td>88.284312</td>\n",
       "      <td>79.697598</td>\n",
       "      <td>3.773298</td>\n",
       "    </tr>\n",
       "    <tr>\n",
       "      <th>min</th>\n",
       "      <td>0.000000</td>\n",
       "      <td>0.000000</td>\n",
       "      <td>0.000000</td>\n",
       "      <td>0.000000</td>\n",
       "    </tr>\n",
       "    <tr>\n",
       "      <th>25%</th>\n",
       "      <td>20.000000</td>\n",
       "      <td>4.000000</td>\n",
       "      <td>1.000000</td>\n",
       "      <td>1.300000</td>\n",
       "    </tr>\n",
       "    <tr>\n",
       "      <th>50%</th>\n",
       "      <td>76.000000</td>\n",
       "      <td>56.000000</td>\n",
       "      <td>8.000000</td>\n",
       "      <td>4.200000</td>\n",
       "    </tr>\n",
       "    <tr>\n",
       "      <th>75%</th>\n",
       "      <td>188.000000</td>\n",
       "      <td>128.000000</td>\n",
       "      <td>59.000000</td>\n",
       "      <td>7.200000</td>\n",
       "    </tr>\n",
       "    <tr>\n",
       "      <th>max</th>\n",
       "      <td>376.000000</td>\n",
       "      <td>438.000000</td>\n",
       "      <td>370.000000</td>\n",
       "      <td>14.400000</td>\n",
       "    </tr>\n",
       "  </tbody>\n",
       "</table>\n",
       "</div>"
      ],
      "text/plain": [
       "       beer_servings  spirit_servings  wine_servings  \\\n",
       "count     193.000000       193.000000     193.000000   \n",
       "mean      106.160622        80.994819      49.450777   \n",
       "std       101.143103        88.284312      79.697598   \n",
       "min         0.000000         0.000000       0.000000   \n",
       "25%        20.000000         4.000000       1.000000   \n",
       "50%        76.000000        56.000000       8.000000   \n",
       "75%       188.000000       128.000000      59.000000   \n",
       "max       376.000000       438.000000     370.000000   \n",
       "\n",
       "       total_litres_of_pure_alcohol  \n",
       "count                    193.000000  \n",
       "mean                       4.717098  \n",
       "std                        3.773298  \n",
       "min                        0.000000  \n",
       "25%                        1.300000  \n",
       "50%                        4.200000  \n",
       "75%                        7.200000  \n",
       "max                       14.400000  "
      ]
     },
     "execution_count": 5,
     "metadata": {},
     "output_type": "execute_result"
    }
   ],
   "source": [
    "drinks.describe() #피처의 수치적 정보"
   ]
  },
  {
   "cell_type": "markdown",
   "id": "1f2558eb",
   "metadata": {},
   "source": [
    "# 인사이트의 발견 : 탐색과 시각화하기"
   ]
  },
  {
   "cell_type": "markdown",
   "id": "b30fa294",
   "metadata": {},
   "source": [
    "피처간의 상관관계 살펴보기\n",
    "\n",
    "\n",
    "1. 단순 상관 분석 방법 : 피처 1대1 (두 변수간의 선형적 관계)\n",
    "2. 다중 상관 분석 : 피처 n개가 서로서로 어떤 관계가 있는가\n",
    "\n",
    "// 상관분석 : 두 변수간의 선형적 관계를 상관계수로 표현하는 것\n",
    "                공분산만으로 두 확률변수의 상관관계 구하면 단위크기에 영향\n",
    "                ->> 값은 -1 ~ 1사이로 변환 (1에 가깝다면 양의 상관관계)"
   ]
  },
  {
   "cell_type": "code",
   "execution_count": 6,
   "id": "a786cafb",
   "metadata": {},
   "outputs": [],
   "source": [
    "# 상관관계 살펴볼 대상은 beer, wine, spirit, pure alcohol임 (술의 종류만 다름)\n",
    "# 두 피처가 얼마나 연관 ex) 키가 크면 몸무게가 많이 나간다 같은 느낌 얼마나 관계가 있는가"
   ]
  },
  {
   "cell_type": "markdown",
   "id": "ace79ccb",
   "metadata": {},
   "source": [
    "### 단순 상관관계 분석 방법 - pearson 방법 이용"
   ]
  },
  {
   "cell_type": "markdown",
   "id": "09a57105",
   "metadata": {},
   "source": [
    "#### 두 피처간의 상관관계"
   ]
  },
  {
   "cell_type": "code",
   "execution_count": 7,
   "id": "b03b96bd",
   "metadata": {},
   "outputs": [
    {
     "name": "stdout",
     "output_type": "stream",
     "text": [
      "               beer_servings  wine_servings\n",
      "beer_servings       1.000000       0.527172\n",
      "wine_servings       0.527172       1.000000\n"
     ]
    }
   ],
   "source": [
    "corr = drinks[['beer_servings', 'wine_servings']].corr(method = 'pearson')\n",
    "print(corr)"
   ]
  },
  {
   "cell_type": "markdown",
   "id": "a01dd12e",
   "metadata": {},
   "source": [
    "#### 여러 피처간의 상관관계"
   ]
  },
  {
   "cell_type": "code",
   "execution_count": 8,
   "id": "5851c38b",
   "metadata": {},
   "outputs": [
    {
     "name": "stdout",
     "output_type": "stream",
     "text": [
      "                              beer_servings  spirit_servings  wine_servings  \\\n",
      "beer_servings                      1.000000         0.458819       0.527172   \n",
      "spirit_servings                    0.458819         1.000000       0.194797   \n",
      "wine_servings                      0.527172         0.194797       1.000000   \n",
      "total_litres_of_pure_alcohol       0.835839         0.654968       0.667598   \n",
      "\n",
      "                              total_litres_of_pure_alcohol  \n",
      "beer_servings                                     0.835839  \n",
      "spirit_servings                                   0.654968  \n",
      "wine_servings                                     0.667598  \n",
      "total_litres_of_pure_alcohol                      1.000000  \n"
     ]
    }
   ],
   "source": [
    "cols = ['beer_servings', 'spirit_servings', 'wine_servings', 'total_litres_of_pure_alcohol']\n",
    "corr = drinks[cols].corr(method = 'pearson') #correlation\n",
    "print(corr)"
   ]
  },
  {
   "cell_type": "markdown",
   "id": "7936985a",
   "metadata": {},
   "source": [
    "##### 시각화"
   ]
  },
  {
   "cell_type": "code",
   "execution_count": 9,
   "id": "718550de",
   "metadata": {},
   "outputs": [
    {
     "name": "stdout",
     "output_type": "stream",
     "text": [
      "Requirement already satisfied: seaborn in c:\\users\\flora\\appdata\\local\\programs\\python\\python39\\lib\\site-packages (0.11.2)\n",
      "Requirement already satisfied: numpy>=1.15 in c:\\users\\flora\\appdata\\local\\programs\\python\\python39\\lib\\site-packages (from seaborn) (1.21.2)\n",
      "Requirement already satisfied: matplotlib>=2.2 in c:\\users\\flora\\appdata\\local\\programs\\python\\python39\\lib\\site-packages (from seaborn) (3.4.3)\n",
      "Requirement already satisfied: pandas>=0.23 in c:\\users\\flora\\appdata\\local\\programs\\python\\python39\\lib\\site-packages (from seaborn) (1.3.3)\n",
      "Requirement already satisfied: scipy>=1.0 in c:\\users\\flora\\appdata\\local\\programs\\python\\python39\\lib\\site-packages (from seaborn) (1.7.1)\n",
      "Requirement already satisfied: pillow>=6.2.0 in c:\\users\\flora\\appdata\\local\\programs\\python\\python39\\lib\\site-packages (from matplotlib>=2.2->seaborn) (8.3.2)\n",
      "Requirement already satisfied: python-dateutil>=2.7 in c:\\users\\flora\\appdata\\local\\programs\\python\\python39\\lib\\site-packages (from matplotlib>=2.2->seaborn) (2.8.2)\n",
      "Requirement already satisfied: pyparsing>=2.2.1 in c:\\users\\flora\\appdata\\local\\programs\\python\\python39\\lib\\site-packages (from matplotlib>=2.2->seaborn) (2.4.7)\n",
      "Requirement already satisfied: kiwisolver>=1.0.1 in c:\\users\\flora\\appdata\\local\\programs\\python\\python39\\lib\\site-packages (from matplotlib>=2.2->seaborn) (1.3.2)\n",
      "Requirement already satisfied: cycler>=0.10 in c:\\users\\flora\\appdata\\local\\programs\\python\\python39\\lib\\site-packages (from matplotlib>=2.2->seaborn) (0.10.0)\n",
      "Requirement already satisfied: six in c:\\users\\flora\\appdata\\local\\programs\\python\\python39\\lib\\site-packages (from cycler>=0.10->matplotlib>=2.2->seaborn) (1.16.0)\n",
      "Requirement already satisfied: pytz>=2017.3 in c:\\users\\flora\\appdata\\local\\programs\\python\\python39\\lib\\site-packages (from pandas>=0.23->seaborn) (2021.3)\n"
     ]
    },
    {
     "name": "stderr",
     "output_type": "stream",
     "text": [
      "WARNING: You are using pip version 21.2.4; however, version 21.3 is available.\n",
      "You should consider upgrading via the 'c:\\users\\flora\\appdata\\local\\programs\\python\\python39\\python.exe -m pip install --upgrade pip' command.\n"
     ]
    }
   ],
   "source": [
    "!pip install seaborn"
   ]
  },
  {
   "cell_type": "markdown",
   "id": "fde2ba37",
   "metadata": {},
   "source": [
    "##### 1. heatmap"
   ]
  },
  {
   "cell_type": "code",
   "execution_count": 10,
   "id": "d395c11b",
   "metadata": {},
   "outputs": [
    {
     "data": {
      "image/png": "[encoded data removed]",
      "text/plain": [
       "<Figure size 432x288 with 2 Axes>"
      ]
     },
     "metadata": {},
     "output_type": "display_data"
    }
   ],
   "source": [
    "import seaborn as sns\n",
    "\n",
    "cols_view = ['beer', 'spirit', 'wine', 'alcohol']\n",
    "sns.set(font_scale=1.5)\n",
    "hm = sns.heatmap(corr.values, #위에서 계산한 행렬값을 넣음\n",
    "                  cbar=True,\n",
    "                  annot =True,\n",
    "                  square = True,\n",
    "                  fmt = '.2f',\n",
    "                  annot_kws = {'size': 15},\n",
    "                  yticklabels=cols_view,\n",
    "                  xticklabels=cols_view)\n",
    "\n",
    "\n",
    "plt.tight_layout()\n",
    "plt.show()"
   ]
  },
  {
   "cell_type": "markdown",
   "id": "586f855d",
   "metadata": {},
   "source": [
    "##### 2. scatter plot"
   ]
  },
  {
   "cell_type": "code",
   "execution_count": 11,
   "id": "5210bc2c",
   "metadata": {},
   "outputs": [
    {
     "data": {
      "image/png": "[encoded data removed]",
      "text/plain": [
       "<Figure size 720x720 with 20 Axes>"
      ]
     },
     "metadata": {},
     "output_type": "display_data"
    }
   ],
   "source": [
    "sns.set(style = 'whitegrid', context = 'notebook')\n",
    "sns.pairplot(drinks[['beer_servings', 'spirit_servings', #데이터프레임에서 구하고싶은 값(대괄호 2번 써야 함)\n",
    "                    'wine_servings', 'total_litres_of_pure_alcohol']], height = 2.5)\n",
    "\n",
    "plt.show()"
   ]
  },
  {
   "cell_type": "markdown",
   "id": "13f46fbb",
   "metadata": {},
   "source": [
    "#  탐색적분석 : 개념적 탐색 분석하기"
   ]
  },
  {
   "cell_type": "markdown",
   "id": "ee3c1bd5",
   "metadata": {},
   "source": [
    "## 결측 데이터 전처리 - continent column 에 대한 결측 데이터 처리\n",
    "\n",
    "#### 대륙에 대한 정보가 없는 국가를 others, ot라는 대륙으로 새롭게 정의 - fillna() 함수 이용"
   ]
  },
  {
   "cell_type": "code",
   "execution_count": 12,
   "id": "933e7e23",
   "metadata": {},
   "outputs": [
    {
     "name": "stdout",
     "output_type": "stream",
     "text": [
      "country                          0\n",
      "beer_servings                    0\n",
      "spirit_servings                  0\n",
      "wine_servings                    0\n",
      "total_litres_of_pure_alcohol     0\n",
      "continent                       23\n",
      "dtype: int64\n",
      "--------------------------------\n",
      "country                          object\n",
      "beer_servings                     int64\n",
      "spirit_servings                   int64\n",
      "wine_servings                     int64\n",
      "total_litres_of_pure_alcohol    float64\n",
      "continent                        object\n",
      "dtype: object\n"
     ]
    }
   ],
   "source": [
    "print(drinks.isnull().sum())\n",
    "print(\"--------------------------------\")\n",
    "print(drinks.dtypes)"
   ]
  },
  {
   "cell_type": "code",
   "execution_count": 17,
   "id": "8deffb92",
   "metadata": {},
   "outputs": [],
   "source": [
    "drinks['continent'] = drinks['continent'].fillna('OT')\n",
    "#결측값을 OT로 채움"
   ]
  },
  {
   "cell_type": "code",
   "execution_count": 18,
   "id": "9341e110",
   "metadata": {},
   "outputs": [
    {
     "data": {
      "text/html": [
       "<div>\n",
       "<style scoped>\n",
       "    .dataframe tbody tr th:only-of-type {\n",
       "        vertical-align: middle;\n",
       "    }\n",
       "\n",
       "    .dataframe tbody tr th {\n",
       "        vertical-align: top;\n",
       "    }\n",
       "\n",
       "    .dataframe thead th {\n",
       "        text-align: right;\n",
       "    }\n",
       "</style>\n",
       "<table border=\"1\" class=\"dataframe\">\n",
       "  <thead>\n",
       "    <tr style=\"text-align: right;\">\n",
       "      <th></th>\n",
       "      <th>country</th>\n",
       "      <th>beer_servings</th>\n",
       "      <th>spirit_servings</th>\n",
       "      <th>wine_servings</th>\n",
       "      <th>total_litres_of_pure_alcohol</th>\n",
       "      <th>continent</th>\n",
       "    </tr>\n",
       "  </thead>\n",
       "  <tbody>\n",
       "    <tr>\n",
       "      <th>0</th>\n",
       "      <td>Afghanistan</td>\n",
       "      <td>0</td>\n",
       "      <td>0</td>\n",
       "      <td>0</td>\n",
       "      <td>0.0</td>\n",
       "      <td>AS</td>\n",
       "    </tr>\n",
       "    <tr>\n",
       "      <th>1</th>\n",
       "      <td>Albania</td>\n",
       "      <td>89</td>\n",
       "      <td>132</td>\n",
       "      <td>54</td>\n",
       "      <td>4.9</td>\n",
       "      <td>EU</td>\n",
       "    </tr>\n",
       "    <tr>\n",
       "      <th>2</th>\n",
       "      <td>Algeria</td>\n",
       "      <td>25</td>\n",
       "      <td>0</td>\n",
       "      <td>14</td>\n",
       "      <td>0.7</td>\n",
       "      <td>AF</td>\n",
       "    </tr>\n",
       "    <tr>\n",
       "      <th>3</th>\n",
       "      <td>Andorra</td>\n",
       "      <td>245</td>\n",
       "      <td>138</td>\n",
       "      <td>312</td>\n",
       "      <td>12.4</td>\n",
       "      <td>EU</td>\n",
       "    </tr>\n",
       "    <tr>\n",
       "      <th>4</th>\n",
       "      <td>Angola</td>\n",
       "      <td>217</td>\n",
       "      <td>57</td>\n",
       "      <td>45</td>\n",
       "      <td>5.9</td>\n",
       "      <td>AF</td>\n",
       "    </tr>\n",
       "    <tr>\n",
       "      <th>5</th>\n",
       "      <td>Antigua &amp; Barbuda</td>\n",
       "      <td>102</td>\n",
       "      <td>128</td>\n",
       "      <td>45</td>\n",
       "      <td>4.9</td>\n",
       "      <td>OT</td>\n",
       "    </tr>\n",
       "    <tr>\n",
       "      <th>6</th>\n",
       "      <td>Argentina</td>\n",
       "      <td>193</td>\n",
       "      <td>25</td>\n",
       "      <td>221</td>\n",
       "      <td>8.3</td>\n",
       "      <td>SA</td>\n",
       "    </tr>\n",
       "    <tr>\n",
       "      <th>7</th>\n",
       "      <td>Armenia</td>\n",
       "      <td>21</td>\n",
       "      <td>179</td>\n",
       "      <td>11</td>\n",
       "      <td>3.8</td>\n",
       "      <td>EU</td>\n",
       "    </tr>\n",
       "    <tr>\n",
       "      <th>8</th>\n",
       "      <td>Australia</td>\n",
       "      <td>261</td>\n",
       "      <td>72</td>\n",
       "      <td>212</td>\n",
       "      <td>10.4</td>\n",
       "      <td>OC</td>\n",
       "    </tr>\n",
       "    <tr>\n",
       "      <th>9</th>\n",
       "      <td>Austria</td>\n",
       "      <td>279</td>\n",
       "      <td>75</td>\n",
       "      <td>191</td>\n",
       "      <td>9.7</td>\n",
       "      <td>EU</td>\n",
       "    </tr>\n",
       "  </tbody>\n",
       "</table>\n",
       "</div>"
      ],
      "text/plain": [
       "             country  beer_servings  spirit_servings  wine_servings  \\\n",
       "0        Afghanistan              0                0              0   \n",
       "1            Albania             89              132             54   \n",
       "2            Algeria             25                0             14   \n",
       "3            Andorra            245              138            312   \n",
       "4             Angola            217               57             45   \n",
       "5  Antigua & Barbuda            102              128             45   \n",
       "6          Argentina            193               25            221   \n",
       "7            Armenia             21              179             11   \n",
       "8          Australia            261               72            212   \n",
       "9            Austria            279               75            191   \n",
       "\n",
       "   total_litres_of_pure_alcohol continent  \n",
       "0                           0.0        AS  \n",
       "1                           4.9        EU  \n",
       "2                           0.7        AF  \n",
       "3                          12.4        EU  \n",
       "4                           5.9        AF  \n",
       "5                           4.9        OT  \n",
       "6                           8.3        SA  \n",
       "7                           3.8        EU  \n",
       "8                          10.4        OC  \n",
       "9                           9.7        EU  "
      ]
     },
     "execution_count": 18,
     "metadata": {},
     "output_type": "execute_result"
    }
   ],
   "source": [
    "drinks.head(10)"
   ]
  },
  {
   "cell_type": "code",
   "execution_count": 21,
   "id": "eeb95cbc",
   "metadata": {},
   "outputs": [
    {
     "data": {
      "text/plain": [
       "AF    53\n",
       "EU    45\n",
       "AS    44\n",
       "OT    23\n",
       "OC    16\n",
       "SA    12\n",
       "Name: continent, dtype: int64"
      ]
     },
     "execution_count": 21,
     "metadata": {},
     "output_type": "execute_result"
    }
   ],
   "source": [
    "drinks['continent'].value_counts() \n",
    "# 어디에 몇개가 있는지 알 수 있지만 시각화가 제대로 안됨 -> 파이차트 이용"
   ]
  },
  {
   "cell_type": "markdown",
   "id": "04831cd3",
   "metadata": {},
   "source": [
    "#### 파이차트 시각화 - plt.pie()"
   ]
  },
  {
   "cell_type": "code",
   "execution_count": 28,
   "id": "7fef44d9",
   "metadata": {},
   "outputs": [
    {
     "data": {
      "text/plain": [
       "Text(0.5, 1.0, 'null data to \"OT\"')"
      ]
     },
     "execution_count": 28,
     "metadata": {},
     "output_type": "execute_result"
    },
    {
     "data": {
      "image/png": "[encoded data removed]",
      "text/plain": [
       "<Figure size 432x288 with 1 Axes>"
      ]
     },
     "metadata": {},
     "output_type": "display_data"
    }
   ],
   "source": [
    "labels = drinks['continent'].value_counts().index.tolist() # 원 값의 이름\n",
    "fracs1 = drinks['continent'].value_counts().values.tolist() #원 안의 값들\n",
    "explode = (0, 0, 0, 0.25, 0, 0) #원에서 얼마만큼 벗어나는가\n",
    "\n",
    "plt.pie(fracs1, explode = explode, labels = labels, autopct = '%.0f%%')\n",
    "plt.title('null data to \\\"OT\\\"')"
   ]
  },
  {
   "cell_type": "markdown",
   "id": "b5a59424",
   "metadata": {},
   "source": [
    "### applt, agg 함수를 통한 대륙별 분석"
   ]
  },
  {
   "cell_type": "code",
   "execution_count": 37,
   "id": "f791085f",
   "metadata": {},
   "outputs": [
    {
     "data": {
      "text/html": [
       "<div>\n",
       "<style scoped>\n",
       "    .dataframe tbody tr th:only-of-type {\n",
       "        vertical-align: middle;\n",
       "    }\n",
       "\n",
       "    .dataframe tbody tr th {\n",
       "        vertical-align: top;\n",
       "    }\n",
       "\n",
       "    .dataframe thead th {\n",
       "        text-align: right;\n",
       "    }\n",
       "</style>\n",
       "<table border=\"1\" class=\"dataframe\">\n",
       "  <thead>\n",
       "    <tr style=\"text-align: right;\">\n",
       "      <th></th>\n",
       "      <th>mean</th>\n",
       "      <th>min</th>\n",
       "      <th>max</th>\n",
       "      <th>sum</th>\n",
       "    </tr>\n",
       "    <tr>\n",
       "      <th>continent</th>\n",
       "      <th></th>\n",
       "      <th></th>\n",
       "      <th></th>\n",
       "      <th></th>\n",
       "    </tr>\n",
       "  </thead>\n",
       "  <tbody>\n",
       "    <tr>\n",
       "      <th>AF</th>\n",
       "      <td>16.339623</td>\n",
       "      <td>0</td>\n",
       "      <td>152</td>\n",
       "      <td>866</td>\n",
       "    </tr>\n",
       "    <tr>\n",
       "      <th>AS</th>\n",
       "      <td>60.840909</td>\n",
       "      <td>0</td>\n",
       "      <td>326</td>\n",
       "      <td>2677</td>\n",
       "    </tr>\n",
       "    <tr>\n",
       "      <th>EU</th>\n",
       "      <td>132.555556</td>\n",
       "      <td>0</td>\n",
       "      <td>373</td>\n",
       "      <td>5965</td>\n",
       "    </tr>\n",
       "    <tr>\n",
       "      <th>OC</th>\n",
       "      <td>58.437500</td>\n",
       "      <td>0</td>\n",
       "      <td>254</td>\n",
       "      <td>935</td>\n",
       "    </tr>\n",
       "    <tr>\n",
       "      <th>OT</th>\n",
       "      <td>165.739130</td>\n",
       "      <td>68</td>\n",
       "      <td>438</td>\n",
       "      <td>3812</td>\n",
       "    </tr>\n",
       "  </tbody>\n",
       "</table>\n",
       "</div>"
      ],
      "text/plain": [
       "                 mean  min  max   sum\n",
       "continent                            \n",
       "AF          16.339623    0  152   866\n",
       "AS          60.840909    0  326  2677\n",
       "EU         132.555556    0  373  5965\n",
       "OC          58.437500    0  254   935\n",
       "OT         165.739130   68  438  3812"
      ]
     },
     "execution_count": 37,
     "metadata": {},
     "output_type": "execute_result"
    }
   ],
   "source": [
    "result = drinks.groupby('continent').spirit_servings.agg(['mean', 'min', 'max', 'sum'])\n",
    "result.head()\n",
    "\n",
    "# agg : 여러 개의 함수를 여러 열에 적용\n",
    "\n",
    "# 모든열에 여러 함수를 매핑 : group객체.agg([함수1,함수2,함수3,…])\n",
    "# 각 열마다 다른 함수를 매핑 : group객체.agg({‘열1’: 함수1, ‘열2’:함수2, …})"
   ]
  },
  {
   "cell_type": "markdown",
   "id": "657b074b",
   "metadata": {},
   "source": [
    "### 전체 평균보다 많은 알코올을 섭취하는 대륙 구하기"
   ]
  },
  {
   "cell_type": "code",
   "execution_count": 33,
   "id": "98217653",
   "metadata": {},
   "outputs": [
    {
     "name": "stdout",
     "output_type": "stream",
     "text": [
      "continent\n",
      "EU    8.617778\n",
      "OT    5.995652\n",
      "SA    6.308333\n",
      "Name: total_litres_of_pure_alcohol, dtype: float64\n"
     ]
    }
   ],
   "source": [
    "total_mean = drinks.total_litres_of_pure_alcohol.mean()\n",
    "continent_mean = drinks.groupby('continent')['total_litres_of_pure_alcohol'].mean()\n",
    "continent_over_mean = continent_mean[continent_mean >= total_mean] #overmean을 넘는것만\n",
    "print(continent_over_mean)\n",
    "\n",
    "# EU, OT, SA가 평균보다 술을 많이 마시는 대륙임"
   ]
  },
  {
   "cell_type": "code",
   "execution_count": 38,
   "id": "4c0703b9",
   "metadata": {},
   "outputs": [
    {
     "data": {
      "text/plain": [
       "4.717098445595855"
      ]
     },
     "execution_count": 38,
     "metadata": {},
     "output_type": "execute_result"
    }
   ],
   "source": [
    "total_mean"
   ]
  },
  {
   "cell_type": "markdown",
   "id": "fc89aa13",
   "metadata": {},
   "source": [
    "### 평균 beer_servings가 가장 높은 대륙 \n",
    "\n",
    "#### idxmax() 함수 적용 : 시리즈객체에서 값이 가장 큰 index를 반환"
   ]
  },
  {
   "cell_type": "code",
   "execution_count": 34,
   "id": "89033927",
   "metadata": {},
   "outputs": [
    {
     "name": "stdout",
     "output_type": "stream",
     "text": [
      "EU\n"
     ]
    }
   ],
   "source": [
    "beer_continent = drinks.groupby('continent').beer_servings.mean().idxmax()\n",
    "print(beer_continent) #유럽이 제일 술 많이 마심^^"
   ]
  },
  {
   "cell_type": "markdown",
   "id": "0491d369",
   "metadata": {},
   "source": [
    "### 시각화 -> bar plot"
   ]
  },
  {
   "cell_type": "code",
   "execution_count": 45,
   "id": "3c9c90af",
   "metadata": {},
   "outputs": [
    {
     "data": {
      "image/png": "[encoded data removed]",
      "text/plain": [
       "<Figure size 432x288 with 1 Axes>"
      ]
     },
     "metadata": {},
     "output_type": "display_data"
    }
   ],
   "source": [
    "n_groups = len(result.index) #위에서 쓴 result 가져옴\n",
    "means = result['mean'].tolist()\n",
    "mins = result['min'].tolist()\n",
    "maxs = result['max'].tolist()\n",
    "sums = result['sum'].tolist()\n",
    "\n",
    "index = np.arange(n_groups)\n",
    "bar_width = 0.15\n",
    "\n",
    "rects1 = plt.bar(index, means, bar_width, color = 'r', label = 'Mean')\n",
    "rects2 = plt.bar(index + bar_width, mins, bar_width, color = 'g', label = 'Min')\n",
    "rects3 = plt.bar(index + bar_width * 2, maxs, bar_width, color = 'b', label = 'Max')\n",
    "rects4 = plt.bar(index + bar_width * 3, sums, bar_width, color = 'y', label = 'Sum')\n",
    "\n",
    "plt.xticks(index, result.index.tolist())\n",
    "plt.legend()\n",
    "plt.show()"
   ]
  },
  {
   "cell_type": "markdown",
   "id": "c18232ed",
   "metadata": {},
   "source": [
    "### 대륙별 total_litres_of_pure_alcohol"
   ]
  },
  {
   "cell_type": "code",
   "execution_count": 52,
   "id": "6316b109",
   "metadata": {},
   "outputs": [
    {
     "data": {
      "image/png": "[encoded data removed]",
      "text/plain": [
       "<Figure size 432x288 with 1 Axes>"
      ]
     },
     "metadata": {},
     "output_type": "display_data"
    }
   ],
   "source": [
    "continents = continent_mean.index.tolist()\n",
    "continents.append('mean')\n",
    "x_pos = np.arange(len(continents))\n",
    "alcohol = continent_mean.tolist()\n",
    "alcohol.append(total_mean)\n",
    "\n",
    "bar_list = plt.bar(x_pos, alcohol, align = 'center', alpha = 0.5)\n",
    "bar_list[len(continents)-1].set_color('r') #마지막 바는 빨간색으로 하겠다\n",
    "plt.plot([0., 6], [total_mean, total_mean], \"k--\") #점선을 그림\n",
    "plt.title('Total_litres_of_pure_alcohol by Continent')\n",
    "\n",
    "plt.show()"
   ]
  },
  {
   "cell_type": "markdown",
   "id": "1a386084",
   "metadata": {},
   "source": [
    "### 대륙별 beer_servings"
   ]
  },
  {
   "cell_type": "code",
   "execution_count": 51,
   "id": "a7e829d1",
   "metadata": {},
   "outputs": [
    {
     "data": {
      "image/png": "[encoded data removed]",
      "text/plain": [
       "<Figure size 432x288 with 1 Axes>"
      ]
     },
     "metadata": {},
     "output_type": "display_data"
    }
   ],
   "source": [
    "beer_group = drinks.groupby('continent')['beer_servings'].sum()\n",
    "continents = beer_group.index.tolist()\n",
    "y_pos = np.arange(len(continents))\n",
    "alcohol = beer_group.tolist()\n",
    "\n",
    "bar_list = plt.bar(y_pos, alcohol, align = 'center', alpha = 0.5)\n",
    "bar_list[continents.index(\"EU\")].set_color('r') #eu는 빨간색으로 하겠다\n",
    "plt.xticks(y_pos, continents)\n",
    "plt.ylabel('beer_servings')\n",
    "plt.title('beer_servings by Continent')\n",
    "\n",
    "plt.show()"
   ]
  },
  {
   "cell_type": "markdown",
   "id": "264c6ddd",
   "metadata": {},
   "source": [
    "# 통계적 분석 : 분석 대상 간의 통계적 차이 검정"
   ]
  },
  {
   "cell_type": "markdown",
   "id": "559c53a6",
   "metadata": {},
   "source": [
    "### 타당성 검증 -> t-test"
   ]
  },
  {
   "cell_type": "markdown",
   "id": "fbb28592",
   "metadata": {},
   "source": [
    "    t-test : 두 집단간 평균의 차이에 대한 검정방법\n",
    "    모집단의 평균 등과 같이 실제 정보를 모를 때 현재의 데이터만으로 \n",
    "    두 집단의 차이에 대해 검정 가능\n",
    "    \n",
    "    두 집단의 데이터 개수가 비슷하면서 \n",
    "    두 데이터가 정규분포를 보이는 경우에 신뢰도 높음\n",
    "    \n",
    "    scipy 라이브러리 이용\n",
    "    "
   ]
  },
  {
   "cell_type": "code",
   "execution_count": 53,
   "id": "a250c64a",
   "metadata": {},
   "outputs": [
    {
     "name": "stdout",
     "output_type": "stream",
     "text": [
      "Requirement already satisfied: scipy in c:\\users\\flora\\appdata\\local\\programs\\python\\python39\\lib\\site-packages (1.7.1)\n",
      "Requirement already satisfied: numpy<1.23.0,>=1.16.5 in c:\\users\\flora\\appdata\\local\\programs\\python\\python39\\lib\\site-packages (from scipy) (1.21.2)\n"
     ]
    },
    {
     "name": "stderr",
     "output_type": "stream",
     "text": [
      "WARNING: You are using pip version 21.2.4; however, version 21.3 is available.\n",
      "You should consider upgrading via the 'c:\\users\\flora\\appdata\\local\\programs\\python\\python39\\python.exe -m pip install --upgrade pip' command.\n"
     ]
    }
   ],
   "source": [
    "!pip install scipy"
   ]
  },
  {
   "cell_type": "code",
   "execution_count": 55,
   "id": "f59a04d6",
   "metadata": {},
   "outputs": [
    {
     "name": "stdout",
     "output_type": "stream",
     "text": [
      "Requirement already satisfied: pip in c:\\users\\flora\\appdata\\local\\programs\\python\\python39\\lib\\site-packages (21.2.4)\n",
      "Collecting pip\n",
      "  Downloading pip-21.3.1-py3-none-any.whl (1.7 MB)\n",
      "Installing collected packages: pip\n",
      "  Attempting uninstall: pip\n",
      "    Found existing installation: pip 21.2.4\n",
      "    Uninstalling pip-21.2.4:\n",
      "      Successfully uninstalled pip-21.2.4\n",
      "Successfully installed pip-21.3.1\n"
     ]
    }
   ],
   "source": [
    "!c:\\users\\flora\\appdata\\local\\programs\\python\\python39\\python.exe -m pip install --upgrade pip"
   ]
  },
  {
   "cell_type": "markdown",
   "id": "c5b6c049",
   "metadata": {},
   "source": [
    "### 아프리카와 유럽간의 맥주 소비량 차이 검정"
   ]
  },
  {
   "cell_type": "code",
   "execution_count": 60,
   "id": "45d30457",
   "metadata": {},
   "outputs": [
    {
     "name": "stdout",
     "output_type": "stream",
     "text": [
      "The t-statistic and p-value assuming equal variances is -7.268 and 0.000.\n",
      "The t-statistic and p-value not assuming equal variances is -7.144 and 0.000\n"
     ]
    }
   ],
   "source": [
    "# 아프리카와 유럽간의 맥주 소비량 차이 검정\n",
    "africa = drinks.loc[drinks['continent']=='AF']\n",
    "europe = drinks.loc[drinks['continent']=='EU']\n",
    "\n",
    "from scipy import stats\n",
    "tTestResult = stats.ttest_ind(africa['beer_servings'], europe['beer_servings'])\n",
    "tTestResultDiffVar = stats.ttest_ind(africa['beer_servings'], europe['beer_servings'], equal_var=False) #분산이 같냐 안같냐\n",
    "\n",
    "print(\"The t-statistic and p-value assuming equal variances is %.3f and %.3f.\" % tTestResult)\n",
    "print(\"The t-statistic and p-value not assuming equal variances is %.3f and %.3f\" % tTestResultDiffVar)\n",
    "\n",
    "#t-statistic : t테스트의 검정 통계량\n",
    "#p-value : 지금 나온 통계량이상이 또 나올 확률 -> 낮으면 가설이 일어날 확률 낮음 -> 기각하는게 좋음 // 기각할걸 예상\n",
    "#          귀무 가설이 맞다는 전제 하에 현재 나온 통계값 이상이 나올 확률(기준 : 0.05 or 0.01) //유의확률\n",
    "\n",
    "#결론 : 아프리카와 유럽 대륙 간의 맥주 소비량 차이는 통계적으로 유의미하다"
   ]
  },
  {
   "cell_type": "markdown",
   "id": "78428c49",
   "metadata": {},
   "source": [
    "### 대한민국은 얼마나 독하게 술을 마시는 나라일까?"
   ]
  },
  {
   "cell_type": "code",
   "execution_count": 61,
   "id": "60b523ac",
   "metadata": {},
   "outputs": [],
   "source": [
    "# alcohol rate 피처 생성\n",
    "# total_litres_of_pure_alcohol 피처를 모든 술의 총 소비량으로 나눈 것\n",
    "# alcohol_rate 는 sort_values()  함수를 사용하여 국가를 기준으로 정렬"
   ]
  },
  {
   "cell_type": "code",
   "execution_count": 63,
   "id": "ba0a5140",
   "metadata": {},
   "outputs": [
    {
     "data": {
      "text/html": [
       "<div>\n",
       "<style scoped>\n",
       "    .dataframe tbody tr th:only-of-type {\n",
       "        vertical-align: middle;\n",
       "    }\n",
       "\n",
       "    .dataframe tbody tr th {\n",
       "        vertical-align: top;\n",
       "    }\n",
       "\n",
       "    .dataframe thead th {\n",
       "        text-align: right;\n",
       "    }\n",
       "</style>\n",
       "<table border=\"1\" class=\"dataframe\">\n",
       "  <thead>\n",
       "    <tr style=\"text-align: right;\">\n",
       "      <th></th>\n",
       "      <th>country</th>\n",
       "      <th>alcohol_rate</th>\n",
       "    </tr>\n",
       "  </thead>\n",
       "  <tbody>\n",
       "    <tr>\n",
       "      <th>63</th>\n",
       "      <td>Gambia</td>\n",
       "      <td>0.266667</td>\n",
       "    </tr>\n",
       "    <tr>\n",
       "      <th>153</th>\n",
       "      <td>Sierra Leone</td>\n",
       "      <td>0.223333</td>\n",
       "    </tr>\n",
       "    <tr>\n",
       "      <th>124</th>\n",
       "      <td>Nigeria</td>\n",
       "      <td>0.185714</td>\n",
       "    </tr>\n",
       "    <tr>\n",
       "      <th>179</th>\n",
       "      <td>Uganda</td>\n",
       "      <td>0.153704</td>\n",
       "    </tr>\n",
       "    <tr>\n",
       "      <th>142</th>\n",
       "      <td>Rwanda</td>\n",
       "      <td>0.151111</td>\n",
       "    </tr>\n",
       "  </tbody>\n",
       "</table>\n",
       "</div>"
      ],
      "text/plain": [
       "          country  alcohol_rate\n",
       "63         Gambia      0.266667\n",
       "153  Sierra Leone      0.223333\n",
       "124       Nigeria      0.185714\n",
       "179        Uganda      0.153704\n",
       "142        Rwanda      0.151111"
      ]
     },
     "execution_count": 63,
     "metadata": {},
     "output_type": "execute_result"
    }
   ],
   "source": [
    "#total_servings 피처 생성\n",
    "drinks['total_servings'] = drinks['beer_servings'] + drinks['wine_servings'] + drinks['spirit_servings']\n",
    "drinks['spirit_servings']\n",
    "\n",
    "# 술 소비량 대비 알코올 비율 피쳐 생성\n",
    "drinks['alcohol_rate'] = drinks['total_litres_of_pure_alcohol'] / drinks['total_servings']\n",
    "drinks['alcohol_rate'] = drinks['alcohol_rate'].fillna(0)\n",
    "\n",
    "# 순위 정보 생성\n",
    "country_with_rank = drinks[['country','alcohol_rate']]\n",
    "country_with_rank = country_with_rank.sort_values(by = ['alcohol_rate'], ascending=0) #내림차순\n",
    "country_with_rank.head(5)"
   ]
  },
  {
   "cell_type": "markdown",
   "id": "04240f39",
   "metadata": {},
   "source": [
    "### 국가별 순위정보 시각화"
   ]
  },
  {
   "cell_type": "code",
   "execution_count": 72,
   "id": "99128c85",
   "metadata": {},
   "outputs": [
    {
     "data": {
      "image/png": "[encoded data removed]",
      "text/plain": [
       "<Figure size 432x288 with 1 Axes>"
      ]
     },
     "metadata": {},
     "output_type": "display_data"
    }
   ],
   "source": [
    "country_list = country_with_rank.country.tolist()\n",
    "x_pos = np.arange(len(country_list))\n",
    "rank = country_with_rank.alcohol_rate.tolist()\n",
    "\n",
    "bar_list = plt.bar(x_pos, rank)\n",
    "bar_list[country_list.index(\"South Korea\")].set_color('r')\n",
    "plt.ylabel('alcohol rate')\n",
    "plt.title('liquor drink rank by contry')\n",
    "plt.axis([0, 200, 0, 0.3])\n",
    "\n",
    "korea_rank = country_list.index(\"South Korea\")\n",
    "korea_alc_rate = country_with_rank[country_with_rank['country'] == 'South Korea']['alcohol_rate'].values[0]\n",
    "plt.annotate('South Korea : ' + str(korea_rank + 1),\n",
    "             xy = (korea_rank, korea_alc_rate),\n",
    "             xytext = (korea_rank + 10, korea_alc_rate+0.05),\n",
    "             arrowprops = dict(facecolor = 'red', shrink = 0.05))\n",
    "\n",
    "plt.show()"
   ]
  },
  {
   "cell_type": "code",
   "execution_count": null,
   "id": "3bae9f32",
   "metadata": {},
   "outputs": [],
   "source": []
  }
 ],
 "metadata": {
  "kernelspec": {
   "display_name": "sseun",
   "language": "python",
   "name": "seun"
  },
  "language_info": {
   "codemirror_mode": {
    "name": "ipython",
    "version": 3
   },
   "file_extension": ".py",
   "mimetype": "text/x-python",
   "name": "python",
   "nbconvert_exporter": "python",
   "pygments_lexer": "ipython3",
   "version": "3.7.10"
  }
 },
 "nbformat": 4,
 "nbformat_minor": 5
}
