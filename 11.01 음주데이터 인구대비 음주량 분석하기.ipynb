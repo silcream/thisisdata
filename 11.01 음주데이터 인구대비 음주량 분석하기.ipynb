{
 "cells": [
  {
   "cell_type": "code",
   "execution_count": 138,
   "id": "d86a7263",
   "metadata": {},
   "outputs": [],
   "source": [
    "%matplotlib inline"
   ]
  },
  {
   "cell_type": "code",
   "execution_count": 139,
   "id": "8eada6a4",
   "metadata": {},
   "outputs": [],
   "source": [
    "# -*- coding: utf-8 -*-\n",
    "\n",
    "import pandas as pd\n",
    "import numpy as np\n",
    "import matplotlib.pyplot as plt\n",
    "\n",
    "file_path = 'C:/Users/Flora/datapython/data/drinks.csv'\n",
    "drinks = pd.read_csv(file_path) \n",
    "\n",
    "file_path2 = 'C:/Users/Flora/datapython/country.csv'\n",
    "country = pd.read_csv(file_path2) "
   ]
  },
  {
   "cell_type": "code",
   "execution_count": 140,
   "id": "3b200156",
   "metadata": {},
   "outputs": [
    {
     "name": "stdout",
     "output_type": "stream",
     "text": [
      "<class 'pandas.core.frame.DataFrame'>\n",
      "RangeIndex: 239 entries, 0 to 238\n",
      "Data columns (total 2 columns):\n",
      " #   Column   Non-Null Count  Dtype \n",
      "---  ------   --------------  ----- \n",
      " 0   country  239 non-null    object\n",
      " 1   number   239 non-null    int64 \n",
      "dtypes: int64(1), object(1)\n",
      "memory usage: 3.9+ KB\n",
      "None\n"
     ]
    }
   ],
   "source": [
    "print(country.info())"
   ]
  },
  {
   "cell_type": "code",
   "execution_count": 141,
   "id": "90849086",
   "metadata": {},
   "outputs": [
    {
     "name": "stdout",
     "output_type": "stream",
     "text": [
      "<class 'pandas.core.frame.DataFrame'>\n",
      "RangeIndex: 193 entries, 0 to 192\n",
      "Data columns (total 6 columns):\n",
      " #   Column                        Non-Null Count  Dtype  \n",
      "---  ------                        --------------  -----  \n",
      " 0   country                       193 non-null    object \n",
      " 1   beer_servings                 193 non-null    int64  \n",
      " 2   spirit_servings               193 non-null    int64  \n",
      " 3   wine_servings                 193 non-null    int64  \n",
      " 4   total_litres_of_pure_alcohol  193 non-null    float64\n",
      " 5   continent                     170 non-null    object \n",
      "dtypes: float64(1), int64(3), object(2)\n",
      "memory usage: 9.2+ KB\n",
      "None\n"
     ]
    }
   ],
   "source": [
    "print(drinks.info())"
   ]
  },
  {
   "cell_type": "code",
   "execution_count": 142,
   "id": "b045ef3d",
   "metadata": {},
   "outputs": [],
   "source": [
    "#데이터 합침\n",
    "data = pd.merge(drinks, country, on = 'country', how = 'inner')"
   ]
  },
  {
   "cell_type": "code",
   "execution_count": 143,
   "id": "31452ca0",
   "metadata": {},
   "outputs": [
    {
     "name": "stdout",
     "output_type": "stream",
     "text": [
      "<class 'pandas.core.frame.DataFrame'>\n",
      "Int64Index: 141 entries, 0 to 140\n",
      "Data columns (total 7 columns):\n",
      " #   Column                        Non-Null Count  Dtype  \n",
      "---  ------                        --------------  -----  \n",
      " 0   country                       141 non-null    object \n",
      " 1   beer_servings                 141 non-null    int64  \n",
      " 2   spirit_servings               141 non-null    int64  \n",
      " 3   wine_servings                 141 non-null    int64  \n",
      " 4   total_litres_of_pure_alcohol  141 non-null    float64\n",
      " 5   continent                     128 non-null    object \n",
      " 6   number                        141 non-null    int64  \n",
      "dtypes: float64(1), int64(4), object(2)\n",
      "memory usage: 8.8+ KB\n",
      "None\n"
     ]
    }
   ],
   "source": [
    "print(data.info())"
   ]
  },
  {
   "cell_type": "code",
   "execution_count": 144,
   "id": "d6029897",
   "metadata": {},
   "outputs": [],
   "source": [
    "data['total_servings'] = data['beer_servings'] + data['wine_servings'] + data['spirit_servings']"
   ]
  },
  {
   "cell_type": "code",
   "execution_count": 145,
   "id": "51668dfe",
   "metadata": {},
   "outputs": [],
   "source": [
    "data['alcohol_rate'] = data['total_servings'] / data['number']\n",
    "data['alcohol_rate'] = data['alcohol_rate'].fillna(0)"
   ]
  },
  {
   "cell_type": "code",
   "execution_count": 146,
   "id": "f2faeb82",
   "metadata": {},
   "outputs": [
    {
     "data": {
      "text/html": [
       "<div>\n",
       "<style scoped>\n",
       "    .dataframe tbody tr th:only-of-type {\n",
       "        vertical-align: middle;\n",
       "    }\n",
       "\n",
       "    .dataframe tbody tr th {\n",
       "        vertical-align: top;\n",
       "    }\n",
       "\n",
       "    .dataframe thead th {\n",
       "        text-align: right;\n",
       "    }\n",
       "</style>\n",
       "<table border=\"1\" class=\"dataframe\">\n",
       "  <thead>\n",
       "    <tr style=\"text-align: right;\">\n",
       "      <th></th>\n",
       "      <th>country</th>\n",
       "      <th>alcohol_rate</th>\n",
       "    </tr>\n",
       "  </thead>\n",
       "  <tbody>\n",
       "    <tr>\n",
       "      <th>101</th>\n",
       "      <td>Niue</td>\n",
       "      <td>0.259868</td>\n",
       "    </tr>\n",
       "    <tr>\n",
       "      <th>105</th>\n",
       "      <td>Palau</td>\n",
       "      <td>0.021899</td>\n",
       "    </tr>\n",
       "    <tr>\n",
       "      <th>3</th>\n",
       "      <td>Andorra</td>\n",
       "      <td>0.009123</td>\n",
       "    </tr>\n",
       "    <tr>\n",
       "      <th>49</th>\n",
       "      <td>Grenada</td>\n",
       "      <td>0.006111</td>\n",
       "    </tr>\n",
       "    <tr>\n",
       "      <th>129</th>\n",
       "      <td>Tuvalu</td>\n",
       "      <td>0.005490</td>\n",
       "    </tr>\n",
       "  </tbody>\n",
       "</table>\n",
       "</div>"
      ],
      "text/plain": [
       "     country  alcohol_rate\n",
       "101     Niue      0.259868\n",
       "105    Palau      0.021899\n",
       "3    Andorra      0.009123\n",
       "49   Grenada      0.006111\n",
       "129   Tuvalu      0.005490"
      ]
     },
     "execution_count": 146,
     "metadata": {},
     "output_type": "execute_result"
    }
   ],
   "source": [
    "country_with_rank = data[['country','alcohol_rate']]\n",
    "country_with_rank = country_with_rank.sort_values(by = ['alcohol_rate'], ascending=0)\n",
    "country_with_rank.head(5)"
   ]
  },
  {
   "cell_type": "code",
   "execution_count": 147,
   "id": "19bd50c2",
   "metadata": {},
   "outputs": [
    {
     "data": {
      "text/html": [
       "<div>\n",
       "<style scoped>\n",
       "    .dataframe tbody tr th:only-of-type {\n",
       "        vertical-align: middle;\n",
       "    }\n",
       "\n",
       "    .dataframe tbody tr th {\n",
       "        vertical-align: top;\n",
       "    }\n",
       "\n",
       "    .dataframe thead th {\n",
       "        text-align: right;\n",
       "    }\n",
       "</style>\n",
       "<table border=\"1\" class=\"dataframe\">\n",
       "  <thead>\n",
       "    <tr style=\"text-align: right;\">\n",
       "      <th></th>\n",
       "      <th>country</th>\n",
       "      <th>pure_rate</th>\n",
       "    </tr>\n",
       "  </thead>\n",
       "  <tbody>\n",
       "    <tr>\n",
       "      <th>101</th>\n",
       "      <td>Niue</td>\n",
       "      <td>0.004605</td>\n",
       "    </tr>\n",
       "    <tr>\n",
       "      <th>105</th>\n",
       "      <td>Palau</td>\n",
       "      <td>0.000385</td>\n",
       "    </tr>\n",
       "    <tr>\n",
       "      <th>3</th>\n",
       "      <td>Andorra</td>\n",
       "      <td>0.000163</td>\n",
       "    </tr>\n",
       "    <tr>\n",
       "      <th>49</th>\n",
       "      <td>Grenada</td>\n",
       "      <td>0.000109</td>\n",
       "    </tr>\n",
       "    <tr>\n",
       "      <th>129</th>\n",
       "      <td>Tuvalu</td>\n",
       "      <td>0.000098</td>\n",
       "    </tr>\n",
       "  </tbody>\n",
       "</table>\n",
       "</div>"
      ],
      "text/plain": [
       "     country  pure_rate\n",
       "101     Niue   0.004605\n",
       "105    Palau   0.000385\n",
       "3    Andorra   0.000163\n",
       "49   Grenada   0.000109\n",
       "129   Tuvalu   0.000098"
      ]
     },
     "execution_count": 147,
     "metadata": {},
     "output_type": "execute_result"
    }
   ],
   "source": [
    "data['pure_rate'] = data['total_litres_of_pure_alcohol'] / data['number']\n",
    "data['pure_rate'] = data['pure_rate'].fillna(0)\n",
    "\n",
    "country_with_ranks = data[['country','pure_rate']]\n",
    "country_with_ranks = country_with_ranks.sort_values(by = ['pure_rate'], ascending=0)\n",
    "country_with_ranks.head(5)"
   ]
  },
  {
   "cell_type": "code",
   "execution_count": 148,
   "id": "deabd089",
   "metadata": {},
   "outputs": [
    {
     "data": {
      "text/html": [
       "<div>\n",
       "<style scoped>\n",
       "    .dataframe tbody tr th:only-of-type {\n",
       "        vertical-align: middle;\n",
       "    }\n",
       "\n",
       "    .dataframe tbody tr th {\n",
       "        vertical-align: top;\n",
       "    }\n",
       "\n",
       "    .dataframe thead th {\n",
       "        text-align: right;\n",
       "    }\n",
       "</style>\n",
       "<table border=\"1\" class=\"dataframe\">\n",
       "  <thead>\n",
       "    <tr style=\"text-align: right;\">\n",
       "      <th></th>\n",
       "      <th>country</th>\n",
       "      <th>pure_rate</th>\n",
       "    </tr>\n",
       "  </thead>\n",
       "  <tbody>\n",
       "    <tr>\n",
       "      <th>101</th>\n",
       "      <td>Niue</td>\n",
       "      <td>0.004605</td>\n",
       "    </tr>\n",
       "    <tr>\n",
       "      <th>105</th>\n",
       "      <td>Palau</td>\n",
       "      <td>0.000385</td>\n",
       "    </tr>\n",
       "    <tr>\n",
       "      <th>3</th>\n",
       "      <td>Andorra</td>\n",
       "      <td>0.000163</td>\n",
       "    </tr>\n",
       "    <tr>\n",
       "      <th>49</th>\n",
       "      <td>Grenada</td>\n",
       "      <td>0.000109</td>\n",
       "    </tr>\n",
       "    <tr>\n",
       "      <th>129</th>\n",
       "      <td>Tuvalu</td>\n",
       "      <td>0.000098</td>\n",
       "    </tr>\n",
       "    <tr>\n",
       "      <th>...</th>\n",
       "      <td>...</td>\n",
       "      <td>...</td>\n",
       "    </tr>\n",
       "    <tr>\n",
       "      <th>89</th>\n",
       "      <td>Monaco</td>\n",
       "      <td>0.000000</td>\n",
       "    </tr>\n",
       "    <tr>\n",
       "      <th>86</th>\n",
       "      <td>Mauritania</td>\n",
       "      <td>0.000000</td>\n",
       "    </tr>\n",
       "    <tr>\n",
       "      <th>60</th>\n",
       "      <td>Iran</td>\n",
       "      <td>0.000000</td>\n",
       "    </tr>\n",
       "    <tr>\n",
       "      <th>78</th>\n",
       "      <td>Libya</td>\n",
       "      <td>0.000000</td>\n",
       "    </tr>\n",
       "    <tr>\n",
       "      <th>0</th>\n",
       "      <td>Afghanistan</td>\n",
       "      <td>0.000000</td>\n",
       "    </tr>\n",
       "  </tbody>\n",
       "</table>\n",
       "<p>141 rows × 2 columns</p>\n",
       "</div>"
      ],
      "text/plain": [
       "         country  pure_rate\n",
       "101         Niue   0.004605\n",
       "105        Palau   0.000385\n",
       "3        Andorra   0.000163\n",
       "49       Grenada   0.000109\n",
       "129       Tuvalu   0.000098\n",
       "..           ...        ...\n",
       "89        Monaco   0.000000\n",
       "86    Mauritania   0.000000\n",
       "60          Iran   0.000000\n",
       "78         Libya   0.000000\n",
       "0    Afghanistan   0.000000\n",
       "\n",
       "[141 rows x 2 columns]"
      ]
     },
     "execution_count": 148,
     "metadata": {},
     "output_type": "execute_result"
    }
   ],
   "source": [
    "country_with_ranks"
   ]
  },
  {
   "cell_type": "code",
   "execution_count": 149,
   "id": "2f5a12a2",
   "metadata": {},
   "outputs": [
    {
     "data": {
      "image/png": "[encoded data removed]",
      "text/plain": [
       "<Figure size 432x288 with 1 Axes>"
      ]
     },
     "metadata": {
      "needs_background": "light"
     },
     "output_type": "display_data"
    }
   ],
   "source": [
    "country_list = country_with_rank.country.tolist()\n",
    "x_pos = np.arange(len(country_list))\n",
    "rank = country_with_rank.alcohol_rate.tolist()\n",
    "\n",
    "bar_list = plt.bar(x_pos, rank)\n",
    "bar_list[country_list.index(\"South Korea\")].set_color('r')\n",
    "plt.ylabel('alcohol rate')\n",
    "plt.title('liquor drink rank by contry')\n",
    "plt.axis([0, 150, 0, 0.03])\n",
    "\n",
    "korea_rank = country_list.index(\"South Korea\")\n",
    "korea_alc_rate = country_with_rank[country_with_rank['country'] == 'South Korea']['alcohol_rate'].values[0]\n",
    "plt.annotate('South Korea : ' + str(korea_rank + 1),\n",
    "             xy = (korea_rank, korea_alc_rate),\n",
    "             xytext = (korea_rank + 10, korea_alc_rate+0.01),\n",
    "             arrowprops = dict(facecolor = 'red', shrink = 0.05))\n",
    "\n",
    "plt.show()"
   ]
  },
  {
   "cell_type": "code",
   "execution_count": 150,
   "id": "1c1ceed0",
   "metadata": {},
   "outputs": [
    {
     "data": {
      "image/png": "[encoded data removed]",
      "text/plain": [
       "<Figure size 432x288 with 1 Axes>"
      ]
     },
     "metadata": {
      "needs_background": "light"
     },
     "output_type": "display_data"
    }
   ],
   "source": [
    "country_lists = country_with_ranks.country.tolist()\n",
    "x_poss = np.arange(len(country_lists))\n",
    "ranks = country_with_ranks.pure_rate.tolist()\n",
    "\n",
    "bar_lists = plt.bar(x_poss, ranks)\n",
    "bar_lists[country_list.index(\"South Korea\")].set_color('r')\n",
    "plt.ylabel('pure rate')\n",
    "plt.title('liquor drink rank by contry')\n",
    "plt.axis([0,150, 0, 0.0007])\n",
    "\n",
    "korea_ranks = country_lists.index(\"South Korea\")\n",
    "korea_alc_rates = country_with_ranks[country_with_ranks['country'] == 'South Korea']['pure_rate'].values[0]\n",
    "plt.annotate('South Korea : ' + str(korea_ranks + 1),\n",
    "             xy = (korea_ranks, korea_alc_rates),\n",
    "             xytext = (korea_ranks + 10, korea_alc_rates+0.0001),\n",
    "             arrowprops = dict(facecolor = 'red', shrink = 0.05))\n",
    "\n",
    "plt.show()"
   ]
  },
  {
   "cell_type": "code",
   "execution_count": null,
   "id": "d07c4cf0",
   "metadata": {},
   "outputs": [],
   "source": []
  },
  {
   "cell_type": "code",
   "execution_count": null,
   "id": "37b851fc",
   "metadata": {},
   "outputs": [],
   "source": []
  }
 ],
 "metadata": {
  "kernelspec": {
   "display_name": "sseun",
   "language": "python",
   "name": "seun"
  },
  "language_info": {
   "codemirror_mode": {
    "name": "ipython",
    "version": 3
   },
   "file_extension": ".py",
   "mimetype": "text/x-python",
   "name": "python",
   "nbconvert_exporter": "python",
   "pygments_lexer": "ipython3",
   "version": "3.7.10"
  }
 },
 "nbformat": 4,
 "nbformat_minor": 5
}
