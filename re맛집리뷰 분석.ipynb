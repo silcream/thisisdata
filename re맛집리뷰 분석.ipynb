{
 "cells": [
  {
   "cell_type": "code",
   "execution_count": 1,
   "id": "f398239b",
   "metadata": {},
   "outputs": [],
   "source": [
    "%matplotlib inline\n",
    "\n",
    "import pandas as pd\n",
    "import numpy as np\n",
    "import matplotlib.pyplot as plt\n",
    "import seaborn as sns\n",
    "\n",
    "import warnings\n",
    "warnings.filterwarnings(\"ignore\")"
   ]
  },
  {
   "cell_type": "code",
   "execution_count": 2,
   "id": "46f10ca2",
   "metadata": {},
   "outputs": [
    {
     "name": "stdout",
     "output_type": "stream",
     "text": [
      "https://place.map.kakao.com/1492586965\n",
      "https://place.map.kakao.com/2110248909\n",
      "https://place.map.kakao.com/26904719\n",
      "https://place.map.kakao.com/26798365\n",
      "https://place.map.kakao.com/631239859\n",
      "https://place.map.kakao.com/21959844\n",
      "https://place.map.kakao.com/1181055498\n",
      "https://place.map.kakao.com/437541294\n",
      "https://place.map.kakao.com/8059361\n",
      "https://place.map.kakao.com/1012202600\n",
      "https://place.map.kakao.com/19749793\n",
      "https://place.map.kakao.com/1187561607\n",
      "https://place.map.kakao.com/12660894\n",
      "https://place.map.kakao.com/1902526523\n",
      "https://place.map.kakao.com/8764226\n"
     ]
    }
   ],
   "source": [
    "from selenium import webdriver\n",
    "from bs4 import BeautifulSoup\n",
    "import re\n",
    "import time\n",
    "\n",
    "excutable_path = 'C:/Users/Flora/datapython/chromedriver (3) 98.047v.exe'\n",
    "\n",
    "source_url = \"https://map.kakao.com/\"\n",
    "\n",
    "driver = webdriver.Chrome(executable_path=excutable_path)\n",
    "driver.get(source_url)\n",
    "\n",
    "searchbox = driver.find_element_by_xpath(\"//input[@id='search.keyword.query']\")\n",
    "searchbox.send_keys(\"창원 맛집\") #검색창 이용\n",
    "\n",
    "searchbutton = driver.find_element_by_xpath(\"//button[@id='search.keyword.submit']\") #검색버튼 누름\n",
    "driver.execute_script(\"arguments[0].click();\", searchbutton)\n",
    "\n",
    "time.sleep(2) #기다리기\n",
    "\n",
    "html = driver.page_source #결과소스\n",
    "\n",
    "soup = BeautifulSoup(html, \"html.parser\")\n",
    "moreviews = soup.find_all(name=\"a\", attrs={\"class\":\"moreview\"})\n",
    "\n",
    "page_urls = []\n",
    "for moreview in moreviews:\n",
    "    page_url = moreview.get(\"href\")\n",
    "    print(page_url)\n",
    "    page_urls.append(page_url)\n",
    "\n",
    "driver.close()"
   ]
  },
  {
   "cell_type": "code",
   "execution_count": 3,
   "id": "fee5e0a4",
   "metadata": {},
   "outputs": [],
   "source": [
    "columns = ['score', 'review']\n",
    "df = pd.DataFrame(columns=columns)\n",
    "\n",
    "driver = webdriver.Chrome(executable_path=excutable_path)  # for Windows\n",
    "for page_url in page_urls:\n",
    "    \n",
    "    driver.get(page_url) #상세보기 페이지\n",
    "    time.sleep(2)\n",
    "    \n",
    "    html = driver.page_source #첫페이지\n",
    "    soup = BeautifulSoup(html, 'html.parser')\n",
    "    contents_div = soup.find(name=\"div\", attrs={\"class\":\"evaluation_review\"})\n",
    "    \n",
    "    #별점\n",
    "    rates = contents_div.find_all(name=\"em\", attrs={\"class\":\"num_rate\"})\n",
    "    \n",
    "    #리뷰\n",
    "    reviews = contents_div.find_all(name=\"p\", attrs={\"class\":\"txt_comment\"})\n",
    "    \n",
    "    for rate, review in zip(rates, reviews):\n",
    "        row = [rate.text[0], review.find(name=\"span\").text]\n",
    "        series = pd.Series(row, index=df.columns)\n",
    "        df = df.append(series, ignore_index=True)\n",
    "    \n",
    "    for button_num in range(2, 10):\n",
    "        try:\n",
    "            another_reviews = driver.find_element_by_xpath(\"//a[@data-page='\" + str(button_num) + \"']\")\n",
    "            another_reviews.click()\n",
    "            time.sleep(2)\n",
    "            \n",
    "            #리뷰페이지\n",
    "            html = driver.page_source\n",
    "            soup = BeautifulSoup(html, 'html.parser')\n",
    "            contents_div = soup.find(name=\"div\", attrs={\"class\":\"evaluation_review\"})\n",
    "\n",
    "            #별점\n",
    "            rates = contents_div.find_all(name=\"em\", attrs={\"class\":\"num_rate\"})\n",
    "\n",
    "            #리뷰\n",
    "            reviews = contents_div.find_all(name=\"p\", attrs={\"class\":\"txt_comment\"})\n",
    "\n",
    "            for rate, review in zip(rates, reviews):\n",
    "                row = [rate.text[0], review.find(name=\"span\").text]\n",
    "                series = pd.Series(row, index=df.columns)\n",
    "                df = df.append(series, ignore_index=True)\n",
    "        except:\n",
    "            break    \n",
    "driver.close()"
   ]
  },
  {
   "cell_type": "code",
   "execution_count": 4,
   "id": "1a2812ab",
   "metadata": {},
   "outputs": [
    {
     "name": "stdout",
     "output_type": "stream",
     "text": [
      "(371, 3)\n"
     ]
    },
    {
     "data": {
      "text/html": [
       "<div>\n",
       "<style scoped>\n",
       "    .dataframe tbody tr th:only-of-type {\n",
       "        vertical-align: middle;\n",
       "    }\n",
       "\n",
       "    .dataframe tbody tr th {\n",
       "        vertical-align: top;\n",
       "    }\n",
       "\n",
       "    .dataframe thead th {\n",
       "        text-align: right;\n",
       "    }\n",
       "</style>\n",
       "<table border=\"1\" class=\"dataframe\">\n",
       "  <thead>\n",
       "    <tr style=\"text-align: right;\">\n",
       "      <th></th>\n",
       "      <th>score</th>\n",
       "      <th>review</th>\n",
       "      <th>y</th>\n",
       "    </tr>\n",
       "  </thead>\n",
       "  <tbody>\n",
       "    <tr>\n",
       "      <th>0</th>\n",
       "      <td>3</td>\n",
       "      <td>어시장과 일반횟집을 합쳐놓은듯…가성비는 좋음</td>\n",
       "      <td>0</td>\n",
       "    </tr>\n",
       "    <tr>\n",
       "      <th>1</th>\n",
       "      <td>5</td>\n",
       "      <td>포장 기본 1시간 맛난건 오전에 품절</td>\n",
       "      <td>1</td>\n",
       "    </tr>\n",
       "    <tr>\n",
       "      <th>2</th>\n",
       "      <td>2</td>\n",
       "      <td>가성비는 좋지만  ~ 너무 시끄럽고 정신없는 듯.. 회맛을 모르고 후딱 먹고 빨리 ...</td>\n",
       "      <td>0</td>\n",
       "    </tr>\n",
       "    <tr>\n",
       "      <th>3</th>\n",
       "      <td>5</td>\n",
       "      <td>가성비 최고! 소문듣고 갔는데 진짜네요. 예약 필수</td>\n",
       "      <td>1</td>\n",
       "    </tr>\n",
       "    <tr>\n",
       "      <th>4</th>\n",
       "      <td>4</td>\n",
       "      <td>스끼 필요 없고, 저렴한 가격에 회 많이 먹고 싶다? 무조건입니다.  매운탕은 삼삼...</td>\n",
       "      <td>1</td>\n",
       "    </tr>\n",
       "  </tbody>\n",
       "</table>\n",
       "</div>"
      ],
      "text/plain": [
       "  score                                             review  y\n",
       "0     3                           어시장과 일반횟집을 합쳐놓은듯…가성비는 좋음  0\n",
       "1     5                               포장 기본 1시간 맛난건 오전에 품절  1\n",
       "2     2  가성비는 좋지만  ~ 너무 시끄럽고 정신없는 듯.. 회맛을 모르고 후딱 먹고 빨리 ...  0\n",
       "3     5                       가성비 최고! 소문듣고 갔는데 진짜네요. 예약 필수  1\n",
       "4     4  스끼 필요 없고, 저렴한 가격에 회 많이 먹고 싶다? 무조건입니다.  매운탕은 삼삼...  1"
      ]
     },
     "execution_count": 4,
     "metadata": {},
     "output_type": "execute_result"
    }
   ],
   "source": [
    "df['y'] = df['score'].apply(lambda x: 1 if float(x) > 3 else 0)\n",
    "print(df.shape)\n",
    "df.head()"
   ]
  },
  {
   "cell_type": "code",
   "execution_count": 5,
   "id": "1a8c5946",
   "metadata": {},
   "outputs": [],
   "source": [
    "df.to_csv(\"review_data_v4.csv\", index=False)"
   ]
  },
  {
   "cell_type": "code",
   "execution_count": 6,
   "id": "3956287e",
   "metadata": {},
   "outputs": [],
   "source": [
    "df = pd.read_csv(\"review_data_v4.csv\")"
   ]
  },
  {
   "cell_type": "code",
   "execution_count": 7,
   "id": "e03d090b",
   "metadata": {},
   "outputs": [],
   "source": [
    "import re\n",
    "\n",
    "def text_cleaning(text): #한글만 추출\n",
    "    hangul = re.compile('[^ ㄱ-ㅣ가-힣]+')\n",
    "    result = hangul.sub('',str(text)) \n",
    "    return result"
   ]
  },
  {
   "cell_type": "code",
   "execution_count": 8,
   "id": "737be44c",
   "metadata": {},
   "outputs": [],
   "source": [
    "df = pd.read_csv(\"review_data_v4.csv\")\n",
    "df['ko_text'] = df['review'].apply(lambda x: text_cleaning(x))"
   ]
  },
  {
   "cell_type": "code",
   "execution_count": 9,
   "id": "00af5b0e",
   "metadata": {},
   "outputs": [],
   "source": [
    "del df['review']\n",
    "\n"
   ]
  },
  {
   "cell_type": "code",
   "execution_count": 10,
   "id": "b8de0330",
   "metadata": {},
   "outputs": [
    {
     "data": {
      "text/html": [
       "<div>\n",
       "<style scoped>\n",
       "    .dataframe tbody tr th:only-of-type {\n",
       "        vertical-align: middle;\n",
       "    }\n",
       "\n",
       "    .dataframe tbody tr th {\n",
       "        vertical-align: top;\n",
       "    }\n",
       "\n",
       "    .dataframe thead th {\n",
       "        text-align: right;\n",
       "    }\n",
       "</style>\n",
       "<table border=\"1\" class=\"dataframe\">\n",
       "  <thead>\n",
       "    <tr style=\"text-align: right;\">\n",
       "      <th></th>\n",
       "      <th>score</th>\n",
       "      <th>y</th>\n",
       "      <th>ko_text</th>\n",
       "    </tr>\n",
       "  </thead>\n",
       "  <tbody>\n",
       "    <tr>\n",
       "      <th>0</th>\n",
       "      <td>3</td>\n",
       "      <td>0</td>\n",
       "      <td>어시장과 일반횟집을 합쳐놓은듯가성비는 좋음</td>\n",
       "    </tr>\n",
       "    <tr>\n",
       "      <th>1</th>\n",
       "      <td>5</td>\n",
       "      <td>1</td>\n",
       "      <td>포장 기본 시간 맛난건 오전에 품절</td>\n",
       "    </tr>\n",
       "    <tr>\n",
       "      <th>2</th>\n",
       "      <td>2</td>\n",
       "      <td>0</td>\n",
       "      <td>가성비는 좋지만   너무 시끄럽고 정신없는 듯 회맛을 모르고 후딱 먹고 빨리 나가야...</td>\n",
       "    </tr>\n",
       "    <tr>\n",
       "      <th>3</th>\n",
       "      <td>5</td>\n",
       "      <td>1</td>\n",
       "      <td>가성비 최고 소문듣고 갔는데 진짜네요 예약 필수</td>\n",
       "    </tr>\n",
       "    <tr>\n",
       "      <th>4</th>\n",
       "      <td>4</td>\n",
       "      <td>1</td>\n",
       "      <td>스끼 필요 없고 저렴한 가격에 회 많이 먹고 싶다 무조건입니다  매운탕은 삼삼하게 ...</td>\n",
       "    </tr>\n",
       "  </tbody>\n",
       "</table>\n",
       "</div>"
      ],
      "text/plain": [
       "   score  y                                            ko_text\n",
       "0      3  0                            어시장과 일반횟집을 합쳐놓은듯가성비는 좋음\n",
       "1      5  1                                포장 기본 시간 맛난건 오전에 품절\n",
       "2      2  0  가성비는 좋지만   너무 시끄럽고 정신없는 듯 회맛을 모르고 후딱 먹고 빨리 나가야...\n",
       "3      5  1                         가성비 최고 소문듣고 갔는데 진짜네요 예약 필수\n",
       "4      4  1  스끼 필요 없고 저렴한 가격에 회 많이 먹고 싶다 무조건입니다  매운탕은 삼삼하게 ..."
      ]
     },
     "execution_count": 10,
     "metadata": {},
     "output_type": "execute_result"
    }
   ],
   "source": [
    "df = df[df['ko_text'].str.len() > 3]\n",
    "df.head()"
   ]
  },
  {
   "cell_type": "code",
   "execution_count": 11,
   "id": "1b636d95",
   "metadata": {},
   "outputs": [],
   "source": [
    "idx_sc1 = df[df['score'] == 3].index\n",
    "df = df.drop(idx_sc1)"
   ]
  },
  {
   "cell_type": "code",
   "execution_count": 12,
   "id": "ac51c4bf",
   "metadata": {},
   "outputs": [],
   "source": [
    "# idx_sc2 = df[df['score'] == 4].index\n",
    "# df = df.drop(idx_sc2)"
   ]
  },
  {
   "cell_type": "code",
   "execution_count": 13,
   "id": "e6e4630b",
   "metadata": {},
   "outputs": [
    {
     "name": "stdout",
     "output_type": "stream",
     "text": [
      "(244, 3)\n"
     ]
    }
   ],
   "source": [
    "print(df.shape)"
   ]
  },
  {
   "cell_type": "code",
   "execution_count": 14,
   "id": "5a2baaaf",
   "metadata": {},
   "outputs": [
    {
     "data": {
      "text/html": [
       "<div>\n",
       "<style scoped>\n",
       "    .dataframe tbody tr th:only-of-type {\n",
       "        vertical-align: middle;\n",
       "    }\n",
       "\n",
       "    .dataframe tbody tr th {\n",
       "        vertical-align: top;\n",
       "    }\n",
       "\n",
       "    .dataframe thead th {\n",
       "        text-align: right;\n",
       "    }\n",
       "</style>\n",
       "<table border=\"1\" class=\"dataframe\">\n",
       "  <thead>\n",
       "    <tr style=\"text-align: right;\">\n",
       "      <th></th>\n",
       "      <th>score</th>\n",
       "      <th>y</th>\n",
       "      <th>ko_text</th>\n",
       "    </tr>\n",
       "  </thead>\n",
       "  <tbody>\n",
       "    <tr>\n",
       "      <th>1</th>\n",
       "      <td>5</td>\n",
       "      <td>1</td>\n",
       "      <td>포장 기본 시간 맛난건 오전에 품절</td>\n",
       "    </tr>\n",
       "    <tr>\n",
       "      <th>2</th>\n",
       "      <td>2</td>\n",
       "      <td>0</td>\n",
       "      <td>가성비는 좋지만   너무 시끄럽고 정신없는 듯 회맛을 모르고 후딱 먹고 빨리 나가야...</td>\n",
       "    </tr>\n",
       "    <tr>\n",
       "      <th>3</th>\n",
       "      <td>5</td>\n",
       "      <td>1</td>\n",
       "      <td>가성비 최고 소문듣고 갔는데 진짜네요 예약 필수</td>\n",
       "    </tr>\n",
       "    <tr>\n",
       "      <th>4</th>\n",
       "      <td>4</td>\n",
       "      <td>1</td>\n",
       "      <td>스끼 필요 없고 저렴한 가격에 회 많이 먹고 싶다 무조건입니다  매운탕은 삼삼하게 ...</td>\n",
       "    </tr>\n",
       "    <tr>\n",
       "      <th>5</th>\n",
       "      <td>5</td>\n",
       "      <td>1</td>\n",
       "      <td>서빙 이모님들 친절하시고 모든매뉴 가성비대비 최고임니다</td>\n",
       "    </tr>\n",
       "    <tr>\n",
       "      <th>6</th>\n",
       "      <td>5</td>\n",
       "      <td>1</td>\n",
       "      <td>이곳은 성지입니다 매운탕은 호불호가 갈립니다</td>\n",
       "    </tr>\n",
       "    <tr>\n",
       "      <th>7</th>\n",
       "      <td>5</td>\n",
       "      <td>1</td>\n",
       "      <td>저렴하고 쾌적하고 양많고 맛있어요</td>\n",
       "    </tr>\n",
       "    <tr>\n",
       "      <th>13</th>\n",
       "      <td>1</td>\n",
       "      <td>0</td>\n",
       "      <td>주차요원이 너무 불친절해요</td>\n",
       "    </tr>\n",
       "    <tr>\n",
       "      <th>14</th>\n",
       "      <td>5</td>\n",
       "      <td>1</td>\n",
       "      <td>회가 아주 싱싱하고 가격도 합리적입니다 매운탕도 시원하고 만족</td>\n",
       "    </tr>\n",
       "    <tr>\n",
       "      <th>15</th>\n",
       "      <td>5</td>\n",
       "      <td>1</td>\n",
       "      <td>진짜 괜찮습니다 근처면 꼭 가보세요</td>\n",
       "    </tr>\n",
       "    <tr>\n",
       "      <th>16</th>\n",
       "      <td>5</td>\n",
       "      <td>1</td>\n",
       "      <td>진자 밑에분 말처럼 여긴 필수코스요</td>\n",
       "    </tr>\n",
       "    <tr>\n",
       "      <th>17</th>\n",
       "      <td>5</td>\n",
       "      <td>1</td>\n",
       "      <td>동부회센터 모르고 진해 왔다는 말을 하지 마세요 여긴 그냥 필수 코스 입니다 혼술가능</td>\n",
       "    </tr>\n",
       "    <tr>\n",
       "      <th>18</th>\n",
       "      <td>5</td>\n",
       "      <td>1</td>\n",
       "      <td>완전  찐 착한가격  쫄깃한 식감 입맛대로 골라 먹을 수 있어 좋아요</td>\n",
       "    </tr>\n",
       "    <tr>\n",
       "      <th>19</th>\n",
       "      <td>5</td>\n",
       "      <td>1</td>\n",
       "      <td>여기 괜찮아요 서울에서 아부지 뵈러 내려왔다가 검색하고 왔는데요 가성비 갑이고 회도...</td>\n",
       "    </tr>\n",
       "    <tr>\n",
       "      <th>20</th>\n",
       "      <td>2</td>\n",
       "      <td>0</td>\n",
       "      <td>조개 구이만 먹었는데 그냥 그랬어요 웨이팅 한시간</td>\n",
       "    </tr>\n",
       "    <tr>\n",
       "      <th>23</th>\n",
       "      <td>4</td>\n",
       "      <td>1</td>\n",
       "      <td>장점ㅡ 싸다 단점ㅡ 공기밥 양이 적어 세그릇 시켜야 배부름</td>\n",
       "    </tr>\n",
       "    <tr>\n",
       "      <th>24</th>\n",
       "      <td>5</td>\n",
       "      <td>1</td>\n",
       "      <td>가성비 최고 횟집 장소도 넓고 회맛도 제일 좋아요</td>\n",
       "    </tr>\n",
       "    <tr>\n",
       "      <th>25</th>\n",
       "      <td>1</td>\n",
       "      <td>0</td>\n",
       "      <td>정신업음 불친절</td>\n",
       "    </tr>\n",
       "    <tr>\n",
       "      <th>26</th>\n",
       "      <td>2</td>\n",
       "      <td>0</td>\n",
       "      <td>깨끗하게 보이질 않아요</td>\n",
       "    </tr>\n",
       "    <tr>\n",
       "      <th>27</th>\n",
       "      <td>5</td>\n",
       "      <td>1</td>\n",
       "      <td>운이 좋아서 토요일 시 반에 가도 이십분만 기다리고 먹었어요 직원이 불친절하다는데 ...</td>\n",
       "    </tr>\n",
       "  </tbody>\n",
       "</table>\n",
       "</div>"
      ],
      "text/plain": [
       "    score  y                                            ko_text\n",
       "1       5  1                                포장 기본 시간 맛난건 오전에 품절\n",
       "2       2  0  가성비는 좋지만   너무 시끄럽고 정신없는 듯 회맛을 모르고 후딱 먹고 빨리 나가야...\n",
       "3       5  1                         가성비 최고 소문듣고 갔는데 진짜네요 예약 필수\n",
       "4       4  1  스끼 필요 없고 저렴한 가격에 회 많이 먹고 싶다 무조건입니다  매운탕은 삼삼하게 ...\n",
       "5       5  1                     서빙 이모님들 친절하시고 모든매뉴 가성비대비 최고임니다\n",
       "6       5  1                           이곳은 성지입니다 매운탕은 호불호가 갈립니다\n",
       "7       5  1                                 저렴하고 쾌적하고 양많고 맛있어요\n",
       "13      1  0                                     주차요원이 너무 불친절해요\n",
       "14      5  1                 회가 아주 싱싱하고 가격도 합리적입니다 매운탕도 시원하고 만족\n",
       "15      5  1                                진짜 괜찮습니다 근처면 꼭 가보세요\n",
       "16      5  1                                진자 밑에분 말처럼 여긴 필수코스요\n",
       "17      5  1    동부회센터 모르고 진해 왔다는 말을 하지 마세요 여긴 그냥 필수 코스 입니다 혼술가능\n",
       "18      5  1            완전  찐 착한가격  쫄깃한 식감 입맛대로 골라 먹을 수 있어 좋아요 \n",
       "19      5  1  여기 괜찮아요 서울에서 아부지 뵈러 내려왔다가 검색하고 왔는데요 가성비 갑이고 회도...\n",
       "20      2  0                        조개 구이만 먹었는데 그냥 그랬어요 웨이팅 한시간\n",
       "23      4  1                   장점ㅡ 싸다 단점ㅡ 공기밥 양이 적어 세그릇 시켜야 배부름\n",
       "24      5  1                        가성비 최고 횟집 장소도 넓고 회맛도 제일 좋아요\n",
       "25      1  0                                           정신업음 불친절\n",
       "26      2  0                                       깨끗하게 보이질 않아요\n",
       "27      5  1  운이 좋아서 토요일 시 반에 가도 이십분만 기다리고 먹었어요 직원이 불친절하다는데 ..."
      ]
     },
     "execution_count": 14,
     "metadata": {},
     "output_type": "execute_result"
    }
   ],
   "source": [
    "df.head(20)"
   ]
  },
  {
   "cell_type": "code",
   "execution_count": 15,
   "id": "ef138805",
   "metadata": {},
   "outputs": [
    {
     "name": "stdout",
     "output_type": "stream",
     "text": [
      "['포장/Noun', '기본/Noun', '시간/Noun', '맛/Noun', '난건/Noun', '오전/Noun', '에/Josa', '품절/Noun']\n"
     ]
    }
   ],
   "source": [
    "from konlpy.tag import Okt\n",
    "\n",
    "def get_pos(x):\n",
    "    tagger = Okt()\n",
    "    pos = tagger.pos(x)\n",
    "    pos = ['{}/{}'.format(word, tag) for word, tag in pos]\n",
    "    return pos\n",
    "\n",
    "result = get_pos(df['ko_text'].values[0])\n",
    "print(result)"
   ]
  },
  {
   "cell_type": "code",
   "execution_count": 16,
   "id": "3d54304d",
   "metadata": {},
   "outputs": [],
   "source": [
    "kk = []"
   ]
  },
  {
   "cell_type": "code",
   "execution_count": 17,
   "id": "95ce3707",
   "metadata": {},
   "outputs": [],
   "source": [
    "# kk = ['우동/Noun', '튀김/Noun', '고기/Noun', '오리/Noun', '타코/Noun', '불고기/Noun', '창원/Noun']"
   ]
  },
  {
   "cell_type": "code",
   "execution_count": 18,
   "id": "6b816f62",
   "metadata": {},
   "outputs": [],
   "source": [
    "# search = \"/Noun\"\n",
    "# for i in range(203):\n",
    "#     for word in get_pos(df['ko_text'].values[i]):\n",
    "#         if search in word: \n",
    "#             kk.append(word)  \n",
    "# print(kk)\n",
    "# stop_words = kk"
   ]
  },
  {
   "cell_type": "code",
   "execution_count": 19,
   "id": "c49d9479",
   "metadata": {},
   "outputs": [],
   "source": [
    "kk = ['회맛/Noun', '나가야/Noun', '스끼/Noun', '회/Noun', '매운탕/Noun', '나오니/Noun', '마늘/Noun', '청양고추/Noun', '매운탕/Noun', '회/Noun', '매운탕/Noun', '회도/Noun', '매운탕/Noun', '지난번/Noun', '회/Noun', '회/Noun', '조개/Noun',  '공기밥/Noun', '횟집/Noun', '회맛/Noun', '물회/Noun', '장어/Noun', '탕/Noun', '물회/Noun', '듬회꼬/Noun', '치/Noun', '물회/Noun', '대게/Noun', '게/Noun', '밥/Noun', '점/Noun', '알/Noun', '차/Noun', '횟집/Noun', '회/Noun', '해산물/Noun', '게/Noun', '수족관/Noun', '것/Noun', '완판되는/Noun', '해산물/Noun', '횟집/Noun', '부산/Noun', '전국/Noun', '두루/Noun', '두루/Noun', '부산/Noun', '부산/Noun', '진해/Noun', '진해/Noun', '횟집/Noun', '부회/Noun', '타/Noun', '석화/Noun', '천원/Noun', '만원/Noun', '집앞/Noun', '횟집/Noun', '접수/Noun', '김치/Noun', '중국산/Noun', '밑반찬/Noun', '음식/Noun', '곳/Noun', '가게/Noun', '고기/Noun', '갈비/Noun', '오늘/Noun', '처음/Noun', '것/Noun', '창원/Noun', '손님/Noun', '모시/Noun', '집/Noun', '어디가/Noun', '곳/Noun', '블로그/Noun', '홍보/Noun', '글/Noun', '보고/Noun', '갈비/Noun', '마블링/Noun', '덩어리/Noun', '기름/Noun', '등심/Noun',  '향/Noun', '부위/Noun', '제공/Noun', '게다가/Noun', '냉면/Noun', '면/Noun', '면/Noun', '여행/Noun', '곳/Noun', '가요/Noun', '여행/Noun', '창원/Noun', '집/Noun', '재/Noun', '방문/Noun', '곳/Noun', '어른/Noun', '셋/Noun', '이서/Noun', '우모/Noun', '듬/Noun', '정식/Noun', '인분/Noun', '돼지갈비/Noun', '인분/Noun', '배/Noun', '여기/Noun', '반찬/Noun', '갈비/Noun', '이모/Noun', '오늘/Noun', '고기/Noun', '콜/Noun', '이모/Noun', '가지/Noun', '고기/Noun', '밑반찬/Noun', '짐/Noun', '점심/Noun', '한정식/Noun', '가게/Noun', '규모/Noun', '접객/Noun', '시스템/Noun', '매번/Noun', '휴가/Noun', '때/Noun',  '점심/Noun',  '손님/Noun', '곳/Noun', '느낌/Noun', '제대로/Noun', '코로나/Noun', '안전/Noun', '및/Noun', '예방/Noun', '조치/Noun', '탁월/Noun', '보이/Noun', '모든/Noun',   '제/Noun', '값/Noun', '함/Noun', '음식/Noun', '장소/Noun',    '보장/Noun', '서브/Noun',  '직원/Noun', '밑반찬/Noun', '티/Noun', '고기/Noun', '제일/Noun', '일단/Noun', '벚꽃/Noun', '갈비/Noun', '양념/Noun', '이동/Noun', '갈비/Noun', '집중/Noun', '제일/Noun', '생갈/Noun', '비도/Noun', '소/Noun', '살살/Noun', '식감/Noun', '예전/Noun', '회식/Noun', '자주/Noun', '코로나/Noun', '담번/Noun', '우모/Noun', '듬/Noun',  '옛날/Noun', '점심/Noun', '지금/Noun',  '후/Noun', '덜덜/Noun', '자주/Noun', '상남동/Noun', '손님/Noun', '접대/Noun', '때/Noun', '꼭/Noun', '곳/Noun',  '곳/Noun', '강/Noun', '로타리/Noun', '클럽/Noun', '행사/Noun', '층/Noun', '진행/Noun', '수/Noun', '음식/Noun', '달/Noun', '종류/Noun', '젓가락/Noun', '곳/Noun', '상남동/Noun', '자리/Noun', '값/Noun', '이건/Noun', '평가/Noun',  '듯/Noun', '음식/Noun', '전부/Noun', '달기/Noun', '특색/Noun', '광고/Noun', '완전/Noun', '점심/Noun',  '것/Noun',  '다시/Noun',  '명가/Noun', '수준/Noun',  '일반/Noun',  '수준/Noun', '임/Noun', '안심/Noun',  '아이/Noun', '이집/Noun', '육회/Noun', '매우/Noun', '냉면/Noun', '평양/Noun', '냉면/Noun', '진주/Noun', '하연/Noun', '옥/Noun', '냉면/Noun', '식/Noun', '창원/Noun', '냉면/Noun', '개인/Noun', '가장/Noun', '취향/Noun', '원/Noun', '정식/Noun', '엄마/Noun', '할머니/Noun', '모시/Noun', '두/Noun', '분/Noun',  '괜찬음/Noun', '이/Noun',   '친구/Noun', '고기/Noun', '먼저/Noun', '양념/Noun', '소갈비/Noun', '소갈비/Noun', '무엇/Noun', '반찬/Noun',  '분/Noun', '다음/Noun', '번/Noun', '가족/Noun', '모임/Noun', '여기/Noun', '할머님/Noun', '듯/Noun', '참고/Noun', '불도/Noun', '숯불/Noun', '오늘/Noun',  '갈비/Noun',  '대비/Noun',  '쫌/Noun', '커피/Noun', '티라미수/Noun', '면/Noun', '바싹/Noun',  '곳/Noun',  '티라미수/Noun', '상태/Noun', '뮤/Noun',  '거/Noun', '얘기/Noun', '안/Noun', '배/Noun', '사장/Noun', '리뷰/Noun', '보시/Noun', '조심/Noun',    '딸/Noun', '최애/Noun', '레이스/Noun', '레인보우/Noun', '케잌/Noun', '곳/Noun', '나머진/Noun', '중간/Noun', '정도/Noun', '커피/Noun', '경남/Noun', '엔젤리너스/Noun', '맹탕/Noun', '중간/Noun', '이상은/Noun',  '브라운필드/Noun', '리노/Noun', '베이/Noun', '션/Noun', '브라운/Noun', '핸즈/Noun', '값/Noun',  '맥주/Noun', '팔고/Noun', '연/Noun', '옴/Noun', '염장/Noun', '주의/Noun', '욘/Noun',  '오점/Noun',  '바람/Noun', '카페/Noun', '라떼/Noun', '천원/Noun', '커피/Noun', '낮/Noun', '가면/Noun',   '커피/Noun', '테이블/Noun', '다리/Noun', '높이/Noun', '계속/Noun', '임/Noun', '점원/Noun', '소통/Noun',   '야경/Noun',  '정말/Noun', '예쁘댜/Noun', '음료/Noun', '빙수/Noun',  '반의/Noun', '반도/Noun', '매우/Noun',  '라떼/Noun', '아이스/Noun', '라떼/Noun', '타코/Noun', '내부/Noun', '생각/Noun', '메뉴/Noun', '창원/Noun', '집/Noun', '타코/Noun', '종류/Noun', '메뉴/Noun', '더/Noun', '타코/Noun',  '대비/Noun', '생각/Noun',  '괜춘/Noun',  '나쵸/Noun', '그거/Noun', '배/Noun', '먹음/Noun', '서울/Noun', '자주/Noun', '타코/Noun', '집들이/Noun', '비교/Noun', '때/Noun', '정말/Noun',    '불친절/Noun',   '평범/Noun', '돈/Noun', '안감/Noun', '양도/Noun', '은근/Noun', '사람/Noun',   '독보/Noun', '사람/Noun', '타코/Noun', '타코/Noun', '념념굿/Noun', '생각/Noun', '음식/Noun', '망고/Noun', '타코/Noun', '비프/Noun', '퀘사디아/Noun', '쉬/Noun', '림프/Noun', '중/Noun', '갑/Noun', '망고/Noun', '타코/Noun', '규/Noun', '스테이크/Noun', '위/Noun', '시킴/Noun', '비프/Noun', '타코/Noun', '제일/Noun', '재/Noun', '방문/Noun', '의사/Noun', '프로/Noun', '타코/Noun', '재/Noun', '방문/Noun', '의사/Noun', '토/Noun', '도스/Noun', '메뉴/Noun', '란/Noun', '창원/Noun', '멕시코/Noun', '음식/Noun', '다만/Noun', '향신료/Noun',  '버섯/Noun', '튀김/Noun', '대안/Noun', '주관/Noun', '제/Noun', '입맛/Noun', '이태원/Noun', '멕시코/Noun', '식당/Noun', '더/Noun', '망고/Noun', '쉬/Noun', '림프/Noun', '타코/Noun',  '느낌/Noun', '핫소스/Noun', '규/Noun', '스테이크/Noun', '진짜/Noun', '라이스/Noun', '전체/Noun',  '토핑/Noun', '타코/Noun', '라이스/Noun', '치폴레/Noun',  '양도/Noun', '완전/Noun',  '방역/Noun', '관리/Noun', '제대로/Noun', '정말/Noun', '명부/Noun', '마스크/Noun', '착용/Noun', '셀프/Noun', '바/Noun', '마스크/Noun', '착용/Noun', '요청/Noun', '손소독/Noun', '후/Noun', '입장/Noun', '등/Noun', '에피타이저/Noun', '나초/Noun', '소스/Noun', '토/Noun', '도스/Noun', '그릴/Noun', '드/Noun', '파히타/Noun', '자체/Noun', '또띠아/Noun', '진심/Noun', '배/Noun', '또띠아/Noun', '리필/Noun', '가능/Noun',   '것/Noun', '완벽/Noun', '창원/Noun', '곳/Noun', '멕시칸/Noun', '음식/Noun', '쫀맛입/Noun', '니드/Noun', '음식/Noun', '자주/Noun', '가요/Noun', '타코/Noun', '정통/Noun', '타코/Noun', '한국인/Noun', '입맛/Noun', '타코/Noun', '저/Noun', '더/Noun', '재료/Noun', '음식/Noun',  '등/Noun', '약간/Noun', '편/Noun', '듯/Noun', '타코/Noun', '고기/Noun', '때/Noun', '손님/Noun', '새우/Noun', '고기/Noun', '식/Noun',  '고기/Noun',  '나/Noun', '편/Noun',  '타코/Noun', '감자/Noun', '스프/Noun', '라임/Noun', '모히또/Noun', '꽤/Noun', '동굴/Noun', '동굴/Noun', '내부/Noun', '나름/Noun', '정리/Noun', '팔/Noun', '겉옷/Noun',  '여름/Noun', '입김/Noun', '셀프/Noun', '바/Noun', '동굴/Noun', '미터/Noun', '벨/Noun', '종업원/Noun', '어려움/Noun', '동굴/Noun', '시체/Noun', '동굴/Noun',   '밑반찬/Noun', '샐러드/Noun', '셀프/Noun', '바/Noun', '홀/Noun', '호출/Noun', '버튼/Noun', '오리/Noun',  '남/Noun', '예약/Noun', '다해/Noun', '매장/Noun', '기표/Noun', '손님/Noun', '눈앞/Noun', '일단/Noun', '동굴/Noun', '것/Noun', '자체/Noun', '장점/Noun', '곳/Noun', '정말/Noun', '오리/Noun', '불고기/Noun', '오리탕/Noun', '오리/Noun', '불고기/Noun', '자극/Noun', '오리탕/Noun', '처음/Noun', '닭개장/Noun', '제/Noun', '입/Noun', '오리/Noun', '불고기/Noun', '더/Noun', '오리/Noun', '불고기/Noun', '백숙/Noun', '진짜/Noun',  '특색/Noun', '오리/Noun', '백숙/Noun',  '무엇/Noun',  '남자/Noun', '사장/Noun', '직원/Noun', '일/Noun', '분/Noun', '정말/Noun', '카운터/Noun', '남/Noun', '직원/Noun', '일/Noun', '진짜/Noun', '개애애못함/Noun',  '비도/Noun', '것/Noun', '다만/Noun', '제/Noun', '때/Noun', '워낙/Noun', '묵은지/Noun', '계산/Noun', '때/Noun', '묵은지/Noun', '묵은지/Noun', '찬/Noun', '서빙/Noun', '뭐/Noun', '표정/Noun', '말/Noun', '안/Noun',  '길/Noun',  '단점/Noun', '초밥/Noun', '포장/Noun', '예전/Noun', '포장/Noun', '집/Noun', '스시/Noun', '훨/Noun', '요/Noun', '천안/Noun', '상/Noun', '초밥/Noun', '것/Noun', '오늘/Noun', '초밥/Noun', '시반/Noun', '전/Noun', '예약/Noun', '시/Noun', '분/Noun', '감/Noun', '점심시간/Noun', '층/Noun', '분/Noun', '진짜/Noun',  '정식/Noun', '코스/Noun', '기억/Noun', '창원/Noun', '가면/Noun', '또/Noun', '애오/Noun',  '점점/Noun', '곳/Noun', '곳/Noun', '테이블/Noun', '간격/Noun', '코스/Noun', '서브/Noun', '순서/Noun', '인/Noun', '테이블/Noun', '사시미/Noun', '먹기/Noun', '전/Noun', '초밥/Noun', '서브/Noun', '그릇/Noun', '그릇/Noun', '전/Noun', '다음/Noun', '음식/Noun', '틈/Noun', '모서리/Noun', '경우/Noun', '가게/Noun', '사람/Noun', '때문/Noun',  '시스템/Noun', '썩/Noun', '인적/Noun', '직원/Noun',  '너/Noun', '캐치/Noun',  '재료/Noun', '청주/Noun', '온/Noun', '남자친구/Noun', '기분/Noun', '가게/Noun', '초밥/Noun', '사람/Noun', '왜/Noun', '마스크/Noun', '하나/Noun', '안/Noun', '끼/Noun', '조리/Noun', '사용/Noun', '입/Noun', '가리개/Noun', '코로나/Noun', '생각/Noun', '도/Noun', '안/Noun', '하나/Noun', '여자/Noun', '둘이서/Noun', '연어/Noun', '광어/Noun', '둘/Noun', '편이/Noun', '초밥/Noun', '연어/Noun', '광어/Noun', '번갈아/Noun', '가면/Noun', '주문/Noun', '주문/Noun', '때/Noun', '자꾸/Noun', '더/Noun', '주문/Noun', '건/Noun', '거기/Noun', '이해/Noun', '광어/Noun', '먼저/Noun', '판/Noun', '주더/Noun', '점/Noun', '정도/Noun', '몇번/Noun', '테이블/Noun', '연어/Noun', '연어/Noun', '회/Noun', '상태/Noun', '제각각/Noun', '테이블/Noun', '간격/Noun', '거기/Noun', '밥/Noun', '제멋대로/Noun', '왜/Noun', '인기/Noun', '코스/Noun', '요리/Noun', '타이밍/Noun', '고려/Noun', '음식/Noun', '모로/Noun', '재/Noun', '방문/Noun', '의사/Noun', '곳/Noun', '창원/Noun', '스시/Noun', '집임/Noun', '단점/Noun', '테이블/Noun', '간격/Noun', '줄/Noun', '기니/Noun', '예약/Noun', '셈/Noun',  '시럽/Noun', '축구/Noun', '경기/Noun', '창원/Noun', '지인/Noun',  '처음/Noun', '생맥주/Noun', '선택/Noun', '가로수길/Noun', '업체/Noun', '주류/Noun', '판매/Noun', '금지/Noun', '이/Noun', '밥/Noun', '정말/Noun', '예술/Noun', '처음/Noun', '젓가락/Noun', '것/Noun', '처럼/Noun', '끝내/Noun', '입/Noun', '입/Noun', '안/Noun', '밥알/Noun', '부/Noun', '미리/Noun', '예약/Noun', '시/Noun', '저녁/Noun', '국물/Noun',  '면/Noun', '불어/Noun',  '국물/Noun', '나이스/Noun', '함/Noun', '면/Noun', '하마/Noun', '츠/Noun', '이치란/Noun', '면/Noun', '종류/Noun', '추가/Noun', '더/Noun', '것/Noun', '테이블/Noun', '회전/Noun', '빨/Noun', '대기/Noun', '순서도/Noun',  '곳도/Noun', '무엇/Noun', '제일/Noun', '나중/Noun', '또/Noun', '가모/Noun', '매력/Noun', '자주/Noun', '일본/Noun', '라멘/Noun', '국내외/Noun', '군데/Noun', '여기/Noun', '제/Noun', '입맛/Noun', '완전/Noun', '지식/Noun', '먹기/Noun',   '한국/Noun', '거/Noun', '이/Noun', '지역/Noun', '사람/Noun', '볼일/Noun', '최근/Noun', '두/Noun', '번/Noun', '일회용/Noun', '컵/Noun',  '별/Noun', '하나/Noun', '후쿠오카/Noun', '번/Noun', '정도/Noun', '방문/Noun', '라멘/Noun', '파이터/Noun', '곳/Noun', '한국/Noun', '라면/Noun', '집/Noun', '라멘/Noun', '가대/Noun', '한국/Noun', '라면/Noun', '생각/Noun', '하이/Noun', '볼/Noun', '제일/Noun', '시국/Noun', '정도/Noun', '라멘/Noun', '집/Noun', '교자/Noun', '닭튀김/Noun', '번은/Noun', '저/Noun', '항상/Noun', '바질/Noun', '라멘/Noun', '차슈/Noun', '계란/Noun', '추가/Noun', '완전/Noun',  '리뷰/Noun', '지금/Noun', '침/Noun', '젓가락/Noun', \n",
    "      '숟가락/Noun', '용기/Noun', '등/Noun', '식기/Noun', '플라스틱/Noun',  '개념/Noun', '듯/Noun', '닭튀김/Noun', '사이드/Noun', '개창/Noun', '렬임/Noun', '차슈/Noun', '맛남/Noun', '생각/Noun', '바질/Noun', '맨/Noun', '라멘/Noun', '더/Noun', '이/Noun',  '이/Noun', '정도/Noun', '라멘/Noun', '나/Noun', '친구/Noun', '커플/Noun', '남자/Noun', '둘/Noun', '사람/Noun', '우리/Noun', '국물/Noun',  '달/Noun', '꽤/Noun', '바질/Noun', '분/Noun', '바질/Noun', '라멘/Noun', '꼭/Noun', '다가/Noun', '여기/Noun', '배민/Noun', '진해/Noun', '라면/Noun', '배달/Noun', '곳/Noun', '여기/Noun', '배달/Noun', '플로/Noun', '진해/Noun', '진짜/Noun', '달걀/Noun',  '라면/Noun', '차슈/Noun', '입구/Noun', '쪽/Noun', '또/Noun', '가야/Noun', '징/Noun', '커피/Noun', '빵/Noun',  '쇼케이스/Noun', '안/Noun', '빵류/Noun',  '과일/Noun', '몽블랑/Noun', '생크림/Noun', '언제/Noun', '눅눅/Noun', '자체/Noun', '핸드/Noun', '드립/Noun', '요/Noun', '개맛/Noun', '직원/Noun', '저번/Noun', '기억/Noun', '다시/Noun', '주차장/Noun', '관리인/Noun', '말귀/Noun', '이야기/Noun', '번/Noun', '그/Noun', '말/Noun', '바로/Noun', '핸들/Noun', '다른/Noun', '곳/Noun', '저/Noun', '리뷰/Noun', '안/Noun', '저녁/Noun', '때/Noun', '글/Noun', '주차장/Noun', '분/Noun', '관리/Noun',  '곳/Noun', '갈바/Noun', '집/Noun', '똥/Noun', '이모/Noun', '편/Noun', '집/Noun', '번은/Noun', '별/Noun', '점/Noun', '자체/Noun', '의미/Noun', '옴/Noun', '음식/Noun', '자기/Noun', '문안/Noun', '말/Noun', '국박/Noun', '손님/Noun', '식당/Noun',  '식당/Noun', '리뷰/Noun', '평생/Noun', '처음/Noun', '시간/Noun', '손님/Noun',  '종업원/Noun', '나이/Noun', '부모님/Noun', '참고/Noun', '계산/Noun', '때/Noun', '카운터/Noun', '마음/Noun', '얘기/Noun', '대신/Noun', '사과/Noun', '번/Noun', '다시/Noun', '분지/Noun', '음식/Noun', '직원/Noun', '언제/Noun', '이야기/Noun', '안감/Noun', '함안/Noun', '대구/Noun', '식당/Noun', '도청/Noun', '앞/Noun', '양각/Noun', '사파동/Noun', '수정/Noun', '골/Noun', '북면/Noun', '진가/Noun', '등등/Noun', '중/Noun', '가장/Noun', '유명/Noun', '세/Noun', '메뉴판/Noun', '젤위/Noun', '가장/Noun', '단가/Noun', '석쇠/Noun', '불고기/Noun', '장사/Noun', '급/Noun', '모습/Noun', '국밥/Noun', '물김치/Noun', '반찬/Noun', '깍두기/Noun', '생/Noun', '마늘/Noun', '손절각/Noun', '만/Noun', '옛날/Noun', '국밥/Noun', '사실/Noun', '루/Noun', '불고기/Noun', '정말/Noun', '과거/Noun', '영광/Noun', '백김치/Noun', '깍두기/Noun', '판매/Noun', '박일/Noun', '정도/Noun', '요/Noun', '쌈/Noun', '된장/Noun', '통/Noun', '퍼/Noun', '직접/Noun', '뒤론/Noun', '절대/Noun', '안감/Noun', '추억/Noun', '고기/Noun', '맛잏는데/Noun', '국/Noun', '음식/Noun', '조합/Noun',  '뭔가/Noun', '불고기/Noun',  '대비/Noun', '보통/Noun', '소고기/Noun', '국밥/Noun', '땡/Noun',  '조음/Noun', '샐러드/Noun',  '맛잇엇어/Noun', '하오츠/Noun', '하오츠/Noun',  '정돈/Noun', '정말/Noun',  '쵝오네/Noun', '해물/Noun', '베이스/Noun', '떡볶이/Noun', '샐러드/Noun', '이집/Noun', '데이트/Noun', '코스/Noun',  '크림/Noun', '파스타/Noun', '식기/Noun', '전/Noun', '진짜/Noun', '듯/Noun', '샐러드/Noun', '안/Noun', '편/Noun', '샐러드/Noun', '드레싱/Noun', '새우/Noun', '닭/Noun', '가슴/Noun', '살/Noun', '치즈/Noun', '떡볶이/Noun', '역시/Noun', '청춘/Noun', '키친/Noun', '답/Noun', '직원/Noun', '최/Noun', '샐러드/Noun',  '용/Noun', '양도/Noun', '성비/Noun',  '이용/Noun',  '샐러드/Noun', '떡볶이/Noun', '모두/Noun', '때/Noun', '항상/Noun',   '어유/Noun',  '아침/Noun', '샐러드/Noun', '지도/Noun', '여기/Noun', '샐러드/Noun', '꼭/Noun', '진짜/Noun', '집/Noun', '대기/Noun', '샐러드/Noun', '청춘/Noun', '치떡/Noun', '꼭/Noun', '함/Noun', '년/Noun', '전/Noun', '군대/Noun', '후임/Noun', '기억/Noun', '이제야/Noun', '리뷰/Noun',  '부산/Noun', '다음/Noun', '창원/Noun', '일/Noun', '꼭/Noun', '구/Noun', '비임/Noun',  '진짜/Noun', '샐러드/Noun', '꼭/Noun', '무슨/Noun', '풀/Noun', '양도/Noun', '대박/Noun', '내/Noun', '샐러드/Noun', '점/Noun',  '떡볶이/Noun', '맥주/Noun', '당/Noun', '스파게티/Noun', '맛남/Noun', '줄/Noun', '손님/Noun',  '대비/Noun', '양도/Noun', '정말/Noun', '바람/Noun', '직원/Noun', '얼굴/Noun', '음료/Noun',  '주시/Noun', '지금/Noun', '로이/Noun', '내/Noun', '파스타/Noun', '제일/Noun', '완전/Noun',  '창원/Noun', '꼭/Noun', '곳/Noun',  '치떡/Noun', '절대/Noun', '마/Noun', '응대/Noun', '예전/Noun', '사장/Noun', '언니/Noun', '동생/Noun', '손님/Noun', '곳/Noun', '건물/Noun', '축하/Noun', '명/Noun',  '룸/Noun', '예약/Noun', '해/Noun', '두상/Noun', '주문/Noun', '해도/Noun', '돈/Noun', '손해/Noun', '볼/Noun', '수/Noun', '배/Noun', '말/Noun', '절로/Noun', '옛날/Noun', '영도/Noun', '인심/Noun', '옛날/Noun', '영도/Noun', '옛날/Noun', '도장/Noun',   '비주/Noun', '얼/Noun', '또한/Noun', '빵점/Noun',  '서울/Noun', '손님/Noun', '모시/Noun', '룸/Noun', '안/Noun',  '정말/Noun', '이/Noun', '대자/Noun', '소자/Noun', '구분/Noun', '예전/Noun', '요즘/Noun', '장사/Noun',  '줄/Noun', '난리/Noun', '임/Noun', '성인/Noun', '인/Noun', '대자/Noun', '개시/Noun', '키/Noun', '아마/Noun', '장어/Noun', '무난/Noun',  '장어/Noun', '탕/Noun', '공기밥/Noun', '주차/Noun',  '정말/Noun', '휴가/Noun', '부모님/Noun', '처음/Noun',  '구/Noun', '응대/Noun', '것/Noun',  '양도/Noun',  '왜/Noun', '리뷰/Noun', '작성/Noun', '기분/Noun', '상해/Noun', '카카오/Noun', '맵/Noun', '가입/Noun', '리뷰/Noun', '제피/Noun', '방아/Noun', '장어/Noun', '국/Noun', '생/Noun', '생강/Noun', '슬/Noun', '라이스/Noun', '절/Noun', '생강/Noun', '붕장어/Noun', '구이/Noun',  '인테리어/Noun', '넘흐나/Noun', '커피/Noun', '실/Noun', '타래/Noun', '빙수/Noun', '직원/Noun', '강아지/Noun', '해/Noun', '주심/Noun', '맛모아욤/Noun', '내부/Noun', '볼거리/Noun', '곳/Noun', '힐링/Noun', '레이스/Noun', '식물/Noun', '카페/Noun', '마련/Noun', '식물/Noun', '잔뜩/Noun', '좌석/Noun', '테이블/Noun', '시선/Noun', '차단/Noun', '사진/Noun', '식물/Noun', '차/Noun', '한잔/Noun', '나무/Noun', '색/Noun', '다만/Noun', '커피/Noun',   '그/Noun',  '용서/Noun', '국적/Noun',  '곳/Noun', '인/Noun', '음료/Noun', '빙수/Noun', '인/Noun', '줌/Noun', '물/Noun', '얼음/Noun', '녹차/Noun', '베이스/Noun', '부어/Noun', '준/Noun', '옛날/Noun', '빙수/Noun', '느낌/Noun', '아침/Noun', '일찍/Noun', '사람/Noun', '가족/Noun', '시간/Noun', '옴/Noun', '바다/Noun',   '와플/Noun', '진심/Noun', '년전/Noun', '처음/Noun', '사람/Noun', '발/Noun', '지중해/Noun', '어제/Noun', '멀리/Noun', '온/Noun', '친구/Noun', '델꼬/Noun', '눈치/Noun', '역시/Noun', '저/Noun', '직접/Noun', '서빙/Noun', '분도/Noun', '세/Noun',  '출입/Noun', '금지/Noun', '경로당/Noun', '느낌/Noun', '그/Noun', '옛날/Noun', '지중해/Noun', '향수/Noun', '외각/Noun', '국적/Noun', '기/Noun', '요게/Noun', '별개/Noun', '준/Noun', '이유/Noun', '모든/Noun', '음료/Noun', '외면/Noun', '것/Noun', '치중/Noun', '도/Noun', '별개/Noun', '음/Noun', '컵/Noun', '립스틱/Noun', '자국/Noun', '그대로/Noun', '방금/Noun', '점/Noun', '메/Noun', '원/Noun', '드립/Noun', '커피/Noun', '카누/Noun', '와플/Noun', '아이스크림/Noun', '아이스크림/Noun', '컵/Noun', '바닥/Noun', '컵/Noun', '높이/Noun', '절반/Noun', '요/Noun',  '시체/Noun', '거의/Noun', '매운탕/Noun', '집/Noun', '바닷가/Noun', '근처/Noun', '와플/Noun', '이나/Noun', '그/Noun', '음료/Noun', '반드시/Noun', '사이드/Noun', '메뉴/Noun', '주문/Noun', '테이블/Noun', '순환/Noun', '때문/Noun', '겟/Noun', '메뉴/Noun', '몇개/Noun', '그것/Noun', '또/Noun', '그/Noun', '와중/Noun', '메뉴/Noun', '개/Noun', '시간/Noun', '가까이/Noun', '말/Noun', '한마디/Noun', '평범/Noun', '대기/Noun', '김/Noun',  '뭐/Noun', '한번/Noun', '볼/Noun', '하우스/Noun', '와인/Noun', '편의점/Noun', '원/Noun', '와인/Noun',  '보통/Noun',  '대기/Noun',  '주변/Noun', '이집/Noun', '사람/Noun', '제/Noun', '입맛/Noun', '개/Noun', '서울/Noun', '여기/Noun', '밥/Noun', '다시/Noun', '왜냐면/Noun', '진짜/Noun', '닭/Noun', '튀김/Noun', '국물/Noun', '고기랑/Noun', '진짜/Noun', '담/Noun', '그/Noun', '자체/Noun', '서울/Noun', '진심/Noun', '송파구/Noun', '쪽/Noun', '통닭/Noun', '다리/Noun', '쫄깃/Noun', '면발/Noun', '부모님/Noun', '모시/Noun', '별/Noun', '왜/Noun', '개/Noun',  '집/Noun', '닭다리/Noun', '하나/Noun', '다가/Noun', '가스/Noun', '우동/Noun', '이/Noun', '대기/Noun', '빠/Noun', '샐러드/Noun', '우동/Noun', '튀김/Noun', '인지/Noun', '안쪽/Noun', '튀김/Noun', '부분/Noun', '어쨋/Noun', '우동/Noun', '닭다리/Noun', '완전/Noun', '우동/Noun', '닭다리/Noun', '튀김/Noun', '배/Noun', '면발/Noun',  '쫄깃해/Noun', '국물/Noun', '시원/Noun', '닭튀김/Noun', '궁합/Noun', '다만/Noun', '닭다리/Noun', '냉동/Noun', '살이/Noun',   '별하나/Noun', '주말/Noun', '대기/Noun', '막/Noun',  '동네/Noun', '우동/Noun', '집/Noun', '생각/Noun', '가세/Noun',   '약간/Noun', '더/Noun', '닭다리/Noun', '하나/Noun', '여기/Noun', '감/Noun', '식/Noun', '자재/Noun', '마트/Noun', '아침/Noun', '쯤애/Noun', '것/Noun',   '만원/Noun', '조오오오오/Noun', '구리/Noun', '개인/Noun', '일본/Noun', '국물/Noun',  '치킨/Noun', '우동/Noun', '진짜/Noun',  '우동/Noun', '생각/Noun', '우동/Noun', '변경/Noun', '가능/Noun', '리코/Noun', '치즈/Noun', '빠/Noun', '샐러드/Noun', '하우스/Noun', '인도/Noun', '샐러드/Noun', '우동/Noun', '닭다리/Noun', '튀김/Noun', '바삭/Noun', '치킨/Noun', '하우스/Noun', '와인/Noun', '스/Noun', '위트/Noun', '지도/Noun', '드라이/Noun', '그/Noun', '중간/Noun', '진짜/Noun', '레몬/Noun', '스프레이/Noun', '꽃/Noun', '레몬/Noun', '즙/Noun', '뿌리/Noun', '것/Noun', '인상/Noun',  '또/Noun', '우동/Noun', '튀김/Noun', '닭/Noun', '매번/Noun', '오늘/Noun', '빵/Noun', '개/Noun', '때/Noun', '방문/Noun', '곳/Noun', '재/Noun', '방문/Noun', '사퍼/Noun', '시국/Noun', '주방/Noun', '턱스/Noun', '마스크/Noun', '기침/Noun', '빵/Noun', '빵/Noun', '밀크쉐이크/Noun', '명성/Noun', '처빵/Noun', '점원/Noun', '옆/Noun', '정신/Noun', '종류/Noun', '하나/Noun', '하나/Noun', '정말/Noun', '빵/Noun', '여름철/Noun', '창동/Noun', '김/Noun', '밀크쉐이크/Noun', '하나/Noun', '빵집/Noun', '그/Noun',  '그/Noun',  '바게트/Noun', '빵/Noun',  '꿀빵/Noun',  '구매/Noun', '빵/Noun', '영업/Noun', '분/Noun', '말솜씨/Noun', '역시/Noun', '빵/Noun', '코/Noun', '아보/Noun', '팥/Noun', '모든/Noun', '디저트/Noun', '빵/Noun', '매니아/Noun', '라면/Noun', '부근/Noun', '가면/Noun', '꼭/Noun', '곳/Noun', '옛날/Noun', '입맛/Noun', '전통/Noun', '단팥빵/Noun', '종류/Noun', '이성당/Noun', '전체/Noun',   '불친절/Noun', '기본/Noun']"
   ]
  },
  {
   "cell_type": "code",
   "execution_count": 20,
   "id": "66b4e503",
   "metadata": {},
   "outputs": [],
   "source": [
    "search2 = \"/Josa\"\n",
    "for i in range(244):\n",
    "    for word in get_pos(df['ko_text'].values[i]):\n",
    "        if search2 in word: \n",
    "            kk.append(word)  \n",
    "stop_words = kk"
   ]
  },
  {
   "cell_type": "code",
   "execution_count": 21,
   "id": "7a490ff3",
   "metadata": {},
   "outputs": [],
   "source": [
    "search3 = \"/Suffix\" #접미사\n",
    "for i in range(244):\n",
    "    for word in get_pos(df['ko_text'].values[i]):\n",
    "        if search3 in word: \n",
    "            kk.append(word)  \n",
    "stop_words = kk"
   ]
  },
  {
   "cell_type": "code",
   "execution_count": 22,
   "id": "f759cb63",
   "metadata": {},
   "outputs": [],
   "source": [
    "# stop_words = ['회맛/Noun', '나가야/Noun', '스끼/Noun', '회/Noun', '매운탕/Noun', '나오니/Noun', '마늘/Noun', '청양고추/Noun', '매운탕/Noun', '회/Noun', '매운탕/Noun', '회도/Noun', '매운탕/Noun', '지난번/Noun', '회/Noun', '회/Noun', '조개/Noun',  '공기밥/Noun', '횟집/Noun', '회맛/Noun', '물회/Noun', '장어/Noun', '탕/Noun', '물회/Noun', '듬회꼬/Noun', '치/Noun', '물회/Noun', '대게/Noun', '게/Noun', '밥/Noun', '점/Noun', '알/Noun', '차/Noun', '횟집/Noun', '회/Noun', '해산물/Noun', '게/Noun', '수족관/Noun', '것/Noun', '완판되는/Noun', '해산물/Noun', '횟집/Noun', '부산/Noun', '전국/Noun', '두루/Noun', '두루/Noun', '부산/Noun', '부산/Noun', '진해/Noun', '진해/Noun', '횟집/Noun', '부회/Noun', '타/Noun', '석화/Noun', '천원/Noun', '만원/Noun', '집앞/Noun', '횟집/Noun', '접수/Noun', '김치/Noun', '중국산/Noun', '밑반찬/Noun', '음식/Noun', '곳/Noun', '가게/Noun', '고기/Noun', '갈비/Noun', '오늘/Noun', '처음/Noun', '것/Noun', '창원/Noun', '손님/Noun', '모시/Noun', '집/Noun', '어디가/Noun', '곳/Noun', '블로그/Noun', '홍보/Noun', '글/Noun', '보고/Noun', '갈비/Noun', '마블링/Noun', '덩어리/Noun', '기름/Noun', '등심/Noun',  '향/Noun', '부위/Noun', '제공/Noun', '게다가/Noun', '냉면/Noun', '면/Noun', '면/Noun', '여행/Noun', '곳/Noun', '가요/Noun', '여행/Noun', '창원/Noun', '집/Noun', '재/Noun', '방문/Noun', '곳/Noun', '어른/Noun', '셋/Noun', '이서/Noun', '우모/Noun', '듬/Noun', '정식/Noun', '인분/Noun', '돼지갈비/Noun', '인분/Noun', '배/Noun', '여기/Noun', '반찬/Noun', '갈비/Noun', '이모/Noun', '오늘/Noun', '고기/Noun', '콜/Noun', '이모/Noun', '가지/Noun', '고기/Noun', '밑반찬/Noun', '짐/Noun', '점심/Noun', '한정식/Noun', '가게/Noun', '규모/Noun', '접객/Noun', '시스템/Noun', '매번/Noun', '휴가/Noun', '때/Noun', '가격/Noun', '점심/Noun',  '손님/Noun', '곳/Noun', '느낌/Noun', '제대로/Noun', '코로나/Noun', '안전/Noun', '및/Noun', '예방/Noun', '조치/Noun', '탁월/Noun', '보이/Noun', '모든/Noun', '서비스/Noun',  '제/Noun', '값/Noun', '함/Noun', '음식/Noun', '장소/Noun', '서비스/Noun', '가격/Noun',  '보장/Noun', '서브/Noun',  '직원/Noun', '밑반찬/Noun', '티/Noun', '고기/Noun', '제일/Noun', '일단/Noun', '벚꽃/Noun', '갈비/Noun', '양념/Noun', '이동/Noun', '갈비/Noun', '집중/Noun', '제일/Noun', '생갈/Noun', '비도/Noun', '소/Noun', '살살/Noun', '식감/Noun', '예전/Noun', '회식/Noun', '자주/Noun', '코로나/Noun', '담번/Noun', '우모/Noun', '듬/Noun', '가격/Noun', '옛날/Noun', '점심/Noun', '지금/Noun', '가격/Noun', '후/Noun', '덜덜/Noun', '자주/Noun', '상남동/Noun', '손님/Noun', '접대/Noun', '때/Noun', '꼭/Noun', '곳/Noun',  '곳/Noun', '강/Noun', '로타리/Noun', '클럽/Noun', '행사/Noun', '층/Noun', '진행/Noun', '수/Noun', '음식/Noun', '달/Noun', '종류/Noun', '젓가락/Noun', '곳/Noun', '상남동/Noun', '자리/Noun', '값/Noun', '이건/Noun', '평가/Noun', '가격/Noun', '듯/Noun', '음식/Noun', '전부/Noun', '달기/Noun', '특색/Noun', '광고/Noun', '완전/Noun', '점심/Noun', '가격/Noun', '것/Noun', '서비스/Noun', '다시/Noun', '가격/Noun', '명가/Noun', '수준/Noun', '서비스/Noun', '일반/Noun',  '수준/Noun', '임/Noun', '안심/Noun', '가격/Noun', '아이/Noun', '이집/Noun', '육회/Noun', '매우/Noun', '냉면/Noun', '평양/Noun', '냉면/Noun', '진주/Noun', '하연/Noun', '옥/Noun', '냉면/Noun', '식/Noun', '창원/Noun', '냉면/Noun', '개인/Noun', '가장/Noun', '취향/Noun', '원/Noun', '정식/Noun', '엄마/Noun', '할머니/Noun', '모시/Noun', '두/Noun', '분/Noun',  '괜찬음/Noun', '이/Noun', '가격/Noun', '서비스/Noun', '친구/Noun', '고기/Noun', '먼저/Noun', '양념/Noun', '소갈비/Noun', '소갈비/Noun', '무엇/Noun', '반찬/Noun', '서비스/Noun', '분/Noun', '다음/Noun', '번/Noun', '가족/Noun', '모임/Noun', '여기/Noun', '할머님/Noun', '듯/Noun', '참고/Noun', '불도/Noun', '숯불/Noun', '오늘/Noun',  '갈비/Noun', '가격/Noun', '대비/Noun', '서비스/Noun', '쫌/Noun', '커피/Noun', '티라미수/Noun', '면/Noun', '바싹/Noun',  '곳/Noun',  '티라미수/Noun', '상태/Noun', '뮤/Noun', '상한/Noun', '거/Noun', '얘기/Noun', '안/Noun', '배/Noun', '사장/Noun', '리뷰/Noun', '보시/Noun', '조심/Noun',  '가격/Noun', '뷰/Noun', '딸/Noun', '최애/Noun', '레이스/Noun', '레인보우/Noun', '케잌/Noun', '곳/Noun', '나머진/Noun', '중간/Noun', '정도/Noun', '커피/Noun', '경남/Noun', '엔젤리너스/Noun', '맹탕/Noun', '중간/Noun', '이상은/Noun',  '브라운필드/Noun', '리노/Noun', '베이/Noun', '션/Noun', '브라운/Noun', '핸즈/Noun', '값/Noun',  '맥주/Noun', '팔고/Noun', '연/Noun', '옴/Noun', '염장/Noun', '주의/Noun', '욘/Noun', '뷰/Noun', '오점/Noun',  '바람/Noun', '카페/Noun', '라떼/Noun', '천원/Noun', '커피/Noun', '낮/Noun', '가면/Noun', '뷰/Noun', '뷰/Noun', '커피/Noun', '테이블/Noun', '다리/Noun', '높이/Noun', '계속/Noun', '임/Noun', '점원/Noun', '소통/Noun', '서비스/Noun',  '야경/Noun', '뷰/Noun', '정말/Noun', '예쁘댜/Noun', '음료/Noun', '빙수/Noun', '가격/Noun', '반의/Noun', '반도/Noun', '매우/Noun', '가격/Noun', '라떼/Noun', '아이스/Noun', '라떼/Noun', '타코/Noun', '내부/Noun', '생각/Noun', '메뉴/Noun', '창원/Noun', '집/Noun', '타코/Noun', '종류/Noun', '메뉴/Noun', '더/Noun', '타코/Noun', '가격/Noun', '대비/Noun', '생각/Noun', '가격/Noun', '괜춘/Noun', '무한/Noun', '나쵸/Noun', '그거/Noun', '배/Noun', '먹음/Noun', '서울/Noun', '자주/Noun', '타코/Noun', '집들이/Noun', '비교/Noun', '때/Noun', '정말/Noun',  '가격/Noun', '서비스/Noun', '불친절/Noun', '서비스/Noun',  '평범/Noun', '돈/Noun', '안감/Noun', '양도/Noun', '은근/Noun', '사람/Noun',   '독보/Noun', '사람/Noun', '타코/Noun', '타코/Noun', '념념굿/Noun', '생각/Noun', '음식/Noun', '망고/Noun', '타코/Noun', '비프/Noun', '퀘사디아/Noun', '쉬/Noun', '림프/Noun', '중/Noun', '갑/Noun', '망고/Noun', '타코/Noun', '규/Noun', '스테이크/Noun', '위/Noun', '시킴/Noun', '비프/Noun', '타코/Noun', '제일/Noun', '재/Noun', '방문/Noun', '의사/Noun', '프로/Noun', '타코/Noun', '재/Noun', '방문/Noun', '의사/Noun', '토/Noun', '도스/Noun', '메뉴/Noun', '란/Noun', '창원/Noun', '멕시코/Noun', '음식/Noun', '다만/Noun', '향신료/Noun',  '버섯/Noun', '튀김/Noun', '대안/Noun', '주관/Noun', '제/Noun', '입맛/Noun', '이태원/Noun', '멕시코/Noun', '식당/Noun', '더/Noun', '망고/Noun', '쉬/Noun', '림프/Noun', '타코/Noun', '조금/Noun', '느낌/Noun', '핫소스/Noun', '규/Noun', '스테이크/Noun', '진짜/Noun', '라이스/Noun', '전체/Noun', '만족/Noun', '토핑/Noun', '타코/Noun', '라이스/Noun', '치폴레/Noun', '조금/Noun', '양도/Noun', '완전/Noun', '만족/Noun', '방역/Noun', '관리/Noun', '제대로/Noun', '정말/Noun', '명부/Noun', '마스크/Noun', '착용/Noun', '셀프/Noun', '바/Noun', '마스크/Noun', '착용/Noun', '요청/Noun', '손소독/Noun', '후/Noun', '입장/Noun', '등/Noun', '에피타이저/Noun', '나초/Noun', '소스/Noun', '토/Noun', '도스/Noun', '그릴/Noun', '드/Noun', '파히타/Noun', '자체/Noun', '또띠아/Noun', '진심/Noun', '배/Noun', '또띠아/Noun', '리필/Noun', '가능/Noun', '가격/Noun', '조금/Noun', '것/Noun', '완벽/Noun', '창원/Noun', '곳/Noun', '멕시칸/Noun', '음식/Noun', '쫀맛입/Noun', '니드/Noun', '음식/Noun', '자주/Noun', '가요/Noun', '타코/Noun', '정통/Noun', '타코/Noun', '한국인/Noun', '입맛/Noun', '타코/Noun', '저/Noun', '더/Noun', '재료/Noun', '음식/Noun', '양/Noun', '등/Noun', '약간/Noun', '편/Noun', '듯/Noun', '타코/Noun', '고기/Noun', '때/Noun', '손님/Noun', '새우/Noun', '고기/Noun', '식/Noun', '만족/Noun', '고기/Noun',  '나/Noun', '편/Noun', '가격/Noun', '타코/Noun', '감자/Noun', '스프/Noun', '라임/Noun', '모히또/Noun', '꽤/Noun', '동굴/Noun', '동굴/Noun', '내부/Noun', '나름/Noun', '정리/Noun', '팔/Noun', '겉옷/Noun',  '여름/Noun', '입김/Noun', '셀프/Noun', '바/Noun', '동굴/Noun', '미터/Noun', '벨/Noun', '종업원/Noun', '어려움/Noun', '동굴/Noun', '시체/Noun', '동굴/Noun',   '밑반찬/Noun', '샐러드/Noun', '셀프/Noun', '바/Noun', '홀/Noun', '호출/Noun', '버튼/Noun', '오리/Noun', '살짝/Noun', '남/Noun', '예약/Noun', '다해/Noun', '매장/Noun', '기표/Noun', '손님/Noun', '눈앞/Noun', '일단/Noun', '동굴/Noun', '것/Noun', '자체/Noun', '장점/Noun', '곳/Noun', '정말/Noun', '오리/Noun', '불고기/Noun', '오리탕/Noun', '오리/Noun', '불고기/Noun', '자극/Noun', '오리탕/Noun', '처음/Noun', '닭개장/Noun', '제/Noun', '입/Noun', '오리/Noun', '불고기/Noun', '더/Noun', '오리/Noun', '불고기/Noun', '백숙/Noun', '진짜/Noun',  '특색/Noun', '오리/Noun', '백숙/Noun',  '무엇/Noun',  '남자/Noun', '사장/Noun', '직원/Noun', '일/Noun', '분/Noun', '정말/Noun', '카운터/Noun', '남/Noun', '직원/Noun', '일/Noun', '진짜/Noun', '개애애못함/Noun',  '비도/Noun', '것/Noun', '다만/Noun', '제/Noun', '때/Noun', '워낙/Noun', '묵은지/Noun', '계산/Noun', '때/Noun', '묵은지/Noun', '묵은지/Noun', '찬/Noun', '서빙/Noun', '뭐/Noun', '표정/Noun', '말/Noun', '안/Noun',  '길/Noun',  '단점/Noun', '초밥/Noun', '포장/Noun', '예전/Noun', '포장/Noun', '집/Noun', '스시/Noun', '훨/Noun', '요/Noun', '천안/Noun', '상/Noun', '초밥/Noun', '것/Noun', '오늘/Noun', '초밥/Noun', '시반/Noun', '전/Noun', '예약/Noun', '시/Noun', '분/Noun', '감/Noun', '점심시간/Noun', '층/Noun', '분/Noun', '진짜/Noun',  '정식/Noun', '코스/Noun', '기억/Noun', '창원/Noun', '가면/Noun', '또/Noun', '애오/Noun',  '점점/Noun', '곳/Noun', '곳/Noun', '테이블/Noun', '간격/Noun', '코스/Noun', '서브/Noun', '순서/Noun', '인/Noun', '테이블/Noun', '사시미/Noun', '먹기/Noun', '전/Noun', '초밥/Noun', '서브/Noun', '그릇/Noun', '그릇/Noun', '전/Noun', '다음/Noun', '음식/Noun', '틈/Noun', '모서리/Noun', '경우/Noun', '가게/Noun', '사람/Noun', '때문/Noun',  '시스템/Noun', '썩/Noun', '인적/Noun', '직원/Noun', '실수/Noun', '너/Noun', '캐치/Noun', '서비스/Noun', '재료/Noun', '청주/Noun', '온/Noun', '남자친구/Noun', '기분/Noun', '가게/Noun', '초밥/Noun', '사람/Noun', '왜/Noun', '마스크/Noun', '하나/Noun', '안/Noun', '끼/Noun', '조리/Noun', '사용/Noun', '입/Noun', '가리개/Noun', '코로나/Noun', '생각/Noun', '도/Noun', '안/Noun', '하나/Noun', '여자/Noun', '둘이서/Noun', '연어/Noun', '광어/Noun', '둘/Noun', '편이/Noun', '초밥/Noun', '연어/Noun', '광어/Noun', '번갈아/Noun', '가면/Noun', '주문/Noun', '주문/Noun', '때/Noun', '자꾸/Noun', '더/Noun', '주문/Noun', '건/Noun', '거기/Noun', '이해/Noun', '광어/Noun', '먼저/Noun', '판/Noun', '주더/Noun', '점/Noun', '정도/Noun', '몇번/Noun', '테이블/Noun', '연어/Noun', '연어/Noun', '회/Noun', '상태/Noun', '제각각/Noun', '테이블/Noun', '간격/Noun', '거기/Noun', '밥/Noun', '제멋대로/Noun', '왜/Noun', '인기/Noun', '코스/Noun', '요리/Noun', '타이밍/Noun', '고려/Noun', '음식/Noun', '모로/Noun', '재/Noun', '방문/Noun', '의사/Noun', '곳/Noun', '창원/Noun', '스시/Noun', '집임/Noun', '단점/Noun', '테이블/Noun', '간격/Noun', '줄/Noun', '기니/Noun', '예약/Noun', '셈/Noun',  '시럽/Noun', '축구/Noun', '경기/Noun', '창원/Noun', '지인/Noun',  '처음/Noun', '생맥주/Noun', '선택/Noun', '가로수길/Noun', '업체/Noun', '주류/Noun', '판매/Noun', '금지/Noun', '이/Noun', '밥/Noun', '정말/Noun', '예술/Noun', '처음/Noun', '젓가락/Noun', '것/Noun', '처럼/Noun', '끝내/Noun', '입/Noun', '입/Noun', '안/Noun', '밥알/Noun', '부/Noun', '미리/Noun', '예약/Noun', '시/Noun', '저녁/Noun', '국물/Noun',  '면/Noun', '불어/Noun',  '국물/Noun', '나이스/Noun', '함/Noun', '면/Noun', '하마/Noun', '츠/Noun', '이치란/Noun', '면/Noun', '종류/Noun', '추가/Noun', '더/Noun', '것/Noun', '테이블/Noun', '회전/Noun', '빨/Noun', '대기/Noun', '순서도/Noun',  '곳도/Noun', '무엇/Noun', '제일/Noun', '나중/Noun', '또/Noun', '가모/Noun', '매력/Noun', '자주/Noun', '일본/Noun', '라멘/Noun', '국내외/Noun', '군데/Noun', '여기/Noun', '제/Noun', '입맛/Noun', '완전/Noun', '지식/Noun', '먹기/Noun',   '한국/Noun', '거/Noun', '이/Noun', '지역/Noun', '사람/Noun', '볼일/Noun', '최근/Noun', '두/Noun', '번/Noun', '일회용/Noun', '컵/Noun',  '별/Noun', '하나/Noun', '후쿠오카/Noun', '번/Noun', '정도/Noun', '방문/Noun', '라멘/Noun', '파이터/Noun', '곳/Noun', '한국/Noun', '라면/Noun', '집/Noun', '라멘/Noun', '가대/Noun', '한국/Noun', '라면/Noun', '생각/Noun', '하이/Noun', '볼/Noun', '제일/Noun', '시국/Noun', '정도/Noun', '라멘/Noun', '집/Noun', '교자/Noun', '닭튀김/Noun', '번은/Noun', '저/Noun', '항상/Noun', \n",
    "#               '바질/Noun', '라멘/Noun', '차슈/Noun', '계란/Noun', '추가/Noun', '완전/Noun',  '리뷰/Noun', '지금/Noun', '침/Noun', '젓가락/Noun', '숟가락/Noun', '용기/Noun', '등/Noun', '식기/Noun', '플라스틱/Noun',  '개념/Noun', '듯/Noun', '닭튀김/Noun', '사이드/Noun', '개창/Noun', '렬임/Noun', '차슈/Noun', '맛남/Noun', '생각/Noun', '바질/Noun', '맨/Noun', '라멘/Noun', '더/Noun', '이/Noun', '가격/Noun', '이/Noun', '정도/Noun', '라멘/Noun', '나/Noun', '친구/Noun', '커플/Noun', '남자/Noun', '둘/Noun', '사람/Noun', '우리/Noun', '국물/Noun',  '달/Noun', '꽤/Noun', '바질/Noun', '분/Noun', '바질/Noun', '라멘/Noun', '꼭/Noun', '다가/Noun', '여기/Noun', '배민/Noun', '진해/Noun', '라면/Noun', '배달/Noun', '곳/Noun', '여기/Noun', '배달/Noun', '플로/Noun', '진해/Noun', '진짜/Noun', '달걀/Noun',  '라면/Noun', '차슈/Noun', '입구/Noun', '쪽/Noun', '또/Noun', '가야/Noun', '징/Noun', '커피/Noun', '빵/Noun',  '쇼케이스/Noun', '안/Noun', '빵류/Noun',  '과일/Noun', '몽블랑/Noun', '생크림/Noun', '언제/Noun', '눅눅/Noun', '자체/Noun', '핸드/Noun', '드립/Noun', '요/Noun', '개맛/Noun', '직원/Noun', '저번/Noun', '기억/Noun', '다시/Noun', '주차장/Noun', '관리인/Noun', '말귀/Noun', '이야기/Noun', '번/Noun', '그/Noun', '말/Noun', '바로/Noun', '핸들/Noun', '다른/Noun', '곳/Noun', '저/Noun', '리뷰/Noun', '안/Noun', '저녁/Noun', '때/Noun', '글/Noun', '주차장/Noun', '분/Noun', '관리/Noun',  '곳/Noun', '갈바/Noun', '집/Noun', '똥/Noun', '이모/Noun', '편/Noun', '집/Noun', '번은/Noun', '별/Noun', '점/Noun', '자체/Noun', '의미/Noun', '옴/Noun', '음식/Noun', '자기/Noun', '문안/Noun', '말/Noun', '국박/Noun', '손님/Noun', '식당/Noun', '그닥/Noun', '식당/Noun', '리뷰/Noun', '평생/Noun', '처음/Noun', '시간/Noun', '손님/Noun',  '종업원/Noun', '나이/Noun', '부모님/Noun', '참고/Noun', '계산/Noun', '때/Noun', '카운터/Noun', '마음/Noun', '얘기/Noun', '대신/Noun', '사과/Noun', '번/Noun', '다시/Noun', '분지/Noun', '음식/Noun', '직원/Noun', '언제/Noun', '이야기/Noun', '안감/Noun', '함안/Noun', '대구/Noun', '식당/Noun', '도청/Noun', '앞/Noun', '양각/Noun', '사파동/Noun', '수정/Noun', '골/Noun', '북면/Noun', '진가/Noun', '등등/Noun', '중/Noun', '가장/Noun', '유명/Noun', '세/Noun', '메뉴판/Noun', '젤위/Noun', '가장/Noun', '단가/Noun', '석쇠/Noun', '불고기/Noun', '장사/Noun', '급/Noun', '모습/Noun', '국밥/Noun', '물김치/Noun', '반찬/Noun', '깍두기/Noun', '생/Noun', '마늘/Noun', '손절각/Noun', '만/Noun', '옛날/Noun', '국밥/Noun', '사실/Noun', '루/Noun', '불고기/Noun', '정말/Noun', '과거/Noun', '영광/Noun', '백김치/Noun', '깍두기/Noun', '판매/Noun', '박일/Noun', '정도/Noun', '요/Noun', '쌈/Noun', '된장/Noun', '통/Noun', '퍼/Noun', '직접/Noun', '뒤론/Noun', '절대/Noun', '안감/Noun', '추억/Noun', '고기/Noun', '맛잏는데/Noun', '국/Noun', '음식/Noun', '조합/Noun', '아쉬움/Noun', '뭔가/Noun', '불고기/Noun', '가격/Noun', '대비/Noun', '보통/Noun', '소고기/Noun', '국밥/Noun', '땡/Noun',  '조음/Noun', '샐러드/Noun', '강추/Noun', '맛잇엇어/Noun', '하오츠/Noun', '하오츠/Noun',  '정돈/Noun', '정말/Noun',  '쵝오네/Noun', '해물/Noun', '베이스/Noun', '떡볶이/Noun', '샐러드/Noun', '이집/Noun', '데이트/Noun', '코스/Noun',  '크림/Noun', '파스타/Noun', '식기/Noun', '전/Noun', '진짜/Noun', '듯/Noun', '샐러드/Noun', '안/Noun', '편/Noun', '샐러드/Noun', '드레싱/Noun', '새우/Noun', '닭/Noun', '가슴/Noun', '살/Noun', '치즈/Noun', '떡볶이/Noun', '역시/Noun', '청춘/Noun', '키친/Noun', '답/Noun', '직원/Noun', '최/Noun', '샐러드/Noun',  '용/Noun', '양도/Noun', '성비/Noun',  '이용/Noun',  '샐러드/Noun', '떡볶이/Noun', '모두/Noun', '때/Noun', '항상/Noun', '굿/Noun', '굿/Noun', '어유/Noun',  '아침/Noun', '샐러드/Noun', '지도/Noun', '여기/Noun', '샐러드/Noun', '꼭/Noun', '진짜/Noun', '집/Noun', '대기/Noun', '샐러드/Noun', '청춘/Noun', '치떡/Noun', '꼭/Noun', '함/Noun', '년/Noun', '전/Noun', '군대/Noun', '후임/Noun', '기억/Noun', '이제야/Noun', '리뷰/Noun',  '부산/Noun', '다음/Noun', '창원/Noun', '일/Noun', '꼭/Noun', '구/Noun', '비임/Noun', '그닥/Noun', '진짜/Noun', '샐러드/Noun', '꼭/Noun', '무슨/Noun', '풀/Noun', '양도/Noun', '대박/Noun', '내/Noun', '샐러드/Noun', '점/Noun',  '떡볶이/Noun', '맥주/Noun', '당/Noun', '스파게티/Noun', '맛남/Noun', '줄/Noun', '손님/Noun', '가격/Noun', '대비/Noun', '양도/Noun', '정말/Noun', '바람/Noun', '직원/Noun', '얼굴/Noun', '음료/Noun', '서비스/Noun', '주시/Noun', '지금/Noun', '로이/Noun', '내/Noun', '파스타/Noun', '제일/Noun', '완전/Noun',  '창원/Noun', '꼭/Noun', '곳/Noun', '가격/Noun', '치떡/Noun', '절대/Noun', '마/Noun', '응대/Noun', '예전/Noun', '사장/Noun', '언니/Noun', '동생/Noun', '손님/Noun', '곳/Noun', '건물/Noun', '축하/Noun', '명/Noun',  '룸/Noun', '예약/Noun', '해/Noun', '두상/Noun', '주문/Noun', '해도/Noun', '돈/Noun', '손해/Noun', '볼/Noun', '수/Noun', '배/Noun', '말/Noun', '절로/Noun', '옛날/Noun', '영도/Noun', '인심/Noun', '옛날/Noun', '영도/Noun', '옛날/Noun', '도장/Noun', '가격/Noun', '가격/Noun', '비주/Noun', '얼/Noun', '또한/Noun', '빵점/Noun',  '서울/Noun', '손님/Noun', '모시/Noun', '룸/Noun', '안/Noun', '양/Noun', '정말/Noun', '이/Noun', '대자/Noun', '소자/Noun', '구분/Noun', '예전/Noun', '요즘/Noun', '장사/Noun', '양/Noun', '줄/Noun', '난리/Noun', '임/Noun', '성인/Noun', '인/Noun', '대자/Noun', '개시/Noun', '키/Noun', '아마/Noun', '장어/Noun', '무난/Noun', '서비스/Noun', '장어/Noun', '탕/Noun', '공기밥/Noun', '주차/Noun',  '정말/Noun', '휴가/Noun', '부모님/Noun', '처음/Noun', '양/Noun', '구/Noun', '응대/Noun', '것/Noun',  '양도/Noun', '서비스/Noun', '왜/Noun', '리뷰/Noun', '작성/Noun', '기분/Noun', '상해/Noun', '카카오/Noun', '맵/Noun', '가입/Noun', '리뷰/Noun', '제피/Noun', '방아/Noun', '장어/Noun', '국/Noun', '생/Noun', '생강/Noun', '슬/Noun', '라이스/Noun', '절/Noun', '생강/Noun', '붕장어/Noun', '구이/Noun', '굿/Noun', '인테리어/Noun', '넘흐나/Noun', '커피/Noun', '실/Noun', '타래/Noun', '빙수/Noun', '직원/Noun', '강아지/Noun', '해/Noun', '주심/Noun', '맛모아욤/Noun', '내부/Noun', '볼거리/Noun', '곳/Noun', '힐링/Noun', '레이스/Noun', '식물/Noun', '카페/Noun', '마련/Noun', '식물/Noun', '잔뜩/Noun', '좌석/Noun', '테이블/Noun', '시선/Noun', '차단/Noun', '사진/Noun', '식물/Noun', '차/Noun', '한잔/Noun', '나무/Noun', '색/Noun', '다만/Noun', '커피/Noun', '가격/Noun',  '그/Noun', '가격/Noun', '용서/Noun', '국적/Noun',  '곳/Noun', '인/Noun', '음료/Noun', '빙수/Noun', '인/Noun', '줌/Noun', '물/Noun', '얼음/Noun', '녹차/Noun', '베이스/Noun', '부어/Noun', '준/Noun', '옛날/Noun', '빙수/Noun', '느낌/Noun', '아침/Noun', '일찍/Noun', '사람/Noun', '가족/Noun', '시간/Noun', '옴/Noun', '바다/Noun', '뷰/Noun', '뷰/Noun', '와플/Noun', '진심/Noun', '년전/Noun', '처음/Noun', '사람/Noun', '발/Noun', '지중해/Noun', '어제/Noun', '멀리/Noun', '온/Noun', '친구/Noun', '델꼬/Noun', '눈치/Noun', '역시/Noun', '저/Noun', '직접/Noun', '서빙/Noun', '분도/Noun', '세/Noun',  '출입/Noun', '금지/Noun', '경로당/Noun', '느낌/Noun', '그/Noun', '옛날/Noun', '지중해/Noun', '향수/Noun', '외각/Noun', '국적/Noun', '기/Noun', '요게/Noun', '별개/Noun', '준/Noun', '이유/Noun', '모든/Noun', '음료/Noun', '외면/Noun', '것/Noun', '치중/Noun', '도/Noun', '별개/Noun', '음/Noun', '컵/Noun', '립스틱/Noun', '자국/Noun', '그대로/Noun', '방금/Noun', '점/Noun', '메/Noun', '원/Noun', '드립/Noun', '커피/Noun', '카누/Noun', '와플/Noun', '아이스크림/Noun', '아이스크림/Noun', '컵/Noun', '바닥/Noun', '컵/Noun', '높이/Noun', '절반/Noun', '요/Noun', '뷰/Noun', '시체/Noun', '거의/Noun', '매운탕/Noun', '집/Noun', '바닷가/Noun', '근처/Noun', '와플/Noun', '이나/Noun', '그/Noun', '음료/Noun', '반드시/Noun', '사이드/Noun', '메뉴/Noun', '주문/Noun', '테이블/Noun', '순환/Noun', '때문/Noun', '겟/Noun', '메뉴/Noun', '몇개/Noun', '그것/Noun', '또/Noun', '그/Noun', '와중/Noun', '메뉴/Noun', '개/Noun', '시간/Noun', '가까이/Noun', '말/Noun', '한마디/Noun', '평범/Noun', '대기/Noun', '김/Noun', '임팩트/Noun', '뭐/Noun', '한번/Noun', '볼/Noun', '하우스/Noun', '와인/Noun', '편의점/Noun', '원/Noun', '와인/Noun',  '보통/Noun', '양/Noun', '대기/Noun',  '주변/Noun', '이집/Noun', '사람/Noun', '제/Noun', '입맛/Noun', '개/Noun', '서울/Noun', '여기/Noun', '밥/Noun', '다시/Noun', '왜냐면/Noun', '진짜/Noun', '닭/Noun', '튀김/Noun', '국물/Noun', '고기랑/Noun', '진짜/Noun', '담/Noun', '그/Noun', '자체/Noun', '서울/Noun', '진심/Noun', '송파구/Noun', '쪽/Noun', '통닭/Noun', '다리/Noun', '쫄깃/Noun', '면발/Noun', '부모님/Noun', '모시/Noun', '별/Noun', '왜/Noun', '개/Noun',  '집/Noun', '닭다리/Noun', '하나/Noun', '다가/Noun', '가스/Noun', '우동/Noun', '이/Noun', '대기/Noun', '빠/Noun', '샐러드/Noun', '우동/Noun', '튀김/Noun', '인지/Noun', '안쪽/Noun', '튀김/Noun', '부분/Noun', '어쨋/Noun', '우동/Noun', '닭다리/Noun', '완전/Noun', '우동/Noun', '닭다리/Noun', '튀김/Noun', '배/Noun', '면발/Noun', '살짝/Noun', '쫄깃해/Noun', '국물/Noun', '시원/Noun', '닭튀김/Noun', '궁합/Noun', '다만/Noun', '닭다리/Noun', '냉동/Noun', '살이/Noun',   '별하나/Noun', '주말/Noun', '대기/Noun', '막/Noun',  '동네/Noun', '우동/Noun', '집/Noun', '생각/Noun', '가세/Noun', '조금/Noun', '가격/Noun', '약간/Noun', '더/Noun', '닭다리/Noun', '하나/Noun', '여기/Noun', '감/Noun', '식/Noun', '자재/Noun', '마트/Noun', '아침/Noun', '쯤애/Noun', '것/Noun', '내년/Noun', '가격/Noun', '만원/Noun', '조오오오오/Noun', '구리/Noun', '개인/Noun', '일본/Noun', '국물/Noun',  '치킨/Noun', '우동/Noun', '진짜/Noun',  '우동/Noun', '생각/Noun', '우동/Noun', '변경/Noun', '가능/Noun', '리코/Noun', '치즈/Noun', '빠/Noun', '샐러드/Noun', '하우스/Noun', '인도/Noun', '샐러드/Noun', '우동/Noun', '닭다리/Noun', '튀김/Noun', '바삭/Noun', '치킨/Noun', '하우스/Noun', '와인/Noun', '스/Noun', '위트/Noun', '지도/Noun', '드라이/Noun', '그/Noun', '중간/Noun', '진짜/Noun', '레몬/Noun', '스프레이/Noun', '꽃/Noun', '레몬/Noun', '즙/Noun', '뿌리/Noun', '것/Noun', '인상/Noun',  '또/Noun', '우동/Noun', '튀김/Noun', '닭/Noun', '매번/Noun', '오늘/Noun', '빵/Noun', '개/Noun', '때/Noun', '방문/Noun', '곳/Noun', '재/Noun', '방문/Noun', '사퍼/Noun', '시국/Noun', '주방/Noun', '턱스/Noun', '마스크/Noun', '기침/Noun', '빵/Noun', '빵/Noun', '밀크쉐이크/Noun', '명성/Noun', '처빵/Noun', '점원/Noun', '옆/Noun', '정신/Noun', '종류/Noun', '하나/Noun', '하나/Noun', '정말/Noun', '빵/Noun', '여름철/Noun', '창동/Noun', '김/Noun', '밀크쉐이크/Noun', '하나/Noun', '빵집/Noun', '그/Noun',  '그/Noun',  '바게트/Noun', '빵/Noun',  '꿀빵/Noun',  '구매/Noun', '빵/Noun', '영업/Noun', '분/Noun', '말솜씨/Noun', '역시/Noun', '빵/Noun', '코/Noun', '아보/Noun', '팥/Noun', '모든/Noun', '디저트/Noun', '빵/Noun', '매니아/Noun', '라면/Noun', '부근/Noun', '가면/Noun', '꼭/Noun', '곳/Noun', '옛날/Noun', '입맛/Noun', '전통/Noun', '단팥빵/Noun', '종류/Noun', '이성당/Noun', '전체/Noun', '가격/Noun', '조금/Noun', '불친절/Noun', '기본/Noun']"
   ]
  },
  {
   "cell_type": "code",
   "execution_count": 55,
   "id": "8bc87dc3",
   "metadata": {},
   "outputs": [
    {
     "name": "stdout",
     "output_type": "stream",
     "text": [
      "2561\n"
     ]
    }
   ],
   "source": [
    "print(len(stop_words))"
   ]
  },
  {
   "cell_type": "code",
   "execution_count": 24,
   "id": "eb794eae",
   "metadata": {},
   "outputs": [
    {
     "name": "stdout",
     "output_type": "stream",
     "text": [
      "(244, 1055)\n"
     ]
    }
   ],
   "source": [
    "from sklearn.feature_extraction.text import CountVectorizer\n",
    "\n",
    "# 형태소를 학습데이터셋으로 변환\n",
    "\n",
    "index_vectorizer = CountVectorizer(tokenizer = lambda x: get_pos(x), stop_words=stop_words)#, stop_words=stop_words\n",
    "X = index_vectorizer.fit_transform(df['ko_text'].tolist())\n",
    "print(X.shape)"
   ]
  },
  {
   "cell_type": "code",
   "execution_count": 25,
   "id": "8d9b297e",
   "metadata": {},
   "outputs": [
    {
     "name": "stdout",
     "output_type": "stream",
     "text": [
      "{'맛/Noun': 347, '난건/Noun': 174, '오전/Noun': 730, '품절/Noun': 977, '가성/Noun': 34, '비는/Verb': 511, '좋지만/..\n"
     ]
    }
   ],
   "source": [
    "print(str(index_vectorizer.vocabulary_)[:100]+\"..\")"
   ]
  },
  {
   "cell_type": "code",
   "execution_count": 26,
   "id": "d4522b5a",
   "metadata": {},
   "outputs": [
    {
     "name": "stdout",
     "output_type": "stream",
     "text": [
      "{'맛/Noun': 347, '난건/Noun': 174, '오전/Noun': 730, '품절/Noun': 977, '가성/Noun': 34, '비는/Verb': 511, '좋지만/Adjective': 883, '너무/Adverb': 199, '시끄럽고/Adjective': 580, '없는/Adjective': 698, '모르고/Verb': 427, '후딱/Adverb': 1049, '먹고/Verb': 385, '빨리/Adverb': 527, '하는/Verb': 991, '그리고/Conjunction': 112, '하시는/Verb': 1001, '하신듯/Verb': 1005, '비/Noun': 510, '최고/Noun': 931, '소문/Noun': 569, '듣고/Verb': 281, '갔는데/Verb': 46, '필수/Noun': 979, '필요/Noun': 980, '없고/Adjective': 695, '저렴한/Adjective': 825, '가격/Noun': 16, '많이/Adverb': 343, '싶다/Verb': 610, '무조건/Noun': 435, '입니다/Adjective': 785, '삼삼하게/Adjective': 550, '기호/Noun': 132, '맞게/Verb': 373, '해서/Verb': 1025, '드세요/Verb': 278, '들/Verb': 283, '친절하시고/Adjective': 938, '모든/Modifier': 422, '매/Modifier': 381, '뉴/Noun': 213, '임니다/Verb': 781, '이/Determiner': 757, '성지/Noun': 563, '호불호/Noun': 1042, '갈립니다/Verb': 40, '저렴하고/Adjective': 824, '쾌적하고/Adjective': 948, '양/Noun': 680, '많고/Adjective': 335, '맛있어요/Adjective': 363, '주/Modifier': 886, '차요/Noun': 914, '불친절해요/Adjective': 502, '아주/Noun': 653, '싱싱하고/Adjective': 609, '합리/Noun': 1020, '시원하고/Adjective': 582, '만족/Noun': 331, '괜찮습니다/Adjective': 80, '가보세요/Verb': 31, '진자/Noun': 899, '밑/Noun': 444, '여긴/Verb': 711, '동/Modifier': 255, '센터/Noun': 567, '왔다는/Verb': 741, '하지/Verb': 1006, '마세요/Verb': 322, '그냥/Noun': 98, '혼술/Noun': 1043, '찐/Verb': 910, '착한/Adjective': 916, '골라/Verb': 76, '먹을/Verb': 412, '있어/Adjective': 797, '좋아요/Adjective': 861, '괜찮아요/Adjective': 81, '아부지/Noun': 644, '뵈러/Verb': 484, '내려왔다가/Verb': 193, '검색/Noun': 68, '왔는데요/Verb': 738, '싱싱/Noun': 608, '가음/Verb': 36, '호구/Noun': 1041, '공구리/Noun': 78, '당했는데/Adjective': 241, '여기는/Verb': 710, '초심/Noun': 929, '끝/Noun': 149, '유지/Noun': 755, '한다면/Verb': 1011, '중심/Noun': 891, '잡을거/Verb': 821, '같아요/Adjective': 60, '번창/Noun': 462, '하세요/Verb': 1000, '넓어서/Adjective': 203, '구이만/Noun': 89, '먹었는데/Verb': 400, '그랬어요/Adjective': 102, '웨이/Noun': 750, '팅/Noun': 967, '한/Determiner': 1009, 'ㅡ/KoreanParticle': 13, '싸다/Verb': 616, '적어/Verb': 831, '세/Modifier': 564, '시켜야/Verb': 586, '배부름/Adjective': 455, '넓고/Adjective': 202, '업음/Verb': 692, '깨끗하게/Adjective': 141, '보이질/Verb': 475, '않아요/Verb': 669, '운/Noun': 748, '좋아서/Adjective': 859, '토요일/Noun': 960, '반/Noun': 451, '가도/Noun': 26, '이십분/Noun': 770, '기다리고/Verb': 123, '먹었어요/Verb': 403, '불친절하다는데/Adjective': 499, '그런/Modifier': 106, '모르겟고/Verb': 423, '질/Noun': 901, '좋고/Adjective': 854, '맛있습니다/Adjective': 360, '감동/Noun': 42, '태어나서/Verb': 956, '먹은/Verb': 410, '젤/Noun': 838, '맛있었고/Adjective': 364, 'ㅠ/KoreanParticle': 10, '통통하니/Adjective': 961, '넘/Verb': 204, '맛있었어여/Adjective': 366, '하/Exclamation': 982, '속/Noun': 572, '싹/Noun': 617, '풀어줘서/Verb': 976, '완벽한/Adjective': 736, '마무리/Noun': 321, '모/Modifier': 421, '날씨/Noun': 176, '시원한/Adjective': 583, '착한듯/Adjective': 917, '딱/Modifier': 309, '지/Modifier': 895, '맛있게/Adjective': 352, '별/Modifier': 466, '낮아도/Adjective': 186, '그래도/Adverb': 100, '찾아가/Verb': 920, '봤는데/Verb': 483, '낮은지/Adjective': 187, '같은/Adjective': 61, '툭하면/Noun': 962, '만/Modifier': 324, '기다리는데/Verb': 125, '두/Determiner': 274, '우습네/Verb': 747, '하고싶으면/Verb': 986, '크게/Noun': 950, '늘리던가/Verb': 222, '인원/Noun': 778, '좀/Noun': 843, '싼/Verb': 618, '맞지만/Verb': 380, '기다리다/Verb': 126, '먹는것도/Verb': 390, '시/Modifier': 578, '장통/Noun': 822, '사/Modifier': 539, '구려/Noun': 87, '기다림/Noun': 128, '지루함/Noun': 897, '길고/Adjective': 134, '총/Noun': 930, '기다려서/Verb': 121, '먹는데/Verb': 394, '별로/Noun': 467, '그러나/Conjunction': 103, '확장/Noun': 1046, '이전/Noun': 773, '이후/Noun': 775, '너무나도/Adverb': 201, '많아져서/Verb': 339, '기다려/Verb': 120, '야함/Adjective': 676, '감수/Noun': 43, '해야/Verb': 1026, '하지만/Conjunction': 1008, '좋음/Adjective': 881, '먹을만/Verb': 414, '하고/Verb': 985, '기다리라/Verb': 127, '이리저리/Adverb': 764, '가라/Noun': 27, '였는데/Verb': 715, '바쁘면/Adjective': 447, '뽑던지/Verb': 536, '할려고/Verb': 1014, '물어보면/Verb': 439, '듣다가/Verb': 282, '다른/Modifier': 231, '데/Noun': 250, '가버리고/Verb': 28, '어이없는/Adjective': 687, '일이/Modifier': 780, '버러지/Noun': 456, '더주고/Adjective': 248, '친절한/Adjective': 941, '가고말지/Verb': 18, '다시는/Verb': 233, '쳐다/Verb': 928, '기도/Noun': 131, '싫은/Adjective': 605, '변동/Noun': 464, '할수가/Verb': 1015, '없네요/Adjective': 697, '입고/Verb': 784, '되는/Verb': 258, '있을/Adjective': 807, '당일/Noun': 240, '아닐텐데/Adjective': 640, '소진/Noun': 570, '될/Verb': 269, '정해진/Noun': 837, '팔면/Noun': 968, '되는거지/Verb': 259, '시세/Noun': 581, '어의/Noun': 686, '없네/Adjective': 696, '그럼/Adjective': 109, '들어왔지만/Verb': 297, '남아있고/Verb': 181, '몇/Modifier': 420, '칠/Modifier': 945, '뒤/Noun': 277, '떨어져/Verb': 315, '들어오면/Verb': 296, '내리나요/Verb': 195, '인생/Noun': 777, '만나다/Verb': 325, '다닙니다/Verb': 230, '이번/Noun': 766, '현장/Noun': 1039, '가다/Verb': 25, '가는/Verb': 22, '같아서/Adjective': 59, '찾았습니다/Verb': 925, '센/Verb': 566, '신선하구요/Adjective': 598, '저렴해요/Adjective': 826, '사라/Noun': 542, '회중/Noun': 1048, '있었으면/Adjective': 803, '좋겠더라구요/Adjective': 851, 'ㅎㅎ/KoreanParticle': 5, '전혀/Noun': 833, '들지/Verb': 301, '않았고/Verb': 670, '대/Modifier': 242, '기/Modifier': 117, '순/Modifier': 574, '서/Modifier': 557, '성의/Noun': 562, '느낄수/Verb': 218, '없었고/Adjective': 705, '밑바닥/Noun': 445, '못/VerbPrefix': 431, '느꼈습니다/Verb': 215, '많은/Adjective': 341, '개선/Noun': 64, '필요할듯/Adjective': 981, '합니다/Verb': 1019, '외식/Noun': 744, '할/Verb': 1012, '깔끔하고/Adjective': 138, '우대/Noun': 746, '먹어/Verb': 397, '괜찮았습니다/Adjective': 82, 'ㅋㅋ/KoreanParticle': 2, '갈/Verb': 37, '있을까/Adjective': 808, '하면/Verb': 998, '생각나는/Verb': 555, '고급/Noun': 73, '했으나/Verb': 1032, '아닌/Adjective': 638, '붙어있었고/Verb': 507, '기고/Noun': 118, '육/Modifier': 756, '떨어지는/Verb': 316, '되어/Verb': 264, '실망/Noun': 600, '스러웠음/Adjective': 575, '수/Modifier': 573, '차치하고/Verb': 915, '덜/Noun': 249, '삶아졌는지/Verb': 549, '딱딱한/Adjective': 310, '씹어/Verb': 629, '야했음/Adjective': 678, '들른/Verb': 289, '잘/VerbPrefix': 818, '먹고가요/Verb': 386, '잇게/Verb': 786, '들렀다가/Verb': 286, '어떤/Modifier': 682, '고/Modifier': 72, '갔다가/Verb': 48, '없어서/Adjective': 702, '나와/Verb': 166, '여길/Verb': 712, '들렀는데/Verb': 285, '대접받는/Verb': 247, '좋았음/Adjective': 876, '싶은/Verb': 612, '시키니/Verb': 591, '딱/Adverb': 308, '적당히/Adjective': 830, '불렀어요/Verb': 496, '맛있고/Adjective': 353, '분위기/Noun': 494, '좋아용/Adjective': 862, '바쁘셔서/Adjective': 448, '구워주시다가/Verb': 88, '받아/Verb': 453, '왔다/Verb': 739, '갔다하셨어용/Verb': 49, '괜찮고/Adjective': 79, '특선/Noun': 964, '있다/Adjective': 792, '보니/Verb': 468, '잘/Verb': 817, '되어있다/Verb': 266, '나갈/Verb': 153, '가는데/Verb': 23, '적당하고/Adjective': 829, '좋아여/Adjective': 860, '추천/Noun': 934, '모셔가면/Verb': 428, '언제나/Adverb': 690, '만족하는/Adjective': 332, '나서/Verb': 158, '만족합니다/Adjective': 333, '비싼듯/Adjective': 522, '서비스/Noun': 559, '합쳐/Verb': 1021, '보면/Verb': 471, '결국/Adverb': 70, '좋으며/Adjective': 878, '있지만/Adjective': 811, '퀄리티/Noun': 949, '좋습니다/Adjective': 858, '굉장히/Adjective': 86, '신경/Noun': 595, '쓴/Verb': 627, '납니다/Verb': 184, '중요한데/Adjective': 892, '누린내/Verb': 210, '없이/Adverb': 707, '녹는/Verb': 207, '고소했습니다/Adjective': 74, '왔었는데/Verb': 743, '자주못와/Verb': 812, '서/Verb': 558, '아쉽네요/Adjective': 649, '시켜서/Verb': 585, '보려고요/Verb': 470, '비싸지/Adjective': 519, '않은/Verb': 672, '먹었습니다/Verb': 402, '화이팅/Noun': 1044, '팔았는데/Verb': 970, '그래서/Adverb': 101, '못/Noun': 430, '가네요/Verb': 21, '찾는/Verb': 919, '참/Verb': 918, '좋은/Adjective': 879, '추합니다/Adjective': 935, '비해/Verb': 524, '없어요/Adjective': 703, '겠죠/Verb': 69, '뭐라/Verb': 440, '하기가/Verb': 989, '올리고/Verb': 733, '낮춰주시는/Verb': 188, 'ㅎ/KoreanParticle': 4, '정갈하지도/Adjective': 836, '않고/Verb': 664, '낚임/Noun': 173, '아닌데/Adjective': 639, '이런/Adjective': 761, '안옵니다/Verb': 660, '이하/Noun': 774, '좋아하는데/Adjective': 865, '담백하게/Adjective': 239, '좋네요/Adjective': 856, '좋아하기도/Adjective': 863, '아니지만/Adjective': 637, '맞았습니다/Verb': 379, '맛있네요/Adjective': 354, '왔는데/Verb': 737, '다/Adverb': 225, '좋아하셨어요/Adjective': 866, '다신/Verb': 234, '가고/Verb': 17, '싶지/Verb': 613, '않습니다/Verb': 668, '나왔네요/Verb': 168, '시켰는데/Verb': 587, '먹었지만/Verb': 405, '맛있었어요/Adjective': 367, 'ㅜㅜ/KoreanParticle': 9, '친절했고/Adjective': 943, '하려구요/Verb': 996, '좋아하실/Adjective': 869, '다녀왔는데/Verb': 228, '먹은것/Verb': 411, '그저/Adverb': 114, '그렇고/Adjective': 110, '윗/Modifier': 753, '말라있네요/Adjective': 345, '경치/Noun': 71, '예뻐요/Adjective': 721, '너/Modifier': 198, '안좋았어요/Adjective': 661, '맛보니/Verb': 348, '상한/Noun': 552, '안/VerbPrefix': 655, '왔어요/Verb': 742, '아프네요/Adjective': 654, '해주세요/Verb': 1028, '비싸요/Adjective': 518, '근데/Adverb': 116, '뷰/Noun': 509, '플/Exclamation': 978, '괜찮음/Adjective': 85, '쏘/Verb': 621, '쏘지만/Verb': 623, '아니라서/Adjective': 635, '됨/Verb': 273, '비싸고/Adjective': 512, 'ㅋ/KoreanParticle': 1, '유명하죠/Adjective': 754, '만점/Noun': 330, '쐬기/Verb': 624, '없음/Adjective': 706, '비싸네요/Adjective': 515, '친절하지/Adjective': 940, '않음/Verb': 673, '맞아서/Verb': 377, '흔들거리/Verb': 1051, '는거/Verb': 221, '비싸기만/Adjective': 514, '돼네요/Verb': 256, '따라오고/Verb': 304, '시끄러워서/Adjective': 579, '힘들다/Adjective': 1053, '비쌈/Adjective': 523, '크고/Verb': 951, '이런/Modifier': 762, '맛있음/Adjective': 368, '비싸다고/Adjective': 517, '할수도/Verb': 1016, '있는데/Adjective': 791, '다른건/Adjective': 232, '무한/Noun': 436, '맛있는데/Adjective': 356, '먹으면/Verb': 409, '잘불러서/Verb': 819, '딴거못/Verb': 313, 'ㅋㅋㅋ/KoreanParticle': 3, '해봤을/Verb': 1024, '평범한/Adjective': 975, '내/Determiner': 189, '주고/Verb': 887, '많음/Adjective': 342, '많아서/Adjective': 338, '맛집/Noun': 370, '본/Verb': 479, '느끼하고/Adjective': 216, '그/Determiner': 96, '와/Verb': 734, '와같이/Verb': 735, '새우는/Verb': 553, '느끼함/Adjective': 217, '먹을시/Verb': 416, '있음/Adjective': 810, '없다/Adjective': 701, '즐길수/Verb': 894, '있어서/Adjective': 798, '좋았습니다/Adjective': 872, '줄여야/Verb': 890, '될것/Verb': 270, '했는데/Verb': 1029, '오독오독/Adverb': 725, '조금/Noun': 839, '심심한/Adjective': 607, '뿌려서/Verb': 537, '괜찮았어요/Adjective': 83, '실한/Adjective': 604, '보울은/Verb': 473, '생각나던/Verb': 556, 'ㅠㅠㅠ/KoreanParticle': 12, '좋았어용/Adjective': 873, '작/Modifier': 813, '성/Modifier': 561, '존맛/Noun': 842, '탱/Adverb': 957, '싸/VerbPrefix': 614, '터짐/Verb': 959, '있는/Adjective': 790, '빼고는/Verb': 530, 'ㅎㅎㅎㅎ/KoreanParticle': 6, '하기/Verb': 988, '힘든데/Adjective': 1052, 'ㅏㅏ/KoreanParticle': 7, '맛있었습니다/Adjective': 365, '맞는/Verb': 374, '들어가는/Verb': 292, '따져/Verb': 307, '사악한/Adjective': 545, 'ㅠㅠ/KoreanParticle': 11, '야해요/Adjective': 677, '신선하고/Adjective': 597, '감도/Verb': 41, '누린내가/Verb': 211, '비싸다/Adjective': 516, '짱/Modifier': 908, '엄청/Adverb': 691, '맛있다는/Adjective': 359, '색다름/Adjective': 554, '보면서/Verb': 472, '깔끔하게/Adjective': 137, '긴/Verb': 133, '챙겨가기/Verb': 926, '나옴/Verb': 164, '부르기/Verb': 486, '빼면/Verb': 531, '추움/Noun': 933, '있었음/Adjective': 804, '좋겠음/Adjective': 853, '잡내가/Verb': 820, '살짝/Noun': 548, 'ㅜ/KoreanParticle': 8, '전화하니까/Adjective': 834, '안된/Adjective': 656, '뽑고/Verb': 535, '기다리고있는데/Verb': 124, '예/Modifier': 720, '약/Modifier': 679, '들어가네요/Verb': 291, 'ㄹㅇ/KoreanParticle': 0, '먹는다는/Verb': 393, '큰/Verb': 954, '신기하더라구요/Adjective': 596, '부드럽고/Adjective': 485, '느낌이더라구요/Verb': 219, '맛있지만/Adjective': 369, '있고/Adjective': 789, '친절합니다/Adjective': 942, '있었고/Adjective': 801, '같습니다/Adjective': 58, '갔을/Verb': 53, '바빠서/Adjective': 446, '그런지/Adjective': 108, '나왔습니다/Verb': 169, '나오냐고/Verb': 160, '물어보니/Verb': 437, '본/Modifier': 478, '나간다/Verb': 152, '하더라고요/Verb': 995, '안된거/Adjective': 657, '어쩌라고/Adverb': 688, '이길래/Verb': 759, '아무/Modifier': 643, '확실히/Adjective': 1045, '오랜/Adverb': 727, '같지/Adjective': 63, '좋와/Adjective': 877, '느껴짐/Verb': 214, '젊은/Adjective': 835, '길어요/Verb': 135, '났던/Verb': 185, '갈거/Verb': 38, '오래/Adverb': 726, '가고싶지/Verb': 20, '버린/Verb': 461, '좁고/Adjective': 844, '빠름/Adjective': 525, '좁은데/Adjective': 847, '떨어질까봐/Verb': 317, '조마조마합니다/Adjective': 840, '치우기/Verb': 936, '집고/Verb': 902, '들어오거나/Verb': 295, '놓고/Verb': 209, '가시는/Verb': 35, '있습니다/Adjective': 796, '작은데/Adjective': 815, '오/Modifier': 723, '복잡/Noun': 476, '속/Modifier': 571, '실수/Noun': 603, '신선한/Adjective': 599, '데려갔는데/Verb': 251, '만족해서/Adjective': 334, '좋았었음/Adjective': 874, '좁아/Adjective': 846, '터졌는데/Verb': 958, '만드는/Verb': 326, '해야지/Verb': 1027, '않나/Verb': 665, '시켰어요/Verb': 589, '먹는/Verb': 389, '환장해서/Adjective': 1047, '먹으려고/Verb': 408, '많으실거라면서/Adjective': 340, '드시다가/Verb': 279, '어떠냐고/Adjective': 681, '하시더라고요/Verb': 1003, '한/Verb': 1010, '남았나/Verb': 182, '먹어가니까/Verb': 398, '들어가주세요/Verb': 294, '주더라고요/Verb': 888, '내리/Verb': 194, '먹/Verb': 384, '좁다/Adjective': 845, '이렇게/Adverb': 763, '건지/Verb': 67, '모르겠다/Verb': 425, '붙였지만/Verb': 508, '나오는/Verb': 161, '여러/Modifier': 713, '없게/Adjective': 694, '괜찮은/Adjective': 84, '복잡함/Adjective': 477, '좁음/Adjective': 848, '보러/Verb': 469, '왔다가/Verb': 740, '들렀습니다/Verb': 287, '안된다고/Adjective': 658, '돌아갈까/Verb': 254, '하다가/Verb': 994, '이었네요/Verb': 771, '집은/Verb': 904, '집으면/Verb': 903, '부서질/Verb': 489, '아슬아슬한데/Adjective': 652, '부서지지/Verb': 488, '꾸덕꾸덕/Adverb': 143, '붙어/Verb': 506, '있다가/Adjective': 793, '넣으면/Verb': 205, '좋다/Adjective': 857, '그럭저럭/Adverb': 104, '노맛/Noun': 206, '특히/Adverb': 966, '크로/Verb': 952, '만들어놓은/Verb': 328, '불친절함/Adjective': 501, '가보고/Verb': 30, '갔더니/Verb': 50, '알아듣는다는/Verb': 674, '들었네요/Verb': 299, '돌려서/Verb': 253, '갔습니다/Verb': 51, '웬만하면/Adjective': 752, '남기는데/Verb': 179, '불쾌해서/Adjective': 504, '씁니다/Verb': 628, '이딴/Modifier': 760, '먹는게/Verb': 392, '나음/Verb': 172, '나고/Verb': 154, '나가/Verb': 151, '그런/Adjective': 105, '되면/Verb': 263, '좋을/Adjective': 880, '줄어들어요/Verb': 889, '꾸며놓으셔서/Verb': 144, '심심하지는/Adjective': 606, '였어요/Verb': 718, '뭔/Modifier': 442, '찾아가고/Verb': 921, '맞아요/Verb': 378, '현/Modifier': 1038, '힘들던데/Adjective': 1054, '된/Verb': 267, '같음/Adjective': 62, '갔다/Verb': 47, '아/Exclamation': 630, '썼음/Verb': 620, '좋겠어요/Adjective': 852, '뺌/Verb': 532, '실망하겠지만/Adjective': 601, '특이한/Adjective': 965, '하시면/Verb': 1004, '맛있는/Adjective': 355, '시킬것/Verb': 594, '꿀맛/Noun': 145, '쓰는/Verb': 626, '고인다/Adjective': 75, '버렸으면/Verb': 457, '좋겠다/Adjective': 850, '부족한/Adjective': 490, '멤의/Verb': 419, '먹다/Verb': 396, '일/Modifier': 779, '반/Modifier': 450, '안질리고/Verb': 662, '깔끔함/Adjective': 140, '굳/Adjective': 90, '빼고/Verb': 529, '죄다/Adverb': 884, '이었음/Verb': 772, '먹으러/Verb': 407, '온/Modifier': 731, '좋아하시는/Adjective': 868, '진해라면/Adjective': 900, '있던데/Adjective': 795, '시켜/Verb': 584, '먹을수/Verb': 415, '있으면/Adjective': 805, '좋겠네요/Adjective': 849, '있다는게/Adjective': 794, '행복해요/Adjective': 1034, '단듯/Verb': 236, '하긴한데/Verb': 990, '친절하신/Adjective': 939, '맞/Verb': 372, '찾았는데/Verb': 924, '갑니다/Verb': 44, '없는듯/Adjective': 700, '스럽네요/Adjective': 577, '다신안/Verb': 235, '늦게/Verb': 223, '나오고/Verb': 159, '받았다고/Verb': 454, '따로/Adverb': 305, '시켰다고/Verb': 588, '그닥/Noun': 99, '찾아올만큼은/Verb': 923, '아님/Adjective': 641, '다녀와/Verb': 227, '남기/Verb': 178, '기는/Verb': 119, '바쁜/Adjective': 449, '이긴/Verb': 758, '짜증/Noun': 907, '내는/Verb': 191, '드신/Verb': 280, '함께/Adverb': 1018, '가서/Verb': 33, '불쾌한/Adjective': 503, '했더니/Verb': 1031, '그제야/Adverb': 115, '나도/Verb': 157, '나오는데/Verb': 162, '나온다/Verb': 163, '언/Modifier': 689, '스럽고/Adjective': 576, '비싼/Adjective': 520, '시키면/Verb': 592, '들고/Verb': 284, '가버림/Verb': 29, '오랫/Modifier': 728, '똑같이/Adverb': 320, '소/Modifier': 568, '끝났다/Verb': 150, '조아서/Adjective': 841, '남은것/Verb': 183, '모아서/Verb': 429, '담는거/Verb': 238, '최악/Noun': 932, '좋지/Adjective': 882, '함/Verb': 1017, '먹고나면/Verb': 387, '아쉬움/Noun': 646, '허전함/Adjective': 1036, '친절하고/Adjective': 937, '강추/Noun': 54, '잇어요/Verb': 787, '하면서/Verb': 999, '빠지지/Verb': 526, '대성공/Noun': 246, '먹었음/Verb': 404, '좋았을/Adjective': 875, '사먹는/Verb': 543, '좋았고/Adjective': 871, '되게/Adverb': 257, '들어있고/Verb': 298, '뿌려주셔서/Verb': 538, '곱니다/Adjective': 77, '갓/Modifier': 45, '임니당/Verb': 782, '굿/Noun': 91, '맛있/Adjective': 350, '먹고싶어서/Verb': 388, '찾아봤네요/Verb': 922, '좋아하는/Adjective': 864, '어마어마해요/Adjective': 683, '먹어야/Verb': 399, '먹었던/Verb': 401, '남깁니다/Verb': 180, '변하지/Adjective': 465, '않았다면/Verb': 671, '상당히/Adjective': 551, '사는데/Verb': 541, '들를려/Verb': 290, '떼기가/Verb': 318, '맛있는지/Adjective': 357, '좋아해요/Adjective': 870, '아쉬운/Adjective': 645, '눈물나게/Verb': 212, '나다/Verb': 156, '부르는/Verb': 487, '서야/Verb': 560, '되는게/Verb': 260, '아쉽당/Adjective': 650, '혜자/Noun': 1040, '맛있다/Adjective': 358, '맨날/Adverb': 383, '여기가는/Verb': 709, '외워서/Verb': 745, '딴데/Verb': 314, '사가서/Verb': 540, '봐요/Verb': 482, '그립습니다/Verb': 113, '따였음/Verb': 306, '오면/Verb': 729, '가봐/Verb': 32, '야하는/Adjective': 675, '시키지/Verb': 593, '무례해요/Adjective': 434, '여/Modifier': 708, '친절했어요/Adjective': 944, '하며/Verb': 997, '데려갔죠/Verb': 252, '세워도/Verb': 565, '했죠/Verb': 1033, '그런데/Conjunction': 107, '이상/Noun': 769, '하겠다고/Verb': 984, '무례하게/Adjective': 433, '끊어/Verb': 146, '버리네요/Verb': 459, '벌었으면/Verb': 463, '있어야죠/Adjective': 799, '불렀다는/Verb': 495, '나요/Eomi': 171, '아니라/Adjective': 634, '아닙니다/Adjective': 642, '영/Modifier': 719, '아니네요/Adjective': 631, '받고/Verb': 452, '불친절하네요/Adjective': 498, '작음/Adjective': 816, '안됨/Adjective': 659, '나왔었는데/Verb': 170, '되는지/Verb': 261, '없어지고/Verb': 704, '갈려면/Verb': 39, '될랑/Verb': 271, '가/Verb': 14, '모르겠네/Verb': 424, '부족할듯/Adjective': 491, '아쉽습니다/Adjective': 651, '작은거/Adjective': 814, '같고/Adjective': 57, '아쉽/Adjective': 648, '불편/Noun': 505, '였습니다/Verb': 717, '따라/Verb': 302, '적어서/Verb': 832, '대/Verb': 243, '맞는지/Verb': 375, '여쭤/Verb': 714, '맞다고/Verb': 376, '하시더라/Verb': 1002, '불친절하시고/Adjective': 500, '적고/Verb': 828, '불친절하고/Adjective': 497, '먹는지/Verb': 395, '모르겠습니다/Verb': 426, '안하는데/Verb': 663, '남겨요/Verb': 177, '아쉬워요/Adjective': 647, '있어요/Adjective': 800, '이쁩니당/Adjective': 768, '너무나/Adverb': 200, '귀찮게/Adjective': 95, '했는데도/Verb': 1030, '귀여워/Adjective': 94, '이쁘고/Adjective': 767, '어수선해/Adjective': 684, '보이기/Verb': 474, '있으면서도/Adjective': 806, '깨끗함/Adjective': 142, '편하고/Adjective': 973, '되어있고/Verb': 265, '차가/Adjective': 912, '예쁘게/Adjective': 722, '나옵니다/Verb': 165, '편안한/Adjective': 972, '많아/Adjective': 337, '될텐데/Verb': 272, '쳐/Verb': 927, '강함/Adjective': 55, '다녀오니/Verb': 226, '마시고/Verb': 323, '둘러보고/Verb': 276, '끊었던/Verb': 147, '궁금해/Adjective': 92, '갔었는데/Verb': 52, '실망한/Adjective': 602, '기대/Noun': 129, '버리지/Verb': 460, '않네요/Verb': 666, '비싸기두/Adjective': 513, '저/Modifier': 823, '할것/Verb': 1013, '다닌/Verb': 229, '였담/Verb': 716, '있을수도/Adjective': 809, '있겠다/Adjective': 788, '싶습니다/Verb': 611, '좋구요/Adjective': 855, '맛없고/Adjective': 349, '지저분해요/Adjective': 898, '내실은/Verb': 197, '뺐/Verb': 534, '나와서/Verb': 167, '깁니다/Verb': 136, '짜리/Verb': 906, '똑같습니다/Adjective': 319, '담겨/Verb': 237, '높이는/Verb': 208, '아니었으면/Adjective': 636, '이미/Adverb': 765, '망했을듯/Adjective': 371, '원/Modifier': 749, '가능함/Adjective': 24, '시키는데/Verb': 590, '물어보러/Verb': 438, '오고/Verb': 724, '날려/Verb': 175, '버리고/Verb': 458, '기다리게/Verb': 122, '해놓고/Verb': 1022, '갖다주고도/Verb': 56, '죄송하다는/Adjective': 885, '대단해요/Adjective': 245, '딱히/Adjective': 312, '임팩트/Noun': 783, '없거/Adjective': 693, '하다/Verb': 993, '헬/Noun': 1037, '평범하다고/Adjective': 974, '그렇다고/Conjunction': 111, '많더라고요/Adjective': 336, '미친/Adjective': 443, '내려오면/Verb': 192, '올라가요/Verb': 732, '맛있거든요/Adjective': 351, '찢어서/Verb': 911, '말아서/Verb': 346, '개존맛/Noun': 65, '휴/Exclamation': 1050, '만들어주세요/Verb': 329, '되도록/Verb': 262, '부탁드릴게요/Adjective': 492, '맛있어/Adjective': 361, '튀겨진/Verb': 963, '좋아하시네요/Adjective': 867, '없는거죠/Adjective': 699, '끓여/Verb': 148, '된다/Verb': 268, '뭐라고/Verb': 441, '짱/VerbPrefix': 909, '두꺼워서/Adjective': 275, '익은/Verb': 776, '있었습니다/Adjective': 802, '하게/Verb': 983, '먹으니/Verb': 406, '허전한데/Adjective': 1035, '줘서/Verb': 893, '빵터짐/Adjective': 528, '쏘인데/Verb': 622, '칼칼해서/Adjective': 947, '딱이에요/Adjective': 311, '퍽퍽/Noun': 971, '뺍니다/Verb': 533, '기대하고/Adjective': 130, '깔끔한/Adjective': 139, '멀고/Adjective': 417, '저렴했으면/Adjective': 827, '먹을라고/Verb': 413, '싸구리/Verb': 615, '써서/Verb': 619, '하는데/Verb': 992, '차가와/Adjective': 913, '내리는/Verb': 196, '본다/Verb': 480, '내년/Noun': 190, '는/Verb': 220, '먹는것만큼/Verb': 391, '짜긴/Verb': 905, '웨이팅/Noun': 751, '들어가는듯/Verb': 293, '칼칼한/Adjective': 946, '매운/Adjective': 382, '타/Modifier': 955, '들있는/Verb': 300, '어울려요/Verb': 685, '하지도/Verb': 1007, '않는/Verb': 667, '해놓은/Verb': 1023, '나네요/Verb': 155, '가고싶어요/Verb': 19, '지나쳤는데/Verb': 896, '맛있어서/Adjective': 362, '사왔어요/Verb': 546, '멀지만/Adjective': 418, '하고싶은/Verb': 987, '아니든/Adjective': 633, '크하는게/Verb': 953, '가게안에서/Verb': 15, '쓰고/Verb': 625, '팔아서/Verb': 969, '그/Modifier': 97, '니/Modifier': 224, '따라다니면서/Verb': 303, '권하는데/Verb': 93, '많지/Adjective': 344, '아니다/Adjective': 632, '사먹을만한/Verb': 544, '건네주면서/Verb': 66, '대단함/Adjective': 244, '살수/Verb': 547, '만든/Verb': 327, '들려/Verb': 288, '봐야/Verb': 481, '못지않음/Adjective': 432, '비싼데다/Adjective': 521, '분명/Noun': 493}\n"
     ]
    }
   ],
   "source": [
    "print(str(index_vectorizer.vocabulary_))"
   ]
  },
  {
   "cell_type": "code",
   "execution_count": 27,
   "id": "35710b6e",
   "metadata": {},
   "outputs": [],
   "source": [
    "from sklearn.feature_extraction.text import TfidfTransformer\n",
    "\n",
    "# TF-IDF 방법\n",
    "# 형태소를학습 데이터셋으로 변환\n",
    "tfidf_vectorizer = TfidfTransformer()\n",
    "X = tfidf_vectorizer.fit_transform(X)"
   ]
  },
  {
   "cell_type": "code",
   "execution_count": 28,
   "id": "e749abe6",
   "metadata": {},
   "outputs": [
    {
     "data": {
      "text/plain": [
       "1    163\n",
       "0     81\n",
       "Name: y, dtype: int64"
      ]
     },
     "execution_count": 28,
     "metadata": {},
     "output_type": "execute_result"
    }
   ],
   "source": [
    "df['y'].value_counts()"
   ]
  },
  {
   "cell_type": "code",
   "execution_count": 29,
   "id": "6667f0aa",
   "metadata": {},
   "outputs": [],
   "source": [
    "df = df.reset_index(drop = True, inplace = False)"
   ]
  },
  {
   "cell_type": "code",
   "execution_count": 30,
   "id": "75c0b06b",
   "metadata": {},
   "outputs": [
    {
     "data": {
      "text/plain": [
       "(244, 1055)"
      ]
     },
     "execution_count": 30,
     "metadata": {},
     "output_type": "execute_result"
    }
   ],
   "source": [
    "X.shape"
   ]
  },
  {
   "cell_type": "code",
   "execution_count": 31,
   "id": "a63bad97",
   "metadata": {},
   "outputs": [],
   "source": [
    "# y.shape #y is not defined"
   ]
  },
  {
   "cell_type": "code",
   "execution_count": 32,
   "id": "1c332eb0",
   "metadata": {},
   "outputs": [],
   "source": [
    "from sklearn.model_selection import train_test_split\n",
    "import random\n",
    "# positive_random_idx = df[df['y'] == 1].sample(163, random_state = 10, replace=True).index.tolist()\n",
    "# negative_random_idx = df[df['y'] == 0].sample(81, random_state = 10, replace=True).index.tolist()\n",
    "\n",
    "\n",
    "# random_idx = positive_random_idx + negative_random_idx\n",
    "# print(random_idx)\n",
    "# sample_X = X[random_idx, :]\n",
    "y = df['y'] # [random_idx]\n",
    "random.shuffle(y)"
   ]
  },
  {
   "cell_type": "code",
   "execution_count": 33,
   "id": "d323637b",
   "metadata": {},
   "outputs": [
    {
     "data": {
      "text/plain": [
       "(244,)"
      ]
     },
     "execution_count": 33,
     "metadata": {},
     "output_type": "execute_result"
    }
   ],
   "source": [
    "y.shape"
   ]
  },
  {
   "cell_type": "code",
   "execution_count": 56,
   "id": "e2872e11",
   "metadata": {},
   "outputs": [
    {
     "name": "stdout",
     "output_type": "stream",
     "text": [
      "(207, 1055)\n",
      "(37, 1055)\n"
     ]
    }
   ],
   "source": [
    "x_train, x_test, y_train, y_test = train_test_split(X, y, test_size=0.15, random_state = 77)\n",
    "print(x_train.shape)\n",
    "print(x_test.shape)"
   ]
  },
  {
   "cell_type": "code",
   "execution_count": null,
   "id": "15c5508d",
   "metadata": {},
   "outputs": [],
   "source": []
  },
  {
   "cell_type": "code",
   "execution_count": 57,
   "id": "f9759913",
   "metadata": {},
   "outputs": [],
   "source": [
    "from sklearn.model_selection import cross_val_score\n",
    "from sklearn.ensemble import RandomForestClassifier\n",
    "from sklearn import svm, metrics, model_selection\n",
    "\n",
    "# rf = RandomForestClassifier(random_state = 1)\n",
    "rf = svm.SVC()\n",
    "score_list = cross_val_score(rf, X, y, cv = 10)"
   ]
  },
  {
   "cell_type": "code",
   "execution_count": 58,
   "id": "5038f78f",
   "metadata": {},
   "outputs": [
    {
     "name": "stdout",
     "output_type": "stream",
     "text": [
      "['0.64', '0.68', '0.68', '0.64', '0.67', '0.67', '0.67', '0.67', '0.67', '0.67']\n"
     ]
    }
   ],
   "source": [
    "result = list(map(lambda x: '{score:.2f}'.format(score = x), score_list))\n",
    "print(result)"
   ]
  },
  {
   "cell_type": "code",
   "execution_count": 59,
   "id": "c262acc9",
   "metadata": {},
   "outputs": [
    {
     "name": "stdout",
     "output_type": "stream",
     "text": [
      "평균 정답률 =  0.664\n"
     ]
    }
   ],
   "source": [
    "print(\"평균 정답률 = \", sum(score_list) / len(score_list))"
   ]
  },
  {
   "cell_type": "code",
   "execution_count": 60,
   "id": "2a972b2e",
   "metadata": {},
   "outputs": [],
   "source": [
    "# validation_scores = []\n",
    "\n",
    "# k = 10\n",
    "# bins = 212 // k # (1) bins : 한 폴드에 들어갈 샘플의 개수\n",
    "\n",
    "# for i in range(k) :\n",
    "\n",
    "#   # (2) 검증 폴드 생성\n",
    "#   start = i*bins\n",
    "#   end = (i+1)*bins\n",
    "#   val_fold = x_train[start:end]\n",
    "#   val_target = y_train[start:end]\n",
    "\n",
    "#   # (3) 훈련 폴드 생성\n",
    "#   train_index = list(range(0,start)) + list(range(end,212))\n",
    "#   train_fold = x_train[train_index]\n",
    "#   train_target = y_train[train_index]\n",
    "\n",
    "#   # (4) 훈련폴드 및 검증폴드 전처리\n",
    "#   train_mean = np.mean(train_fold, axis=0)\n",
    "#   train_std = np.std(train_fold, axis=0)\n",
    "#   train_fold_scaled = (train_fold - train_mean) / train_std\n",
    "#   val_fold_scaled = (val_fold - train_mean) / train_std\n",
    "\n",
    "#   lyr = SingleLayer(l2=0.001)\n",
    "#   lyr.fit(train_fold_scaled, train_target,epochs=100)\n",
    "#   score = lyr.score(val_fold_scaled, val_target)\n",
    "  \n",
    "#   #(5) 폴드별 성능 기록\n",
    "#   validation_scores.append(score)"
   ]
  },
  {
   "cell_type": "code",
   "execution_count": 61,
   "id": "26403152",
   "metadata": {},
   "outputs": [
    {
     "name": "stdout",
     "output_type": "stream",
     "text": [
      "accuracy: 0.68\n",
      "Precision : 0.676\n",
      "Recall : 1.000\n",
      "F1 : 0.806\n"
     ]
    }
   ],
   "source": [
    "from sklearn.linear_model import LogisticRegression\n",
    "from sklearn.metrics import accuracy_score, precision_score, recall_score, f1_score\n",
    "\n",
    "# 로지스틱 회귀모델\n",
    "lr = LogisticRegression(random_state=0)\n",
    "lr.fit(x_train, y_train)\n",
    "y_pred = lr.predict(x_test)\n",
    "y_pred_probability = lr.predict_proba(x_test)[:,1]\n",
    "\n",
    "# 성능 평가\n",
    "print(\"accuracy: %.2f\" % accuracy_score(y_test, y_pred))\n",
    "print(\"Precision : %.3f\" % precision_score(y_test, y_pred))\n",
    "print(\"Recall : %.3f\" % recall_score(y_test, y_pred))\n",
    "print(\"F1 : %.3f\" % f1_score(y_test, y_pred))"
   ]
  },
  {
   "cell_type": "code",
   "execution_count": 62,
   "id": "965b0bad",
   "metadata": {},
   "outputs": [],
   "source": [
    "coef_pos_index = sorted(((value, index) for index, value in enumerate(lr.coef_[0])), reverse=True)"
   ]
  },
  {
   "cell_type": "code",
   "execution_count": 63,
   "id": "d6c40f9e",
   "metadata": {},
   "outputs": [
    {
     "name": "stdout",
     "output_type": "stream",
     "text": [
      "{347: '맛/Noun', 174: '난건/Noun', 730: '오전/Noun', 977: '품절/Noun', 34: '가성/Noun', 511: '비는/Verb', 883: ..\n"
     ]
    }
   ],
   "source": [
    "invert_index_vectorizer = {v: k for k, v in index_vectorizer.vocabulary_.items()}\n",
    "print(str(invert_index_vectorizer)[:100]+'..')"
   ]
  },
  {
   "cell_type": "code",
   "execution_count": 64,
   "id": "8dd54ea3",
   "metadata": {},
   "outputs": [
    {
     "name": "stdout",
     "output_type": "stream",
     "text": [
      "기다림/Noun 0.7085642504410312\n",
      "좀/Noun 0.6202000448358057\n",
      "서비스/Noun 0.4833220863320478\n",
      "이런/Modifier 0.36507197591481844\n",
      "별로/Noun 0.3606640771773122\n",
      "가격/Noun 0.34465645525998306\n",
      "괜찮은/Adjective 0.3413880878004461\n",
      "너무/Adverb 0.3369871581676453\n",
      "추천/Noun 0.33594143911806906\n",
      "존맛/Noun 0.33059684356788344\n",
      "근데/Adverb 0.3289672798630903\n",
      "친절합니다/Adjective 0.3249849492578755\n",
      "좋다/Adjective 0.321884379649418\n",
      "친절하신/Adjective 0.30561787568335547\n",
      "ㅎㅎㅎㅎ/KoreanParticle 0.30561787568335547\n",
      "먹었는데/Verb 0.29738355999901445\n",
      "하시는/Verb 0.2843463634139457\n",
      "좋음/Adjective 0.27065077574540375\n",
      "끝났다/Verb 0.2703567480259844\n",
      "많음/Adjective 0.2679314504192879\n"
     ]
    }
   ],
   "source": [
    "for coef in coef_pos_index[:20]:\n",
    "    print(invert_index_vectorizer[coef[1]], coef[0])"
   ]
  },
  {
   "cell_type": "code",
   "execution_count": 65,
   "id": "dfa55d6b",
   "metadata": {},
   "outputs": [
    {
     "name": "stdout",
     "output_type": "stream",
     "text": [
      "좋아서/Adjective -0.39220385601297963\n",
      "맛집/Noun -0.40068464753016697\n",
      "시키지/Verb -0.4056698578442875\n",
      "좋고/Adjective -0.4076695217886233\n",
      "만족/Noun -0.40800223066958574\n",
      "잇게/Verb -0.4105293320991558\n",
      "소/Modifier -0.4264487694097183\n",
      "저렴한/Adjective -0.4331345253443228\n",
      "예뻐요/Adjective -0.43580154803026677\n",
      "이쁘고/Adjective -0.4397981035818312\n",
      "깔끔하고/Adjective -0.44965974870470776\n",
      "하면/Verb -0.457830267193406\n",
      "두/Determiner -0.460492054080525\n",
      "친절하고/Adjective -0.4765195631191979\n",
      "괜찮습니다/Adjective -0.5139619692319809\n",
      "좋아해요/Adjective -0.5443950891733853\n",
      "업음/Verb -0.5443950891733853\n",
      "아쉽네요/Adjective -0.5494237596442767\n",
      "이/Determiner -0.5947905048987491\n",
      "맛있어요/Adjective -0.7618130125993119\n"
     ]
    }
   ],
   "source": [
    "for coef in coef_pos_index[-20:]:\n",
    "    print(invert_index_vectorizer[coef[1]], coef[0])"
   ]
  },
  {
   "cell_type": "code",
   "execution_count": 67,
   "id": "32638f42",
   "metadata": {},
   "outputs": [],
   "source": [
    "from sklearn.neighbors import KNeighborsClassifier\n",
    "from sklearn.tree import DecisionTreeClassifier\n",
    "from sklearn.ensemble import RandomForestClassifier\n",
    "from sklearn.naive_bayes import GaussianNB\n",
    "from sklearn.svm import SVC\n",
    "\n",
    "import numpy as np"
   ]
  },
  {
   "cell_type": "code",
   "execution_count": 68,
   "id": "a6d89fc6",
   "metadata": {},
   "outputs": [],
   "source": [
    "from sklearn.model_selection import KFold\n",
    "from sklearn.model_selection import cross_val_score\n",
    "k_fold = KFold(n_splits=10, shuffle=True, random_state=0)\n"
   ]
  },
  {
   "cell_type": "code",
   "execution_count": 69,
   "id": "7b220010",
   "metadata": {},
   "outputs": [
    {
     "name": "stdout",
     "output_type": "stream",
     "text": [
      "[0.76       0.52       0.68       0.64       0.5        0.625\n",
      " 0.70833333 0.58333333 0.79166667 0.75      ]\n"
     ]
    }
   ],
   "source": [
    "clf = KNeighborsClassifier(n_neighbors = 10)\n",
    "scoring = 'accuracy'\n",
    "score = cross_val_score(clf, X, y, cv=k_fold, n_jobs=1, scoring=scoring)\n",
    "print(score)"
   ]
  },
  {
   "cell_type": "code",
   "execution_count": 70,
   "id": "6e87e20a",
   "metadata": {},
   "outputs": [
    {
     "data": {
      "text/plain": [
       "65.58"
      ]
     },
     "execution_count": 70,
     "metadata": {},
     "output_type": "execute_result"
    }
   ],
   "source": [
    "# kNN Score\n",
    "round(np.mean(score)*100, 2)"
   ]
  },
  {
   "cell_type": "code",
   "execution_count": 71,
   "id": "452edb2f",
   "metadata": {},
   "outputs": [
    {
     "name": "stdout",
     "output_type": "stream",
     "text": [
      "[0.6        0.48       0.56       0.52       0.54166667 0.58333333\n",
      " 0.66666667 0.58333333 0.66666667 0.625     ]\n"
     ]
    }
   ],
   "source": [
    "#사이킷런에 있음\n",
    "clf = DecisionTreeClassifier()\n",
    "scoring = 'accuracy'\n",
    "score = cross_val_score(clf, X, y, cv=k_fold, n_jobs=1, scoring=scoring)\n",
    "print(score)"
   ]
  },
  {
   "cell_type": "code",
   "execution_count": 72,
   "id": "b3d06508",
   "metadata": {},
   "outputs": [
    {
     "data": {
      "text/plain": [
       "58.27"
      ]
     },
     "execution_count": 72,
     "metadata": {},
     "output_type": "execute_result"
    }
   ],
   "source": [
    "# decision tree Score\n",
    "round(np.mean(score)*100, 2)"
   ]
  },
  {
   "cell_type": "code",
   "execution_count": 73,
   "id": "186c237f",
   "metadata": {},
   "outputs": [
    {
     "name": "stdout",
     "output_type": "stream",
     "text": [
      "[0.72       0.56       0.6        0.64       0.5        0.58333333\n",
      " 0.66666667 0.625      0.83333333 0.66666667]\n"
     ]
    }
   ],
   "source": [
    "clf = RandomForestClassifier(n_estimators=13)\n",
    "scoring = 'accuracy'\n",
    "score = cross_val_score(clf, X, y, cv=k_fold, n_jobs=1, scoring=scoring)\n",
    "print(score)"
   ]
  },
  {
   "cell_type": "code",
   "execution_count": 74,
   "id": "14c0b80d",
   "metadata": {},
   "outputs": [
    {
     "data": {
      "text/plain": [
       "63.95"
      ]
     },
     "execution_count": 74,
     "metadata": {},
     "output_type": "execute_result"
    }
   ],
   "source": [
    "# Random Forest Score\n",
    "round(np.mean(score)*100, 2)"
   ]
  },
  {
   "cell_type": "code",
   "execution_count": 75,
   "id": "fee9f688",
   "metadata": {},
   "outputs": [
    {
     "name": "stdout",
     "output_type": "stream",
     "text": [
      "[nan nan nan nan nan nan nan nan nan nan]\n"
     ]
    }
   ],
   "source": [
    "clf = GaussianNB()\n",
    "scoring = 'accuracy'\n",
    "score = cross_val_score(clf, X, y, cv=k_fold, n_jobs=1, scoring=scoring)\n",
    "print(score)"
   ]
  },
  {
   "cell_type": "code",
   "execution_count": 76,
   "id": "019f971c",
   "metadata": {},
   "outputs": [
    {
     "name": "stdout",
     "output_type": "stream",
     "text": [
      "[0.76       0.56       0.68       0.64       0.5        0.625\n",
      " 0.70833333 0.625      0.83333333 0.75      ]\n"
     ]
    }
   ],
   "source": [
    "clf = SVC()\n",
    "scoring = 'accuracy'\n",
    "score = cross_val_score(clf, X, y, cv=k_fold, n_jobs=1, scoring=scoring)\n",
    "print(score)"
   ]
  },
  {
   "cell_type": "code",
   "execution_count": 77,
   "id": "ff40193f",
   "metadata": {},
   "outputs": [
    {
     "data": {
      "text/plain": [
       "66.82"
      ]
     },
     "execution_count": 77,
     "metadata": {},
     "output_type": "execute_result"
    }
   ],
   "source": [
    "round(np.mean(score)*100,2)"
   ]
  },
  {
   "cell_type": "code",
   "execution_count": null,
   "id": "beb78b90",
   "metadata": {},
   "outputs": [],
   "source": []
  },
  {
   "cell_type": "code",
   "execution_count": null,
   "id": "17c52993",
   "metadata": {},
   "outputs": [],
   "source": []
  }
 ],
 "metadata": {
  "kernelspec": {
   "display_name": "sseun",
   "language": "python",
   "name": "seun"
  },
  "language_info": {
   "codemirror_mode": {
    "name": "ipython",
    "version": 3
   },
   "file_extension": ".py",
   "mimetype": "text/x-python",
   "name": "python",
   "nbconvert_exporter": "python",
   "pygments_lexer": "ipython3",
   "version": "3.7.10"
  }
 },
 "nbformat": 4,
 "nbformat_minor": 5
}
