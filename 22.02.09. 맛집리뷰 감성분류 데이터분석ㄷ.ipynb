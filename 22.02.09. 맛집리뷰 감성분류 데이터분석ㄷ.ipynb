{
 "cells": [
  {
   "cell_type": "markdown",
   "id": "10ed54ce",
   "metadata": {},
   "source": [
    "## 분류 모델의 가장 대표적인 활용방법중 하나 - 감성분류\n",
    "## : 문서를 긍정의견 또는 부정의견으로 나누어 분류하는 것"
   ]
  },
  {
   "cell_type": "markdown",
   "id": "77c50527",
   "metadata": {},
   "source": [
    "## 크롤링 : 카카오맵 리뷰 크롤링"
   ]
  },
  {
   "cell_type": "code",
   "execution_count": 1,
   "id": "f1ee4d1d",
   "metadata": {},
   "outputs": [],
   "source": [
    "%matplotlib inline\n",
    "\n",
    "import pandas as pd\n",
    "import numpy as np\n",
    "import matplotlib.pyplot as plt\n",
    "import seaborn as sns\n",
    "\n",
    "import warnings\n",
    "warnings.filterwarnings(\"ignore\")"
   ]
  },
  {
   "cell_type": "code",
   "execution_count": 2,
   "id": "b4fde534",
   "metadata": {},
   "outputs": [
    {
     "name": "stdout",
     "output_type": "stream",
     "text": [
      "https://place.map.kakao.com/1085488633\n",
      "https://place.map.kakao.com/19330674\n",
      "https://place.map.kakao.com/1599632752\n",
      "https://place.map.kakao.com/27154260\n",
      "https://place.map.kakao.com/735521393\n",
      "https://place.map.kakao.com/507020973\n",
      "https://place.map.kakao.com/857802777\n",
      "https://place.map.kakao.com/1917702756\n",
      "https://place.map.kakao.com/15593460\n",
      "https://place.map.kakao.com/1516841254\n",
      "https://place.map.kakao.com/1084834928\n",
      "https://place.map.kakao.com/27349634\n",
      "https://place.map.kakao.com/1273859522\n",
      "https://place.map.kakao.com/25689633\n",
      "https://place.map.kakao.com/2101929906\n"
     ]
    }
   ],
   "source": [
    "from selenium import webdriver\n",
    "from bs4 import BeautifulSoup\n",
    "import re\n",
    "import time\n",
    "\n",
    "excutable_path = 'C:/Users/Flora/chromedriver.exe'\n",
    "\n",
    "source_url = \"https://map.kakao.com/\"\n",
    "\n",
    "driver = webdriver.Chrome(executable_path=excutable_path)\n",
    "driver.get(source_url)\n",
    "\n",
    "searchbox = driver.find_element_by_xpath(\"//input[@id='search.keyword.query']\")\n",
    "searchbox.send_keys(\"사림동 파스타\") #검색창 이용\n",
    "\n",
    "searchbutton = driver.find_element_by_xpath(\"//button[@id='search.keyword.submit']\") #검색버튼 누름\n",
    "driver.execute_script(\"arguments[0].click();\", searchbutton)\n",
    "\n",
    "time.sleep(2) #기다리기\n",
    "\n",
    "html = driver.page_source #결과소스\n",
    "\n",
    "soup = BeautifulSoup(html, \"html.parser\")\n",
    "moreviews = soup.find_all(name=\"a\", attrs={\"class\":\"moreview\"})\n",
    "\n",
    "page_urls = []\n",
    "for moreview in moreviews:\n",
    "    page_url = moreview.get(\"href\")\n",
    "    print(page_url)\n",
    "    page_urls.append(page_url)\n",
    "\n",
    "driver.close()"
   ]
  },
  {
   "cell_type": "code",
   "execution_count": 3,
   "id": "95868ec7",
   "metadata": {},
   "outputs": [],
   "source": [
    "columns = ['score', 'review']\n",
    "df = pd.DataFrame(columns=columns)\n",
    "\n",
    "driver = webdriver.Chrome(executable_path=excutable_path)  # for Windows\n",
    "for page_url in page_urls:\n",
    "    \n",
    "    driver.get(page_url) #상세보기 페이지\n",
    "    time.sleep(2)\n",
    "    \n",
    "    html = driver.page_source #첫페이지\n",
    "    soup = BeautifulSoup(html, 'html.parser')\n",
    "    contents_div = soup.find(name=\"div\", attrs={\"class\":\"evaluation_review\"})\n",
    "    \n",
    "    #별점\n",
    "    rates = contents_div.find_all(name=\"em\", attrs={\"class\":\"num_rate\"})\n",
    "    \n",
    "    #리뷰\n",
    "    reviews = contents_div.find_all(name=\"p\", attrs={\"class\":\"txt_comment\"})\n",
    "    \n",
    "    for rate, review in zip(rates, reviews):\n",
    "        row = [rate.text[0], review.find(name=\"span\").text]\n",
    "        series = pd.Series(row, index=df.columns)\n",
    "        df = df.append(series, ignore_index=True)\n",
    "    \n",
    "    for button_num in range(2, 6):\n",
    "        try:\n",
    "            another_reviews = driver.find_element_by_xpath(\"//a[@data-page='\" + str(button_num) + \"']\")\n",
    "            another_reviews.click()\n",
    "            time.sleep(2)\n",
    "            \n",
    "            #리뷰페이지\n",
    "            html = driver.page_source\n",
    "            soup = BeautifulSoup(html, 'html.parser')\n",
    "            contents_div = soup.find(name=\"div\", attrs={\"class\":\"evaluation_review\"})\n",
    "\n",
    "            #별점\n",
    "            rates = contents_div.find_all(name=\"em\", attrs={\"class\":\"num_rate\"})\n",
    "\n",
    "            #리뷰\n",
    "            reviews = contents_div.find_all(name=\"p\", attrs={\"class\":\"txt_comment\"})\n",
    "\n",
    "            for rate, review in zip(rates, reviews):\n",
    "                row = [rate.text[0], review.find(name=\"span\").text]\n",
    "                series = pd.Series(row, index=df.columns)\n",
    "                df = df.append(series, ignore_index=True)\n",
    "        except:\n",
    "            break    \n",
    "driver.close()"
   ]
  },
  {
   "cell_type": "code",
   "execution_count": 4,
   "id": "12017332",
   "metadata": {},
   "outputs": [
    {
     "name": "stdout",
     "output_type": "stream",
     "text": [
      "(51, 3)\n"
     ]
    },
    {
     "data": {
      "text/html": [
       "<div>\n",
       "<style scoped>\n",
       "    .dataframe tbody tr th:only-of-type {\n",
       "        vertical-align: middle;\n",
       "    }\n",
       "\n",
       "    .dataframe tbody tr th {\n",
       "        vertical-align: top;\n",
       "    }\n",
       "\n",
       "    .dataframe thead th {\n",
       "        text-align: right;\n",
       "    }\n",
       "</style>\n",
       "<table border=\"1\" class=\"dataframe\">\n",
       "  <thead>\n",
       "    <tr style=\"text-align: right;\">\n",
       "      <th></th>\n",
       "      <th>score</th>\n",
       "      <th>review</th>\n",
       "      <th>y</th>\n",
       "    </tr>\n",
       "  </thead>\n",
       "  <tbody>\n",
       "    <tr>\n",
       "      <th>0</th>\n",
       "      <td>5</td>\n",
       "      <td>맛있었어요. 웨이팅이 꽤 있어요</td>\n",
       "      <td>1</td>\n",
       "    </tr>\n",
       "    <tr>\n",
       "      <th>1</th>\n",
       "      <td>5</td>\n",
       "      <td>파스타 리조또 맛있어요.</td>\n",
       "      <td>1</td>\n",
       "    </tr>\n",
       "    <tr>\n",
       "      <th>2</th>\n",
       "      <td>5</td>\n",
       "      <td></td>\n",
       "      <td>1</td>\n",
       "    </tr>\n",
       "    <tr>\n",
       "      <th>3</th>\n",
       "      <td>5</td>\n",
       "      <td>소문대로 맛있어용</td>\n",
       "      <td>1</td>\n",
       "    </tr>\n",
       "    <tr>\n",
       "      <th>4</th>\n",
       "      <td>5</td>\n",
       "      <td></td>\n",
       "      <td>1</td>\n",
       "    </tr>\n",
       "  </tbody>\n",
       "</table>\n",
       "</div>"
      ],
      "text/plain": [
       "  score              review  y\n",
       "0     5  맛있었어요. 웨이팅이 꽤 있어요   1\n",
       "1     5       파스타 리조또 맛있어요.  1\n",
       "2     5                      1\n",
       "3     5           소문대로 맛있어용  1\n",
       "4     5                      1"
      ]
     },
     "execution_count": 4,
     "metadata": {},
     "output_type": "execute_result"
    }
   ],
   "source": [
    "# 4점 이상의 리뷰는 긍정 리뷰, 3점 이하의 리뷰는 부정 리뷰\n",
    "df['y'] = df['score'].apply(lambda x: 1 if float(x) > 3 else 0)\n",
    "print(df.shape)\n",
    "df.head()"
   ]
  },
  {
   "cell_type": "code",
   "execution_count": 5,
   "id": "1f6427ba",
   "metadata": {},
   "outputs": [],
   "source": [
    "df.to_csv(\"review_data.csv\", index=False)"
   ]
  },
  {
   "cell_type": "markdown",
   "id": "6c745d67",
   "metadata": {},
   "source": [
    "# 텍스트 전처리 :  분류모델 피처로 변환하기"
   ]
  },
  {
   "cell_type": "code",
   "execution_count": 6,
   "id": "a46f06a2",
   "metadata": {},
   "outputs": [],
   "source": [
    "df = pd.read_csv(\"review_data.csv\")"
   ]
  },
  {
   "cell_type": "code",
   "execution_count": 7,
   "id": "e6b7399b",
   "metadata": {},
   "outputs": [],
   "source": [
    "import re\n",
    "\n",
    "def text_cleaning(text): #한글만 추출\n",
    "    hangul = re.compile('[^ ㄱ-ㅣ가-힣]+')\n",
    "    result = hangul.sub('',str(text)) #str 안해줘서 실행 안됐었음\n",
    "    return result"
   ]
  },
  {
   "cell_type": "code",
   "execution_count": 8,
   "id": "96c5e30a",
   "metadata": {},
   "outputs": [
    {
     "data": {
      "text/html": [
       "<div>\n",
       "<style scoped>\n",
       "    .dataframe tbody tr th:only-of-type {\n",
       "        vertical-align: middle;\n",
       "    }\n",
       "\n",
       "    .dataframe tbody tr th {\n",
       "        vertical-align: top;\n",
       "    }\n",
       "\n",
       "    .dataframe thead th {\n",
       "        text-align: right;\n",
       "    }\n",
       "</style>\n",
       "<table border=\"1\" class=\"dataframe\">\n",
       "  <thead>\n",
       "    <tr style=\"text-align: right;\">\n",
       "      <th></th>\n",
       "      <th>score</th>\n",
       "      <th>y</th>\n",
       "      <th>ko_text</th>\n",
       "    </tr>\n",
       "  </thead>\n",
       "  <tbody>\n",
       "    <tr>\n",
       "      <th>0</th>\n",
       "      <td>5</td>\n",
       "      <td>1</td>\n",
       "      <td>맛있었어요 웨이팅이 꽤 있어요</td>\n",
       "    </tr>\n",
       "    <tr>\n",
       "      <th>1</th>\n",
       "      <td>5</td>\n",
       "      <td>1</td>\n",
       "      <td>파스타 리조또 맛있어요</td>\n",
       "    </tr>\n",
       "    <tr>\n",
       "      <th>3</th>\n",
       "      <td>5</td>\n",
       "      <td>1</td>\n",
       "      <td>소문대로 맛있어용</td>\n",
       "    </tr>\n",
       "    <tr>\n",
       "      <th>5</th>\n",
       "      <td>5</td>\n",
       "      <td>1</td>\n",
       "      <td>진짜 리얼 이탈리안가정식 인테리어도 예쁘고 무엇보다도 너무 맛있어요 재방문 의사 퍼</td>\n",
       "    </tr>\n",
       "    <tr>\n",
       "      <th>7</th>\n",
       "      <td>5</td>\n",
       "      <td>1</td>\n",
       "      <td>버섯샐러드 맛있음</td>\n",
       "    </tr>\n",
       "  </tbody>\n",
       "</table>\n",
       "</div>"
      ],
      "text/plain": [
       "   score  y                                         ko_text\n",
       "0      5  1                               맛있었어요 웨이팅이 꽤 있어요 \n",
       "1      5  1                                    파스타 리조또 맛있어요\n",
       "3      5  1                                       소문대로 맛있어용\n",
       "5      5  1  진짜 리얼 이탈리안가정식 인테리어도 예쁘고 무엇보다도 너무 맛있어요 재방문 의사 퍼\n",
       "7      5  1                                       버섯샐러드 맛있음"
      ]
     },
     "execution_count": 8,
     "metadata": {},
     "output_type": "execute_result"
    }
   ],
   "source": [
    "df = pd.read_csv(\"review_data.csv\")\n",
    "df['ko_text'] = df['review'].apply(lambda x: text_cleaning(x))\n",
    "del df['review']\n",
    "\n",
    "df = df[df['ko_text'].str.len() > 0]\n",
    "df.head()"
   ]
  },
  {
   "cell_type": "markdown",
   "id": "1eb33d2a",
   "metadata": {},
   "source": [
    "## 형태소 단위의 추출함수 정의하기"
   ]
  },
  {
   "cell_type": "code",
   "execution_count": 9,
   "id": "d8eb51f8",
   "metadata": {},
   "outputs": [
    {
     "name": "stdout",
     "output_type": "stream",
     "text": [
      "['맛있었어요/Adjective', '웨이팅/Noun', '이/Josa', '꽤/Noun', '있어요/Adjective']\n"
     ]
    }
   ],
   "source": [
    "from konlpy.tag import Okt\n",
    "\n",
    "# konlpy 라이브러리로 텍스트데이터에서 형태소 추출\n",
    "\n",
    "def get_pos(x):\n",
    "    tagger = Okt()\n",
    "    pos = tagger.pos(x)\n",
    "    pos = ['{}/{}'.format(word, tag) for word, tag in pos]\n",
    "    return pos\n",
    "\n",
    "result = get_pos(df['ko_text'].values[0])\n",
    "print(result)\n",
    "\n",
    "#No JVM shared library file (jvm.dll) found. Try setting up the JAVA_HOME environment variable properly.오류떠서 자바 다시 설치하고 jvm.dll JAVA_HOME으로 환경설정 다시해서 해결"
   ]
  },
  {
   "cell_type": "code",
   "execution_count": 10,
   "id": "f9a6e9dd",
   "metadata": {},
   "outputs": [
    {
     "name": "stdout",
     "output_type": "stream",
     "text": [
      "(42, 433)\n"
     ]
    }
   ],
   "source": [
    "from sklearn.feature_extraction.text import CountVectorizer\n",
    "\n",
    "# 형태소를 벡터 형태의 학습 데이터셋(X 데이터)으로 변환합니다.\n",
    "index_vectorizer = CountVectorizer(tokenizer = lambda x: get_pos(x))\n",
    "X = index_vectorizer.fit_transform(df['ko_text'].tolist())\n",
    "print(X.shape)"
   ]
  },
  {
   "cell_type": "code",
   "execution_count": 11,
   "id": "66199051",
   "metadata": {},
   "outputs": [
    {
     "name": "stdout",
     "output_type": "stream",
     "text": [
      "{'맛있었어요/Adjective': 131, '웨이팅/Noun': 290, '이/Josa': 299, '꽤/Noun': 46, '있어요/Adjective': 321, '파스타/No..\n"
     ]
    }
   ],
   "source": [
    "print(str(index_vectorizer.vocabulary_)[:100]+\"..\")"
   ]
  },
  {
   "cell_type": "code",
   "execution_count": 12,
   "id": "2ceba52d",
   "metadata": {},
   "outputs": [
    {
     "name": "stdout",
     "output_type": "stream",
     "text": [
      "맛있었어요 웨이팅이 꽤 있어요 \n",
      "  (0, 131)\t1\n",
      "  (0, 290)\t1\n",
      "  (0, 299)\t1\n",
      "  (0, 46)\t1\n",
      "  (0, 321)\t1\n"
     ]
    }
   ],
   "source": [
    "print(df['ko_text'].values[0])\n",
    "print(X[0])"
   ]
  },
  {
   "cell_type": "code",
   "execution_count": 13,
   "id": "10550291",
   "metadata": {},
   "outputs": [],
   "source": [
    "from sklearn.feature_extraction.text import TfidfTransformer\n",
    "\n",
    "# TF-IDF 방법으로, 형태소를 벡터 형태의 학습 데이터셋(X 데이터)으로 변환합니다.\n",
    "tfidf_vectorizer = TfidfTransformer()\n",
    "X = tfidf_vectorizer.fit_transform(X)"
   ]
  },
  {
   "cell_type": "code",
   "execution_count": 14,
   "id": "d710b5f2",
   "metadata": {},
   "outputs": [
    {
     "name": "stdout",
     "output_type": "stream",
     "text": [
      "(42, 433)\n",
      "  (0, 321)\t0.49374071919988577\n",
      "  (0, 299)\t0.26655956699765954\n",
      "  (0, 290)\t0.44452930595626516\n",
      "  (0, 131)\t0.49374071919988577\n",
      "  (0, 46)\t0.49374071919988577\n"
     ]
    }
   ],
   "source": [
    "print(X.shape)\n",
    "print(X[0])"
   ]
  },
  {
   "cell_type": "markdown",
   "id": "a7bbabf5",
   "metadata": {},
   "source": [
    "# 분류 : 긍정/부정 리뷰 분류하기"
   ]
  },
  {
   "cell_type": "code",
   "execution_count": 26,
   "id": "e8a25dce",
   "metadata": {},
   "outputs": [
    {
     "name": "stdout",
     "output_type": "stream",
     "text": [
      "(29, 433)\n",
      "(13, 433)\n"
     ]
    }
   ],
   "source": [
    "from sklearn.model_selection import train_test_split\n",
    "\n",
    "# positive_random_idx = df[df['y'] == 1].sample(50, random_state = 30, replace = True).index.tolist()\n",
    "# negative_random_idx = df[df['y'] == 0].sample(50, random_state = 30, replace = True).index.tolist()\n",
    "\n",
    "# random_idx = positive_random_idx + negative_random_idx\n",
    "# sample_X = X[random_idx, :]\n",
    "# y = df['y'][random_idx]\n",
    "# x_train, x_test, y_train, y_test = train_test_split(X, y, test_size=0.30)\n",
    "# print(x_train.shape)\n",
    "# print(x_test.shape)\n",
    "\n",
    "y = df['y']\n",
    "x_train, x_test, y_train, y_test = train_test_split(X, y, test_size=0.30)\n",
    "print(x_train.shape)\n",
    "print(x_test.shape)"
   ]
  },
  {
   "cell_type": "code",
   "execution_count": 27,
   "id": "6818905a",
   "metadata": {},
   "outputs": [
    {
     "name": "stdout",
     "output_type": "stream",
     "text": [
      "accuracy: 0.62\n",
      "Precision : 0.615\n",
      "Recall : 1.000\n",
      "F1 : 0.762\n"
     ]
    }
   ],
   "source": [
    "from sklearn.linear_model import LogisticRegression\n",
    "from sklearn.metrics import accuracy_score, precision_score, recall_score, f1_score\n",
    "\n",
    "# 로지스틱 회귀모델을 학습합니다.\n",
    "lr = LogisticRegression(random_state=0)\n",
    "lr.fit(x_train, y_train)\n",
    "y_pred = lr.predict(x_test)\n",
    "y_pred_probability = lr.predict_proba(x_test)[:,1]\n",
    "\n",
    "# 로지스틱 회귀모델의 성능을 평가합니다.\n",
    "print(\"accuracy: %.2f\" % accuracy_score(y_test, y_pred))\n",
    "print(\"Precision : %.3f\" % precision_score(y_test, y_pred))\n",
    "print(\"Recall : %.3f\" % recall_score(y_test, y_pred))\n",
    "print(\"F1 : %.3f\" % f1_score(y_test, y_pred))"
   ]
  },
  {
   "cell_type": "code",
   "execution_count": 28,
   "id": "736413fe",
   "metadata": {},
   "outputs": [
    {
     "name": "stdout",
     "output_type": "stream",
     "text": [
      "[[0 5]\n",
      " [0 8]]\n"
     ]
    }
   ],
   "source": [
    "from sklearn.metrics import confusion_matrix\n",
    "\n",
    "# Confusion Matrix를 출력합니다.\n",
    "confmat = confusion_matrix(y_true=y_test, y_pred=y_pred)\n",
    "print(confmat)"
   ]
  },
  {
   "cell_type": "code",
   "execution_count": 29,
   "id": "0f440ee1",
   "metadata": {},
   "outputs": [
    {
     "data": {
      "text/plain": [
       "1    26\n",
       "0    16\n",
       "Name: y, dtype: int64"
      ]
     },
     "execution_count": 29,
     "metadata": {},
     "output_type": "execute_result"
    }
   ],
   "source": [
    "df['y'].value_counts()"
   ]
  },
  {
   "cell_type": "code",
   "execution_count": null,
   "id": "3a5027d2",
   "metadata": {},
   "outputs": [],
   "source": []
  },
  {
   "cell_type": "code",
   "execution_count": 30,
   "id": "a579e445",
   "metadata": {},
   "outputs": [
    {
     "name": "stdout",
     "output_type": "stream",
     "text": [
      "AUC : 0.950\n"
     ]
    },
    {
     "data": {
      "text/plain": [
       "<matplotlib.legend.Legend at 0x213a36876c8>"
      ]
     },
     "execution_count": 30,
     "metadata": {},
     "output_type": "execute_result"
    },
    {
     "data": {
      "image/png": "[encoded data removed]",
      "text/plain": [
       "<Figure size 360x288 with 1 Axes>"
      ]
     },
     "metadata": {
      "needs_background": "light"
     },
     "output_type": "display_data"
    }
   ],
   "source": [
    "from sklearn.metrics import roc_curve, roc_auc_score\n",
    "\n",
    "# AUC를 계산합니다.\n",
    "false_positive_rate, true_positive_rate, thresholds = roc_curve(y_test, y_pred_probability)\n",
    "roc_auc = roc_auc_score(y_test, y_pred_probability)\n",
    "print(\"AUC : %.3f\" % roc_auc)\n",
    "\n",
    "# ROC curve 그래프를 출력합니다.\n",
    "plt.rcParams['figure.figsize'] = [5, 4]\n",
    "plt.plot(false_positive_rate, true_positive_rate, label='ROC curve (area = %0.3f)' % roc_auc, \n",
    "         color='red', linewidth=4.0)\n",
    "plt.plot([0, 1], [0, 1], 'k--')\n",
    "plt.xlim([0.0, 1.0])\n",
    "plt.ylim([0.0, 1.0])\n",
    "plt.xlabel('False Positive Rate')\n",
    "plt.ylabel('True Positive Rate')\n",
    "plt.title('ROC curve of Logistic regression')   \n",
    "plt.legend(loc=\"lower right\")"
   ]
  },
  {
   "cell_type": "markdown",
   "id": "0d3a5a91",
   "metadata": {},
   "source": [
    "# 중요키워드 분석"
   ]
  },
  {
   "cell_type": "code",
   "execution_count": 31,
   "id": "932c838b",
   "metadata": {},
   "outputs": [
    {
     "data": {
      "text/plain": [
       "<BarContainer object of 433 artists>"
      ]
     },
     "execution_count": 31,
     "metadata": {},
     "output_type": "execute_result"
    },
    {
     "data": {
      "image/png": "[encoded data removed]",
      "text/plain": [
       "<Figure size 720x576 with 1 Axes>"
      ]
     },
     "metadata": {
      "needs_background": "light"
     },
     "output_type": "display_data"
    }
   ],
   "source": [
    "# 학습한 회귀 모델의 계수를 출력합니다.\n",
    "plt.rcParams['figure.figsize'] = [10, 8]\n",
    "plt.bar(range(len(lr.coef_[0])), lr.coef_[0])"
   ]
  },
  {
   "cell_type": "code",
   "execution_count": 32,
   "id": "08d63413",
   "metadata": {},
   "outputs": [
    {
     "name": "stdout",
     "output_type": "stream",
     "text": [
      "[(0.797174060132696, 128), (0.43074572658573623, 87), (0.34473742623739034, 113), (0.29253824468499307, 347), (0.2836321944942401, 160)]\n",
      "[(-0.27798870345069676, 250), (-0.28656776046012805, 50), (-0.30045036793321117, 35), (-0.30045036793321117, 32), (-0.36074041205718177, 57)]\n"
     ]
    }
   ],
   "source": [
    "print(sorted(((value, index) for index, value in enumerate(lr.coef_[0])), reverse=True)[:5])\n",
    "print(sorted(((value, index) for index, value in enumerate(lr.coef_[0])), reverse=True)[-5:])"
   ]
  },
  {
   "cell_type": "code",
   "execution_count": 33,
   "id": "b0cb7464",
   "metadata": {},
   "outputs": [],
   "source": [
    "coef_pos_index = sorted(((value, index) for index, value in enumerate(lr.coef_[0])), reverse=True)"
   ]
  },
  {
   "cell_type": "code",
   "execution_count": 34,
   "id": "1aea3bb7",
   "metadata": {},
   "outputs": [
    {
     "name": "stdout",
     "output_type": "stream",
     "text": [
      "{131: '맛있었어요/Adjective', 290: '웨이팅/Noun', 299: '이/Josa', 46: '꽤/Noun', 321: '있어요/Adjective', 397: '파..\n"
     ]
    }
   ],
   "source": [
    "invert_index_vectorizer = {v: k for k, v in index_vectorizer.vocabulary_.items()}\n",
    "print(str(invert_index_vectorizer)[:100]+'..')"
   ]
  },
  {
   "cell_type": "code",
   "execution_count": 35,
   "id": "01ce5e54",
   "metadata": {},
   "outputs": [
    {
     "name": "stdout",
     "output_type": "stream",
     "text": [
      "맛있어요/Adjective 0.797174060132696\n",
      "도/Josa 0.43074572658573623\n",
      "리조또/Noun 0.34473742623739034\n",
      "좋고/Adjective 0.29253824468499307\n",
      "버섯/Noun 0.2836321944942401\n",
      "크림/Noun 0.25191582360757353\n",
      "맛있음/Adjective 0.24267133230492696\n",
      "입니다/Adjective 0.19233497369390662\n",
      "소문/Noun 0.18781165577538136\n",
      "대로/Josa 0.18781165577538136\n",
      "맛있어용/Adjective 0.1690923631488617\n",
      "파스타/Noun 0.1681837121784114\n",
      "샐러드/Noun 0.16624527735969594\n",
      "존맛/Noun 0.16561751566709207\n",
      "있어요/Adjective 0.16336028882686948\n",
      "맛있었어요/Adjective 0.16336028882686948\n",
      "꽤/Noun 0.16336028882686948\n",
      "대/Modifier 0.15260890197874288\n",
      "창원/Noun 0.14431759111466974\n",
      "사림/Noun 0.14431759111466974\n"
     ]
    }
   ],
   "source": [
    "for coef in coef_pos_index[:20]:\n",
    "    print(invert_index_vectorizer[coef[1]], coef[0])"
   ]
  },
  {
   "cell_type": "code",
   "execution_count": 36,
   "id": "219c87a9",
   "metadata": {},
   "outputs": [
    {
     "name": "stdout",
     "output_type": "stream",
     "text": [
      "안/VerbPrefix -0.19471568808483133\n",
      "적고/Verb -0.20803303596976086\n",
      "비싸요/Adjective -0.20803303596976086\n",
      "맛있는데/Adjective -0.20803303596976086\n",
      "가/Josa -0.20988682432166922\n",
      "에/Josa -0.21154238057301447\n",
      "고/Josa -0.22293629304031035\n",
      "분/Noun -0.233805177642068\n",
      "하던데요/Verb -0.23470691747661024\n",
      "찾아갔다가/Verb -0.23470691747661024\n",
      "낭패/Noun -0.23470691747661024\n",
      "로제/Noun -0.23729439117665707\n",
      "정말/Noun -0.244560127580583\n",
      "토마토/Noun -0.24838146920824503\n",
      "맛/Noun -0.2570287908945516\n",
      "양/Noun -0.27798870345069676\n",
      "나서/Verb -0.28656776046012805\n",
      "그저/Adverb -0.30045036793321117\n",
      "그래요/Adjective -0.30045036793321117\n",
      "너무/Adverb -0.36074041205718177\n"
     ]
    }
   ],
   "source": [
    "for coef in coef_pos_index[-20:]:\n",
    "    print(invert_index_vectorizer[coef[1]], coef[0])"
   ]
  },
  {
   "cell_type": "code",
   "execution_count": null,
   "id": "c4df765a",
   "metadata": {},
   "outputs": [],
   "source": []
  }
 ],
 "metadata": {
  "kernelspec": {
   "display_name": "sseun",
   "language": "python",
   "name": "seun"
  },
  "language_info": {
   "codemirror_mode": {
    "name": "ipython",
    "version": 3
   },
   "file_extension": ".py",
   "mimetype": "text/x-python",
   "name": "python",
   "nbconvert_exporter": "python",
   "pygments_lexer": "ipython3",
   "version": "3.7.10"
  }
 },
 "nbformat": 4,
 "nbformat_minor": 5
}
